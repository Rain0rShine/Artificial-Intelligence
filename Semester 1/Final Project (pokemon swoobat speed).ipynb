{
 "cells": [
  {
   "cell_type": "markdown",
   "id": "c80b3b64",
   "metadata": {},
   "source": [
    "# Choose a Data Set\n",
    "Pick one of the following data sets to analyze for your final project. \n",
    "- [Cosmetics](https://drive.google.com/drive/folders/1qvmRfGb7a_pYAtgW6614gxlP-bxl_Ptz?usp=drive_link)\n",
    "- [Mental Health](https://drive.google.com/drive/folders/1YOp1aQVcmqlAkUEGHNPl_TyNXbY-xHwO?usp=drive_link)\n",
    "- [Pokemon](https://drive.google.com/drive/folders/1kDu2oRgm_hUW5hdM0tHnMUqCGSKUYT1v?usp=drive_link)\n",
    "- [Ramen](https://drive.google.com/drive/folders/1Y4_5QHOCy8rHc5EsEwDUuoCfp2WLo-MN?usp=drive_link)\n",
    "- [Student Performance](https://drive.google.com/drive/folders/1fE31Ka38AnGpgfI_Es3z4psuA0phhH0Y?usp=drive_link)"
   ]
  },
  {
   "cell_type": "markdown",
   "id": "8a7e64bc",
   "metadata": {},
   "source": [
    "# My Question"
   ]
  },
  {
   "cell_type": "markdown",
   "id": "b52e166c",
   "metadata": {},
   "source": [
    "***Write your question here.***\n",
    "## How fast is Swoobat in comparison to other pokemon?"
   ]
  },
  {
   "cell_type": "markdown",
   "id": "0a574d2e",
   "metadata": {},
   "source": [
    "# My Analysis"
   ]
  },
  {
   "cell_type": "code",
   "execution_count": 26,
   "id": "ae6818e5",
   "metadata": {},
   "outputs": [
    {
     "name": "stdout",
     "output_type": "stream",
     "text": [
      "<class 'pandas.core.frame.DataFrame'>\n",
      "RangeIndex: 800 entries, 0 to 799\n",
      "Data columns (total 13 columns):\n",
      " #   Column      Non-Null Count  Dtype \n",
      "---  ------      --------------  ----- \n",
      " 0   #           800 non-null    int64 \n",
      " 1   Name        800 non-null    object\n",
      " 2   Type 1      800 non-null    object\n",
      " 3   Type 2      414 non-null    object\n",
      " 4   Total       800 non-null    int64 \n",
      " 5   HP          800 non-null    int64 \n",
      " 6   Attack      800 non-null    int64 \n",
      " 7   Defense     800 non-null    int64 \n",
      " 8   Sp. Atk     800 non-null    int64 \n",
      " 9   Sp. Def     800 non-null    int64 \n",
      " 10  Speed       800 non-null    int64 \n",
      " 11  Generation  800 non-null    int64 \n",
      " 12  Legendary   800 non-null    bool  \n",
      "dtypes: bool(1), int64(9), object(3)\n",
      "memory usage: 75.9+ KB\n"
     ]
    }
   ],
   "source": [
    "import pandas as pd\n",
    "import seaborn as sns\n",
    "pokemon = pd.read_csv('pokemon.csv', encoding = 'latin-1')\n",
    "pokemon.info()"
   ]
  },
  {
   "cell_type": "code",
   "execution_count": 27,
   "id": "a20fca2d",
   "metadata": {},
   "outputs": [
    {
     "name": "stdout",
     "output_type": "stream",
     "text": [
      "       #     Name   Type 1  Type 2  Total  HP  Attack  Defense  Sp. Atk  \\\n",
      "587  528  Swoobat  Psychic  Flying    425  67      57       55       77   \n",
      "\n",
      "     Sp. Def  Speed  Generation  Legendary  \n",
      "587       55    114           5      False  \n"
     ]
    }
   ],
   "source": [
    "swoobat = pokemon[pokemon[\"Name\"] == 'Swoobat']\n",
    "print(swoobat)"
   ]
  },
  {
   "cell_type": "code",
   "execution_count": 32,
   "id": "e9e64518",
   "metadata": {},
   "outputs": [
    {
     "data": {
      "text/plain": [
       "{'Max': 180, 'Q3': 90.0, 'Median': 65.0, 'Q1': 45.0, 'Min': 5}"
      ]
     },
     "execution_count": 32,
     "metadata": {},
     "output_type": "execute_result"
    },
    {
     "data": {
      "image/png": "[encoded data removed]",
      "text/plain": [
       "<Figure size 640x480 with 1 Axes>"
      ]
     },
     "metadata": {},
     "output_type": "display_data"
    }
   ],
   "source": [
    "# Write all the code needed for your analysis here. \n",
    "# You can add more cells to this section if you would like.\n",
    "sns.histplot(pokemon[\"Speed\"], bins = 25, kde=False, color='blue')\n",
    "summary = {\n",
    "    \"Max\": pokemon[\"Speed\"].max(),\n",
    "    \"Q3\": pokemon[\"Speed\"].quantile(0.75),\n",
    "    \"Median\": pokemon[\"Speed\"].median(),\n",
    "    \"Q1\": pokemon[\"Speed\"].quantile(0.25),\n",
    "    \"Min\": pokemon[\"Speed\"].min()\n",
    "}\n",
    "summary"
   ]
  },
  {
   "cell_type": "code",
   "execution_count": 29,
   "id": "1095943f",
   "metadata": {},
   "outputs": [
    {
     "name": "stdout",
     "output_type": "stream",
     "text": [
      "68.2775\n",
      "29.06047371716149\n",
      "Swoobat z-score: 587    1.573357\n",
      "Name: Speed, dtype: float64\n"
     ]
    },
    {
     "data": {
      "image/png": "[encoded data removed]",
      "text/plain": [
       "<Figure size 640x480 with 1 Axes>"
      ]
     },
     "metadata": {},
     "output_type": "display_data"
    }
   ],
   "source": [
    "sns.boxplot(data= pokemon, x= \"Speed\")\n",
    "print(pokemon[\"Speed\"].mean())\n",
    "print(pokemon[\"Speed\"].std())\n",
    "swoobat_zscore = ((swoobat[\"Speed\"] - pokemon[\"Speed\"].mean())/pokemon[\"Speed\"].std())\n",
    "print(\"Swoobat z-score:\", swoobat_zscore)"
   ]
  },
  {
   "cell_type": "code",
   "execution_count": 30,
   "id": "8f232e9f",
   "metadata": {},
   "outputs": [
    {
     "name": "stdout",
     "output_type": "stream",
     "text": [
      "Swoobat z-score: 587    1.573357\n",
      "Name: Speed, dtype: float64\n"
     ]
    }
   ],
   "source": [
    "print(\"Swoobat z-score:\", swoobat_zscore)"
   ]
  },
  {
   "cell_type": "markdown",
   "id": "77e676b2",
   "metadata": {},
   "source": [
    "# My Answer"
   ]
  },
  {
   "cell_type": "markdown",
   "id": "16aec0ac",
   "metadata": {},
   "source": [
    "***Write your answer here.***\n",
    "Swoobat's speed of 114 is very impressive in comparison to other pokemon!\n",
    "\n",
    "Swoobat's speed has a z-score of 1.57 which means that it is faster than 94.18% of pokemon. (I used a table for this)\n",
    "\n",
    "Even without knowing the z-score, Swoobat's impressiveness in speed is still evident. The upper quartile for speed is 90 which means that 75% of pokemon has a speed less than or equal to 90. Since 90 is less than 114 we know that over 3/4 of pokemon are slower than Swoobat. \n",
    "\n",
    "Pokemon speed has a median of 65 and this means that the typical pokemon has a speed of 65. This is way lower than Swoobat's speed of 114.\n",
    "\n",
    "We can also see this visually with a histogram. It is very obvious when looking at the histogram that most of the data is less than 100."
   ]
  }
 ],
 "metadata": {
  "kernelspec": {
   "display_name": "Python 3 (ipykernel)",
   "language": "python",
   "name": "python3"
  },
  "language_info": {
   "codemirror_mode": {
    "name": "ipython",
    "version": 3
   },
   "file_extension": ".py",
   "mimetype": "text/x-python",
   "name": "python",
   "nbconvert_exporter": "python",
   "pygments_lexer": "ipython3",
   "version": "3.9.13"
  }
 },
 "nbformat": 4,
 "nbformat_minor": 5
}
