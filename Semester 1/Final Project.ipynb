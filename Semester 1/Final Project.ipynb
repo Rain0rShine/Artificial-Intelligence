{
 "cells": [
  {
   "cell_type": "markdown",
   "id": "e72e548d",
   "metadata": {},
   "source": [
    "# Choose a Data Set\n",
    "\n",
    "You can choose to analyze any data that you would like! Remember, you need 1000 rows of non-null data in order to get 5 points for the \"Data\" criteria of my [rubric](https://docs.google.com/document/d/1s3wllcF3LLnytxwD8mZ-BCypXKnfaahnizWGNojT-B4/edit?usp=sharing). Consider looking at [Kaggle](https://www.kaggle.com/datasets) or [free APIs](https://free-apis.github.io/#/browse) for datasets of this size. Alternatively, you can scrape the web to make your own dataset! :D\n",
    "\n",
    "Once you have chosen your dataset, please read your data into a dataframe and call `.info()` below. If you don't call `info` I will give you 0 points for the first criteria described on the [rubric](https://docs.google.com/document/d/1s3wllcF3LLnytxwD8mZ-BCypXKnfaahnizWGNojT-B4/edit?usp=sharing)."
   ]
  },
  {
   "cell_type": "code",
   "execution_count": 1,
   "id": "d71eb2fa",
   "metadata": {},
   "outputs": [],
   "source": [
    "# Read data into a dataframe and call info()\n",
    "    # Example call:\n",
    "    # df = pd.DataFrame({\"A\":[1, 2, 3], \"B\":[4, 5, 6]})\n",
    "    # df.info()"
   ]
  },
  {
   "cell_type": "code",
   "execution_count": null,
   "id": "1cecc377",
   "metadata": {},
   "outputs": [],
   "source": []
  },
  {
   "cell_type": "code",
   "execution_count": 2,
   "id": "835ae0f4",
   "metadata": {},
   "outputs": [],
   "source": [
    "import pandas as pd\n",
    "import seaborn as sns\n",
    "games = pd.read_json('games.json')"
   ]
  },
  {
   "cell_type": "code",
   "execution_count": 3,
   "id": "cb5929c9",
   "metadata": {},
   "outputs": [
    {
     "name": "stdout",
     "output_type": "stream",
     "text": [
      "<class 'pandas.core.frame.DataFrame'>\n",
      "Int64Index: 97410 entries, 0 to 97409\n",
      "Data columns (total 38 columns):\n",
      " #   Column                    Non-Null Count  Dtype  \n",
      "---  ------                    --------------  -----  \n",
      " 0   ID                        97410 non-null  int64  \n",
      " 1   name                      97404 non-null  object \n",
      " 2   release_date              97410 non-null  object \n",
      " 3   estimated_owners          97410 non-null  object \n",
      " 4   peak_ccu                  97410 non-null  int64  \n",
      " 5   required_age              97410 non-null  int64  \n",
      " 6   price                     97410 non-null  float64\n",
      " 7   dlc_count                 97410 non-null  int64  \n",
      " 8   main_description          92540 non-null  object \n",
      " 9   supported_languages       97410 non-null  object \n",
      " 10  full_audio_languages      97410 non-null  object \n",
      " 11  reviews                   10125 non-null  object \n",
      " 12  header_image              97410 non-null  object \n",
      " 13  website                   42737 non-null  object \n",
      " 14  support_url               45908 non-null  object \n",
      " 15  support_email             81378 non-null  object \n",
      " 16  windows                   97410 non-null  bool   \n",
      " 17  mac                       97410 non-null  bool   \n",
      " 18  linux                     97410 non-null  bool   \n",
      " 19  metacritic_score          97410 non-null  int64  \n",
      " 20  metacriticURL             3953 non-null   object \n",
      " 21  user_score                97410 non-null  int64  \n",
      " 22  positive                  97410 non-null  int64  \n",
      " 23  negative                  97410 non-null  int64  \n",
      " 24  score_rank                44 non-null     float64\n",
      " 25  achievements              97410 non-null  int64  \n",
      " 26  recommendations           97410 non-null  int64  \n",
      " 27  notes                     15474 non-null  object \n",
      " 28  average_playtime_forever  97410 non-null  int64  \n",
      " 29  average_playtime_2weeks   97410 non-null  int64  \n",
      " 30  median_playtime_forever   97410 non-null  int64  \n",
      " 31  packages                  97410 non-null  int64  \n",
      " 32  developers                92534 non-null  object \n",
      " 33  publishers                92274 non-null  object \n",
      " 34  categories                91497 non-null  object \n",
      " 35  genres                    92569 non-null  object \n",
      " 36  tags                      67647 non-null  object \n",
      " 37  screenshots               94515 non-null  object \n",
      "dtypes: bool(3), float64(2), int64(14), object(19)\n",
      "memory usage: 27.0+ MB\n"
     ]
    }
   ],
   "source": [
    "games.info()"
   ]
  },
  {
   "cell_type": "code",
   "execution_count": 4,
   "id": "fa08fae2",
   "metadata": {},
   "outputs": [
    {
     "data": {
      "text/plain": [
       "97410"
      ]
     },
     "execution_count": 4,
     "metadata": {},
     "output_type": "execute_result"
    }
   ],
   "source": [
    "len(games)"
   ]
  },
  {
   "cell_type": "code",
   "execution_count": 5,
   "id": "d30181ec",
   "metadata": {},
   "outputs": [
    {
     "data": {
      "text/plain": [
       "<AxesSubplot:xlabel='positive', ylabel='recommendations'>"
      ]
     },
     "execution_count": 5,
     "metadata": {},
     "output_type": "execute_result"
    },
    {
     "data": {
      "image/png": "[encoded data removed]",
      "text/plain": [
       "<Figure size 640x480 with 1 Axes>"
      ]
     },
     "metadata": {},
     "output_type": "display_data"
    }
   ],
   "source": [
    "games.plot.scatter(x ='positive', y= 'recommendations', s=None, c=None)"
   ]
  },
  {
   "cell_type": "code",
   "execution_count": 6,
   "id": "02317def",
   "metadata": {},
   "outputs": [
    {
     "name": "stdout",
     "output_type": "stream",
     "text": [
      "46158\n",
      "46158\n"
     ]
    }
   ],
   "source": [
    "print(games['positive'].idxmax())\n",
    "print(games['recommendations'].idxmax())"
   ]
  },
  {
   "cell_type": "code",
   "execution_count": 7,
   "id": "e2687ae5",
   "metadata": {},
   "outputs": [],
   "source": [
    "cleanPosRec = games.drop([46158, 46158])"
   ]
  },
  {
   "cell_type": "code",
   "execution_count": 8,
   "id": "35d34960",
   "metadata": {},
   "outputs": [
    {
     "ename": "TypeError",
     "evalue": "histplot() takes from 0 to 1 positional arguments but 2 positional arguments (and 3 keyword-only arguments) were given",
     "output_type": "error",
     "traceback": [
      "\u001b[1;31m---------------------------------------------------------------------------\u001b[0m",
      "\u001b[1;31mTypeError\u001b[0m                                 Traceback (most recent call last)",
      "\u001b[1;32m~\\AppData\\Local\\Temp\\ipykernel_4140\\353405873.py\u001b[0m in \u001b[0;36m<module>\u001b[1;34m\u001b[0m\n\u001b[1;32m----> 1\u001b[1;33m \u001b[0msns\u001b[0m\u001b[1;33m.\u001b[0m\u001b[0mhistplot\u001b[0m\u001b[1;33m(\u001b[0m\u001b[0mgames\u001b[0m\u001b[1;33m[\u001b[0m\u001b[1;34m\"positive\"\u001b[0m\u001b[1;33m]\u001b[0m\u001b[1;33m,\u001b[0m \u001b[0mgames\u001b[0m\u001b[1;33m[\u001b[0m\u001b[1;34m\"recommendations\"\u001b[0m\u001b[1;33m]\u001b[0m\u001b[1;33m,\u001b[0m \u001b[0mbins\u001b[0m \u001b[1;33m=\u001b[0m \u001b[1;36m25\u001b[0m\u001b[1;33m,\u001b[0m \u001b[0mkde\u001b[0m\u001b[1;33m=\u001b[0m\u001b[1;32mFalse\u001b[0m\u001b[1;33m,\u001b[0m \u001b[0mcolor\u001b[0m\u001b[1;33m=\u001b[0m\u001b[1;34m'skyblue'\u001b[0m\u001b[1;33m)\u001b[0m\u001b[1;33m\u001b[0m\u001b[1;33m\u001b[0m\u001b[0m\n\u001b[0m",
      "\u001b[1;31mTypeError\u001b[0m: histplot() takes from 0 to 1 positional arguments but 2 positional arguments (and 3 keyword-only arguments) were given"
     ]
    }
   ],
   "source": [
    "sns.histplot(games[\"positive\"], games[\"recommendations\"], bins = 25, kde=False, color='skyblue')"
   ]
  },
  {
   "cell_type": "code",
   "execution_count": null,
   "id": "a99ef93b",
   "metadata": {},
   "outputs": [],
   "source": [
    "def lsrl(data, expl, resp):\n",
    "    m = data[expl].corr(data[resp]) * (data[resp].std() / data[expl].std())\n",
    "    b = (data[resp].mean() - m * data[expl].mean())\n",
    "    print(m , b)\n",
    "    linearData = [data[expl].min(), m * data[expl].min() + b], [data[expl].max(), m * data[expl].max() + b]\n",
    "    linearDf = pd.DataFrame(linearData, columns=['explanatory', 'response'])\n",
    "    linearDf.head()\n",
    "    sns.scatterplot(data= data, x= expl, y= resp)\n",
    "    sns.lineplot(data = linearDf, x = 'explanatory', y = 'response')\n",
    "    #return (\"y =\" + m + \"x +\" + b)\n",
    "    return f\"y = {m:f}x + {b:f}\""
   ]
  },
  {
   "cell_type": "code",
   "execution_count": null,
   "id": "372db9a1",
   "metadata": {
    "scrolled": false
   },
   "outputs": [],
   "source": [
    "lsrl(games, \"positive\", \"recommendations\")"
   ]
  },
  {
   "cell_type": "code",
   "execution_count": null,
   "id": "8238bfd7",
   "metadata": {},
   "outputs": [],
   "source": [
    "lsrl(cleanPosRec, \"positive\", \"recommendations\")"
   ]
  },
  {
   "cell_type": "code",
   "execution_count": null,
   "id": "7ac47d35",
   "metadata": {},
   "outputs": [],
   "source": [
    "games[\"positive\"].corr(games[\"recommendations\"])"
   ]
  },
  {
   "cell_type": "code",
   "execution_count": null,
   "id": "e0f77ddd",
   "metadata": {},
   "outputs": [],
   "source": [
    "games[\"positive\"].corr(games[\"recommendations\"]) * games[\"positive\"].corr(games[\"recommendations\"])"
   ]
  },
  {
   "cell_type": "markdown",
   "id": "109e5f57",
   "metadata": {},
   "source": [
    "# My Question"
   ]
  },
  {
   "cell_type": "markdown",
   "id": "94af0ecd",
   "metadata": {},
   "source": [
    "### Write your question here. Does the amount of positive votes correlate with the amount of user recomendations? If so how many recomendations is a game with 200 positive votes predicted to get and how accurate is this prediction? (something like that)"
   ]
  },
  {
   "cell_type": "markdown",
   "id": "9070cec5",
   "metadata": {},
   "source": [
    "# My Analysis"
   ]
  },
  {
   "cell_type": "code",
   "execution_count": null,
   "id": "0539b756",
   "metadata": {},
   "outputs": [],
   "source": [
    "games.plot.scatter(x ='positive', y= 'recommendations', s=None, c=None)"
   ]
  },
  {
   "cell_type": "code",
   "execution_count": null,
   "id": "3182d51d",
   "metadata": {},
   "outputs": [],
   "source": [
    "def lsrl(data, expl, resp):\n",
    "    m = data[expl].corr(data[resp]) * (data[resp].std() / data[expl].std())\n",
    "    b = (data[resp].mean() - m * data[expl].mean())\n",
    "    print(m , b)\n",
    "    linearData = [data[expl].min(), m * data[expl].min() + b], [data[expl].max(), m * data[expl].max() + b]\n",
    "    linearDf = pd.DataFrame(linearData, columns=['explanatory', 'response'])\n",
    "    linearDf.head()\n",
    "    sns.scatterplot(data= data, x= expl, y= resp)\n",
    "    sns.lineplot(data = linearDf, x = 'explanatory', y = 'response')\n",
    "    #return (\"y =\" + m + \"x +\" + b)\n",
    "    return f\"y = {m:f}x + {b:f}\""
   ]
  },
  {
   "cell_type": "code",
   "execution_count": null,
   "id": "ad6ebb08",
   "metadata": {},
   "outputs": [],
   "source": [
    "lsrl(games, \"positive\", \"recommendations\")"
   ]
  },
  {
   "cell_type": "code",
   "execution_count": null,
   "id": "5bc6f7d5",
   "metadata": {},
   "outputs": [],
   "source": [
    "cleanPosRec[\"positive\"].corr(games[\"recommendations\"])"
   ]
  },
  {
   "cell_type": "code",
   "execution_count": null,
   "id": "7ddc34dd",
   "metadata": {},
   "outputs": [],
   "source": [
    "cleanPosRec[\"positive\"].corr(games[\"recommendations\"]) * games[\"positive\"].corr(games[\"recommendations\"])"
   ]
  },
  {
   "cell_type": "code",
   "execution_count": null,
   "id": "87f9d9ae",
   "metadata": {},
   "outputs": [],
   "source": [
    "print(games['positive'].idxmax())\n",
    "print(games['recommendations'].idxmax())"
   ]
  },
  {
   "cell_type": "code",
   "execution_count": null,
   "id": "6564b2bb",
   "metadata": {},
   "outputs": [],
   "source": [
    "lsrl(cleanPosRec, \"positive\", \"recommendations\")"
   ]
  },
  {
   "cell_type": "code",
   "execution_count": null,
   "id": "3ef274fd",
   "metadata": {},
   "outputs": [],
   "source": [
    "cleanPosRec[\"positive\"].corr(games[\"recommendations\"])"
   ]
  },
  {
   "cell_type": "code",
   "execution_count": null,
   "id": "24830856",
   "metadata": {},
   "outputs": [],
   "source": [
    "cleanPosRec[\"positive\"].corr(games[\"recommendations\"]) * games[\"positive\"].corr(games[\"recommendations\"])"
   ]
  },
  {
   "cell_type": "code",
   "execution_count": null,
   "id": "1fbfebe3",
   "metadata": {},
   "outputs": [],
   "source": [
    "# Analyze here"
   ]
  },
  {
   "cell_type": "markdown",
   "id": "b5a374a3",
   "metadata": {},
   "source": [
    "# My Answer"
   ]
  },
  {
   "cell_type": "markdown",
   "id": "2cadbfec",
   "metadata": {},
   "source": [
    "### Write your answer here. The amount of positive votes has a strong positive linear relationship with the amount of user recommendations. \n",
    "The pearson coefficiant is ___ whcih means that the positive votes has a strong positive linear relationship with the amount of user recommendations. \n",
    "The coeficiant of determination is ___ which means that this model explains ___% of the variation \n",
    "The "
   ]
  }
 ],
 "metadata": {
  "kernelspec": {
   "display_name": "Python 3 (ipykernel)",
   "language": "python",
   "name": "python3"
  },
  "language_info": {
   "codemirror_mode": {
    "name": "ipython",
    "version": 3
   },
   "file_extension": ".py",
   "mimetype": "text/x-python",
   "name": "python",
   "nbconvert_exporter": "python",
   "pygments_lexer": "ipython3",
   "version": "3.9.13"
  }
 },
 "nbformat": 4,
 "nbformat_minor": 5
}
