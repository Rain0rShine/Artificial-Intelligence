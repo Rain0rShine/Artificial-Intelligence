{
 "cells": [
  {
   "cell_type": "code",
   "execution_count": 1,
   "id": "36347abc",
   "metadata": {},
   "outputs": [],
   "source": [
    "import pandas as pd\n",
    "import seaborn as sns"
   ]
  },
  {
   "cell_type": "code",
   "execution_count": 6,
   "id": "0ae5d0ad",
   "metadata": {},
   "outputs": [
    {
     "name": "stdout",
     "output_type": "stream",
     "text": [
      "<class 'pandas.core.frame.DataFrame'>\n",
      "RangeIndex: 32833 entries, 0 to 32832\n",
      "Data columns (total 23 columns):\n",
      " #   Column                    Non-Null Count  Dtype  \n",
      "---  ------                    --------------  -----  \n",
      " 0   track_id                  32833 non-null  object \n",
      " 1   track_name                32828 non-null  object \n",
      " 2   track_artist              32828 non-null  object \n",
      " 3   track_popularity          32833 non-null  int64  \n",
      " 4   track_album_id            32833 non-null  object \n",
      " 5   track_album_name          32828 non-null  object \n",
      " 6   track_album_release_date  32833 non-null  object \n",
      " 7   playlist_name             32833 non-null  object \n",
      " 8   playlist_id               32833 non-null  object \n",
      " 9   playlist_genre            32833 non-null  object \n",
      " 10  playlist_subgenre         32833 non-null  object \n",
      " 11  danceability              32833 non-null  float64\n",
      " 12  energy                    32833 non-null  float64\n",
      " 13  key                       32833 non-null  int64  \n",
      " 14  loudness                  32833 non-null  float64\n",
      " 15  mode                      32833 non-null  int64  \n",
      " 16  speechiness               32833 non-null  float64\n",
      " 17  acousticness              32833 non-null  float64\n",
      " 18  instrumentalness          32833 non-null  float64\n",
      " 19  liveness                  32833 non-null  float64\n",
      " 20  valence                   32833 non-null  float64\n",
      " 21  tempo                     32833 non-null  float64\n",
      " 22  duration_ms               32833 non-null  int64  \n",
      "dtypes: float64(9), int64(4), object(10)\n",
      "memory usage: 5.8+ MB\n"
     ]
    }
   ],
   "source": [
    "spotS = pd.read_csv('spotify_songs.csv', encoding = 'latin-1')\n",
    "spotS.info()"
   ]
  },
  {
   "cell_type": "code",
   "execution_count": 19,
   "id": "826eda67",
   "metadata": {},
   "outputs": [],
   "source": [
    "spotify2023 = pd.read_csv('spotify2023.csv', encoding = 'latin-1')"
   ]
  },
  {
   "cell_type": "code",
   "execution_count": 4,
   "id": "c4f5990f",
   "metadata": {},
   "outputs": [
    {
     "data": {
      "text/plain": [
       "<AxesSubplot:xlabel='track_popularity', ylabel='Count'>"
      ]
     },
     "execution_count": 4,
     "metadata": {},
     "output_type": "execute_result"
    },
    {
     "data": {
      "image/png": "[encoded data removed]",
      "text/plain": [
       "<Figure size 640x480 with 1 Axes>"
      ]
     },
     "metadata": {},
     "output_type": "display_data"
    }
   ],
   "source": [
    "sns.histplot(spotS[\"track_popularity\"], bins = 20, kde=False, color='skyblue')"
   ]
  },
  {
   "cell_type": "code",
   "execution_count": 5,
   "id": "fc780419",
   "metadata": {},
   "outputs": [
    {
     "data": {
      "text/plain": [
       "{'Max': 100, 'Q3': 62.0, 'Median': 45.0, 'Q1': 24.0, 'Min': 0}"
      ]
     },
     "execution_count": 5,
     "metadata": {},
     "output_type": "execute_result"
    }
   ],
   "source": [
    "summary = {\n",
    "    \"Max\": spotS[\"track_popularity\"].max(),\n",
    "    \"Q3\": spotS[\"track_popularity\"].quantile(0.75),\n",
    "    \"Median\": spotS[\"track_popularity\"].median(),\n",
    "    \"Q1\": spotS[\"track_popularity\"].quantile(0.25),\n",
    "    \"Min\": spotS[\"track_popularity\"].min()\n",
    "}\n",
    "summary"
   ]
  },
  {
   "cell_type": "markdown",
   "id": "9083430d",
   "metadata": {},
   "source": [
    "# Track Popularity Distribution\n",
    "### The median popularity is 45. The mode is between 0 and 5 which means that a lot of songs aren't very popular. Half the songs have a popularity between 24 and 62. The shape of the popularaty distribution is close to a symmetric, normal, bellcurve but there is a lot of data with very low populatity scores as evidenced by the mode."
   ]
  },
  {
   "cell_type": "code",
   "execution_count": 11,
   "id": "867bfa55",
   "metadata": {},
   "outputs": [],
   "source": [
    "def avg(col):\n",
    "    average = 0\n",
    "    average = col.mean()\n",
    "    return average\n"
   ]
  },
  {
   "cell_type": "code",
   "execution_count": 12,
   "id": "2d7598d0",
   "metadata": {},
   "outputs": [
    {
     "data": {
      "text/plain": [
       "120.88113154448297"
      ]
     },
     "execution_count": 12,
     "metadata": {},
     "output_type": "execute_result"
    }
   ],
   "source": [
    "avg(spotS[\"tempo\"])"
   ]
  },
  {
   "cell_type": "code",
   "execution_count": 15,
   "id": "5f20a239",
   "metadata": {},
   "outputs": [
    {
     "data": {
      "text/plain": [
       "3968890.192000009"
      ]
     },
     "execution_count": 15,
     "metadata": {},
     "output_type": "execute_result"
    }
   ],
   "source": [
    "def avg1(col):\n",
    "    sum = 0\n",
    "    for value in col:\n",
    "        sum += value\n",
    "    sum/len(col)\n",
    "    return sum\n",
    "avg1(spotS[\"tempo\"])"
   ]
  },
  {
   "cell_type": "code",
   "execution_count": null,
   "id": "82ecdfcb",
   "metadata": {},
   "outputs": [],
   "source": []
  }
 ],
 "metadata": {
  "kernelspec": {
   "display_name": "Python 3 (ipykernel)",
   "language": "python",
   "name": "python3"
  },
  "language_info": {
   "codemirror_mode": {
    "name": "ipython",
    "version": 3
   },
   "file_extension": ".py",
   "mimetype": "text/x-python",
   "name": "python",
   "nbconvert_exporter": "python",
   "pygments_lexer": "ipython3",
   "version": "3.9.13"
  }
 },
 "nbformat": 4,
 "nbformat_minor": 5
}
