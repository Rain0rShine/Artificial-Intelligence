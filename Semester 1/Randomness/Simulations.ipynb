{
 "cells": [
  {
   "cell_type": "code",
   "execution_count": 1,
   "id": "47983db4",
   "metadata": {},
   "outputs": [],
   "source": [
    "import random"
   ]
  },
  {
   "cell_type": "code",
   "execution_count": 2,
   "id": "2c29bce7",
   "metadata": {},
   "outputs": [],
   "source": [
    "def beanie_babies(trials):\n",
    "    '''\n",
    "    This function returns the average number of happy meals one would need\n",
    "    to buy in order to get all 10 teanie beanies from the 1997 McDonalds\n",
    "    happy meal compaign.\n",
    "    '''\n",
    "    count = 0\n",
    "    beanies = []\n",
    "    total = 0\n",
    "    while count < trials:\n",
    "        while len(beanies) < 10:\n",
    "            num = random.randint(1, 10)\n",
    "            if num not in beanies:\n",
    "                beanies.append(num)\n",
    "            if len(beanies) == 10:\n",
    "                total = total + count\n",
    "            count += 1\n",
    "    return total/trials\n"
   ]
  },
  {
   "cell_type": "code",
   "execution_count": null,
   "id": "8b6c8fc8",
   "metadata": {},
   "outputs": [],
   "source": [
    "beanie_babies(100)"
   ]
  },
  {
   "cell_type": "code",
   "execution_count": null,
   "id": "37a64fa2",
   "metadata": {},
   "outputs": [],
   "source": []
  }
 ],
 "metadata": {
  "kernelspec": {
   "display_name": "Python 3 (ipykernel)",
   "language": "python",
   "name": "python3"
  },
  "language_info": {
   "codemirror_mode": {
    "name": "ipython",
    "version": 3
   },
   "file_extension": ".py",
   "mimetype": "text/x-python",
   "name": "python",
   "nbconvert_exporter": "python",
   "pygments_lexer": "ipython3",
   "version": "3.9.13"
  }
 },
 "nbformat": 4,
 "nbformat_minor": 5
}
