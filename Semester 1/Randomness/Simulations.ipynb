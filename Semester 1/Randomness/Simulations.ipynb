{
 "cells": [
  {
   "cell_type": "code",
   "execution_count": 1,
   "id": "8c0e98d0",
   "metadata": {},
   "outputs": [],
   "source": [
    "import random"
   ]
  },
  {
   "cell_type": "code",
   "execution_count": 2,
   "id": "6c898f28",
   "metadata": {},
   "outputs": [],
   "source": [
    "def beanie_babies(trials):\n",
    "    '''\n",
    "    This function returns the average number of happy meals one would need\n",
    "    to buy in order to get all 10 teanie beanies from the 1997 McDonalds\n",
    "    happy meal compaign.\n",
    "    '''\n",
    "    count = 0\n",
    "    beanies = []\n",
    "    total = 0\n",
    "    while count < trials:\n",
    "        while len(beanies) < 10:\n",
    "            num = random.randint(1, 10)\n",
    "            if num not in beanies:\n",
    "                beanies.append(num)\n",
    "            if len(beanies) == 10:\n",
    "                total = total + count\n",
    "            count += 1\n",
    "    return total/trials\n"
   ]
  },
  {
   "cell_type": "code",
   "execution_count": null,
   "id": "5feb93ff",
   "metadata": {},
   "outputs": [],
   "source": [
    "beanie_babies(100)"
   ]
  },
  {
   "cell_type": "code",
   "execution_count": null,
   "id": "d60b9a8f",
   "metadata": {},
   "outputs": [],
   "source": [
    "def worldSeries(trials)\n",
    "    '''\n",
    "    This function returns what team is predicted to win the World Series. 55% to win on home series. \n",
    "    First 2 Dogers. Next 3 Yankees. Next 2 Dodgers.\n",
    "    '''\n",
    "    for (i = 1, i <= 2, i ++)\n",
    "    {\n",
    "        dogers \n",
    "    }"
   ]
  },
  {
   "cell_type": "code",
   "execution_count": null,
   "id": "e3163694",
   "metadata": {},
   "outputs": [],
   "source": [
    "import random    \n",
    "'''\n",
    "Write a Python program that allows you to simulate removing a marble from a box. The box contains an unknown number of \n",
    "marbles. There are three different colors in the box: red, green, and blue. You want to determine the proportion of each\n",
    "color of marble in your box. Create the simulation you would need in order to determine the proportion of each color found\n",
    "in the box. Copy and paste your code below.\n",
    "'''\n",
    "def marbles(boxOfMarbles, removals) :\n",
    "    num = random.randint(len(boxOfMarbles)\n"
   ]
  }
 ],
 "metadata": {
  "kernelspec": {
   "display_name": "Python 3 (ipykernel)",
   "language": "python",
   "name": "python3"
  },
  "language_info": {
   "codemirror_mode": {
    "name": "ipython",
    "version": 3
   },
   "file_extension": ".py",
   "mimetype": "text/x-python",
   "name": "python",
   "nbconvert_exporter": "python",
   "pygments_lexer": "ipython3",
   "version": "3.9.13"
  }
 },
 "nbformat": 4,
 "nbformat_minor": 5
}
