{
 "cells": [
  {
   "cell_type": "code",
   "execution_count": 6,
   "id": "b6c0a563",
   "metadata": {},
   "outputs": [],
   "source": [
    "import random"
   ]
  },
  {
   "cell_type": "markdown",
   "id": "8f721617",
   "metadata": {},
   "source": [
    "O positive: %\n",
    "O negative: %\n",
    "A positive: %\n",
    "A negative: %\n",
    "B positive: %\n",
    "B negative: %\n",
    "AB positive: %\n",
    "AB negative: %\n",
    "Theoretical probability of O- or AB- is "
   ]
  },
  {
   "cell_type": "code",
   "execution_count": null,
   "id": "14f10ba9",
   "metadata": {},
   "outputs": [],
   "source": []
  },
  {
   "cell_type": "code",
   "execution_count": null,
   "id": "7bfc294f",
   "metadata": {},
   "outputs": [],
   "source": []
  },
  {
   "cell_type": "code",
   "execution_count": 9,
   "id": "fb70aa96",
   "metadata": {},
   "outputs": [],
   "source": [
    "import random\n",
    "''' should be probability 15.38% '''\n",
    "def drawQueenKing(trials):\n",
    "    queen = 0\n",
    "    king = 0\n",
    "    for i in range(trials):\n",
    "        num = random.randint(1, 52)\n",
    "        if num <= 4:\n",
    "            queen += 1\n",
    "        elif num > 4 and num <= 8:\n",
    "            king += 1\n",
    "    return (queen + king)/trials"
   ]
  },
  {
   "cell_type": "code",
   "execution_count": 12,
   "id": "b22329ee",
   "metadata": {},
   "outputs": [
    {
     "data": {
      "text/plain": [
       "0.145"
      ]
     },
     "execution_count": 12,
     "metadata": {},
     "output_type": "execute_result"
    }
   ],
   "source": [
    "drawQueenKing(1000)"
   ]
  },
  {
   "cell_type": "code",
   "execution_count": 18,
   "id": "8625b12b",
   "metadata": {},
   "outputs": [
    {
     "data": {
      "text/plain": [
       "0.15352"
      ]
     },
     "execution_count": 18,
     "metadata": {},
     "output_type": "execute_result"
    }
   ],
   "source": [
    "drawQueenKing(100000)"
   ]
  },
  {
   "cell_type": "code",
   "execution_count": null,
   "id": "a687a0bc",
   "metadata": {},
   "outputs": [],
   "source": []
  },
  {
   "cell_type": "markdown",
   "id": "56c36747",
   "metadata": {},
   "source": [
    "32 special characters, 26 capital letters, 26 lowercase, 10 numbers, (94 possible characters) 15 total characters\n",
    "(1/94)^15 = 2.52977675 x 10^-30"
   ]
  },
  {
   "cell_type": "code",
   "execution_count": 28,
   "id": "618d6079",
   "metadata": {},
   "outputs": [],
   "source": [
    "def passGuess(trials):\n",
    "    rightGuess = 0\n",
    "    for i in range (trials):        \n",
    "        rightChar = 0\n",
    "        for j in range(15):\n",
    "            character = random.randint(1, 94)\n",
    "            if character == 1:\n",
    "                rightChar += 1\n",
    "        if rightChar == 15:\n",
    "            rightGuess += 1\n",
    "    return rightGuess/trials\n",
    "        "
   ]
  },
  {
   "cell_type": "code",
   "execution_count": null,
   "id": "e98eff08",
   "metadata": {},
   "outputs": [],
   "source": [
    "passGuess(999999999)"
   ]
  },
  {
   "cell_type": "code",
   "execution_count": 15,
   "id": "eca54466",
   "metadata": {},
   "outputs": [],
   "source": [
    "''' \n",
    "should be probability ~30.77% \n",
    "16 cards out of 52 are queens or hearts (13 hearts, 4, queens, 1 card overlap)\n",
    "'''\n",
    "def queenOrHeart(trials):\n",
    "    queenHeart = 0\n",
    "    for i in range (trials):\n",
    "        num = random.randint(1, 52)\n",
    "        if num <= 16:\n",
    "            queenHeart += 1\n",
    "    return (queenHeart/trials)"
   ]
  },
  {
   "cell_type": "code",
   "execution_count": 17,
   "id": "ea1d92f0",
   "metadata": {},
   "outputs": [
    {
     "data": {
      "text/plain": [
       "0.30705"
      ]
     },
     "execution_count": 17,
     "metadata": {},
     "output_type": "execute_result"
    }
   ],
   "source": [
    "queenOrHeart(100000)"
   ]
  },
  {
   "cell_type": "code",
   "execution_count": null,
   "id": "f687a6c7",
   "metadata": {},
   "outputs": [],
   "source": []
  }
 ],
 "metadata": {
  "kernelspec": {
   "display_name": "Python 3 (ipykernel)",
   "language": "python",
   "name": "python3"
  },
  "language_info": {
   "codemirror_mode": {
    "name": "ipython",
    "version": 3
   },
   "file_extension": ".py",
   "mimetype": "text/x-python",
   "name": "python",
   "nbconvert_exporter": "python",
   "pygments_lexer": "ipython3",
   "version": "3.9.13"
  }
 },
 "nbformat": 4,
 "nbformat_minor": 5
}
