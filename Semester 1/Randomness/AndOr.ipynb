{
 "cells": [
  {
   "cell_type": "code",
   "execution_count": null,
   "id": "3b46edbe",
   "metadata": {},
   "outputs": [],
   "source": []
  },
  {
   "cell_type": "markdown",
   "id": "85d23989",
   "metadata": {},
   "source": [
    "O positive: 35%\n",
    "O negative: 13%\n",
    "A positive: 30%\n",
    "A negative: 8%\n",
    "B positive: 8%\n",
    "B negative: 2%\n",
    "AB positive: 2%\n",
    "AB negative: 1%\n",
    "Theoretical probability of O- or AB- is 14.2%"
   ]
  },
  {
   "cell_type": "code",
   "execution_count": null,
   "id": "f15b395e",
   "metadata": {},
   "outputs": [],
   "source": []
  },
  {
   "cell_type": "code",
   "execution_count": null,
   "id": "3496c3f9",
   "metadata": {},
   "outputs": [],
   "source": []
  },
  {
   "cell_type": "code",
   "execution_count": 9,
   "id": "6408eded",
   "metadata": {},
   "outputs": [],
   "source": [
    "import random\n",
    "''' should be probability 15.38% '''\n",
    "def drawQueenKing(trials):\n",
    "    queen = 0\n",
    "    king = 0\n",
    "    for i in range(trials):\n",
    "        num = random.randint(1, 52)\n",
    "        if num <= 4:\n",
    "            queen += 1\n",
    "        elif num > 4 and num <= 8:\n",
    "            king += 1\n",
    "    return (queen + king)/trials"
   ]
  },
  {
   "cell_type": "code",
   "execution_count": 12,
   "id": "37e64425",
   "metadata": {},
   "outputs": [
    {
     "data": {
      "text/plain": [
       "0.145"
      ]
     },
     "execution_count": 12,
     "metadata": {},
     "output_type": "execute_result"
    }
   ],
   "source": [
    "drawQueenKing(1000)"
   ]
  },
  {
   "cell_type": "code",
   "execution_count": 18,
   "id": "d9bc6c1a",
   "metadata": {},
   "outputs": [
    {
     "data": {
      "text/plain": [
       "0.15352"
      ]
     },
     "execution_count": 18,
     "metadata": {},
     "output_type": "execute_result"
    }
   ],
   "source": [
    "drawQueenKing(100000)"
   ]
  },
  {
   "cell_type": "code",
   "execution_count": null,
   "id": "6e0d7725",
   "metadata": {},
   "outputs": [],
   "source": []
  }
 ],
 "metadata": {
  "kernelspec": {
   "display_name": "Python 3 (ipykernel)",
   "language": "python",
   "name": "python3"
  },
  "language_info": {
   "codemirror_mode": {
    "name": "ipython",
    "version": 3
   },
   "file_extension": ".py",
   "mimetype": "text/x-python",
   "name": "python",
   "nbconvert_exporter": "python",
   "pygments_lexer": "ipython3",
   "version": "3.9.13"
  }
 },
 "nbformat": 4,
 "nbformat_minor": 5
}
