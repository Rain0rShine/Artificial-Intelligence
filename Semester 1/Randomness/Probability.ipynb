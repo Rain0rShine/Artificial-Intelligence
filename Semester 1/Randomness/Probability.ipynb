{
 "cells": [
  {
   "cell_type": "code",
   "execution_count": 1,
   "id": "e8c37b16",
   "metadata": {},
   "outputs": [],
   "source": [
    "import random\n",
    "''' should be roullette probability 1.67% '''\n",
    "def doritoRoulette(trials):\n",
    "    spicy = 0\n",
    "    for i in range(trials):\n",
    "        num = random.randint(1, 6)\n",
    "        if num == 1:\n",
    "            spicy += 1\n",
    "    return spicy/trials\n"
   ]
  },
  {
   "cell_type": "code",
   "execution_count": 2,
   "id": "324e18f1",
   "metadata": {},
   "outputs": [
    {
     "data": {
      "text/plain": [
       "0.16905"
      ]
     },
     "execution_count": 2,
     "metadata": {},
     "output_type": "execute_result"
    }
   ],
   "source": [
    "doritoRoulette(20000)"
   ]
  },
  {
   "cell_type": "code",
   "execution_count": 3,
   "id": "ec1f2f53",
   "metadata": {},
   "outputs": [],
   "source": [
    "import random\n",
    "''' should be probability 7.69% '''\n",
    "def drawQueen(trials):\n",
    "    queen = 0\n",
    "    for i in range(trials):\n",
    "        num = random.randint(1, 52)\n",
    "        if num <= 4:\n",
    "            queen += 1\n",
    "    return queen/trials"
   ]
  },
  {
   "cell_type": "code",
   "execution_count": 4,
   "id": "171c004e",
   "metadata": {},
   "outputs": [
    {
     "data": {
      "text/plain": [
       "0.079"
      ]
     },
     "execution_count": 4,
     "metadata": {},
     "output_type": "execute_result"
    }
   ],
   "source": [
    "drawQueen(1000)"
   ]
  },
  {
   "cell_type": "code",
   "execution_count": 33,
   "id": "bf75e68f",
   "metadata": {},
   "outputs": [],
   "source": [
    "\n",
    "'''\n",
    "22 students\n",
    "'''\n",
    "\n",
    "def doubleBday(trials):\n",
    "    count = 0\n",
    "    doubleDay = 0\n",
    "    while count < trials:\n",
    "        student = []\n",
    "        for i in range(22):\n",
    "            student.append(random.randint(1, 365))\n",
    "        if (len(set(student)) < 22):\n",
    "            doubleDay += 1\n",
    "        count += 1\n",
    "        \n",
    "    return doubleDay/trials\n",
    "        "
   ]
  },
  {
   "cell_type": "code",
   "execution_count": 34,
   "id": "2b8b6c75",
   "metadata": {},
   "outputs": [
    {
     "data": {
      "text/plain": [
       "0.471"
      ]
     },
     "execution_count": 34,
     "metadata": {},
     "output_type": "execute_result"
    }
   ],
   "source": [
    "doubleBday(1000)"
   ]
  },
  {
   "cell_type": "code",
   "execution_count": 26,
   "id": "733ee1ca",
   "metadata": {},
   "outputs": [],
   "source": [
    "def doubleBday(trials):\n",
    "    doubleDay = 0\n",
    "    for _ in range(trials):\n",
    "        student = [random.randint(1, 365) for _ in range(22)]\n",
    "        if len(set(student)) < 22:  # Check for duplicates\n",
    "            doubleDay += 1\n",
    "    return doubleDay / trials\n"
   ]
  },
  {
   "cell_type": "code",
   "execution_count": 27,
   "id": "15e58c69",
   "metadata": {},
   "outputs": [
    {
     "data": {
      "text/plain": [
       "0.4734"
      ]
     },
     "execution_count": 27,
     "metadata": {},
     "output_type": "execute_result"
    }
   ],
   "source": [
    "doubleBday(10000)"
   ]
  },
  {
   "cell_type": "code",
   "execution_count": 28,
   "id": "c8304b6d",
   "metadata": {},
   "outputs": [
    {
     "name": "stdout",
     "output_type": "stream",
     "text": [
      "[336, 171, 106, 63, 8, 48, 6, 282, 303, 131, 113, 237, 228, 203, 50, 97, 9, 79, 153, 105, 42, 180]\n"
     ]
    }
   ],
   "source": [
    "student = [random.randint(1, 365) for _ in range(22)]\n",
    "print(student)"
   ]
  },
  {
   "cell_type": "code",
   "execution_count": null,
   "id": "6005ca9d",
   "metadata": {},
   "outputs": [],
   "source": []
  }
 ],
 "metadata": {
  "kernelspec": {
   "display_name": "Python 3 (ipykernel)",
   "language": "python",
   "name": "python3"
  },
  "language_info": {
   "codemirror_mode": {
    "name": "ipython",
    "version": 3
   },
   "file_extension": ".py",
   "mimetype": "text/x-python",
   "name": "python",
   "nbconvert_exporter": "python",
   "pygments_lexer": "ipython3",
   "version": "3.9.13"
  }
 },
 "nbformat": 4,
 "nbformat_minor": 5
}
