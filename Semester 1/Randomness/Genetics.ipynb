{
 "cells": [
  {
   "cell_type": "code",
   "execution_count": 1,
   "id": "6fbeeee1",
   "metadata": {},
   "outputs": [],
   "source": [
    "import random"
   ]
  },
  {
   "cell_type": "code",
   "execution_count": 2,
   "id": "49434199",
   "metadata": {},
   "outputs": [],
   "source": [
    "''' \n",
    "should be probability 1.25/8  ~15.625% for liking cilantro\n",
    "~84.375% for not liking cilantro\n",
    "\n",
    "AA* AG* GG, CC* CT* TT\n",
    "1/9 combinations for liking cilantro GG, TT\n",
    "\n",
    "Out of 8 mom combos 5 of them have a 100% chance of making you not like ciliantro\n",
    "2 of the combos have a 50 % chance of making you not like cilantro\n",
    "1 combo has a 75% chance of making you not like cilantro\n",
    "'''\n",
    "def cilantroDislike(trials):\n",
    "    dontLike = 0\n",
    "    for i in range (trials):\n",
    "        \n",
    "        num = random.randint(1, 8)\n",
    "        if num <= 5:\n",
    "            dontLike += 1\n",
    "\n",
    "        elif num <= 7:\n",
    "            num2 = random.randint(1, 2)\n",
    "            if num2 <= 1:\n",
    "                dontLike += 1\n",
    "        else:\n",
    "            num3 = random.randint(1, 4)\n",
    "            if num3 <= 3:\n",
    "                dontLike += 1\n",
    "\n",
    "    return dontLike/trials\n",
    "\n"
   ]
  },
  {
   "cell_type": "code",
   "execution_count": 3,
   "id": "8e79f1f6",
   "metadata": {},
   "outputs": [
    {
     "data": {
      "text/plain": [
       "0.84284"
      ]
     },
     "execution_count": 3,
     "metadata": {},
     "output_type": "execute_result"
    }
   ],
   "source": [
    "cilantroDislike(100000)"
   ]
  },
  {
   "cell_type": "code",
   "execution_count": 10,
   "id": "5829d084",
   "metadata": {},
   "outputs": [],
   "source": [
    "''' \n",
    "GG blue AA brown AG brown GA brown\n",
    "GG and AG comos:\n",
    "    A  G\n",
    "G  GA  GG\n",
    "G  GA  GG\n",
    "\n",
    "50% probability of blue eyes for kid\n",
    "'''\n",
    "def blueEyedGirl(trials):\n",
    "    blueGirl = 0\n",
    "    for i in range(trials):\n",
    "        num = random.randint(1, 2)\n",
    "        num2 = random.randint(1, 2)\n",
    "        if (num == 1 and num2 == 1):\n",
    "            blueGirl += 1\n",
    "    \n",
    "    return blueGirl/trials"
   ]
  },
  {
   "cell_type": "code",
   "execution_count": 11,
   "id": "b6019942",
   "metadata": {},
   "outputs": [
    {
     "data": {
      "text/plain": [
       "0.271"
      ]
     },
     "execution_count": 11,
     "metadata": {},
     "output_type": "execute_result"
    }
   ],
   "source": [
    "blueEyedGirl(1000)"
   ]
  },
  {
   "cell_type": "code",
   "execution_count": null,
   "id": "920f37a6",
   "metadata": {},
   "outputs": [],
   "source": []
  },
  {
   "cell_type": "code",
   "execution_count": null,
   "id": "d642ecc9",
   "metadata": {},
   "outputs": [],
   "source": []
  }
 ],
 "metadata": {
  "kernelspec": {
   "display_name": "Python 3 (ipykernel)",
   "language": "python",
   "name": "python3"
  },
  "language_info": {
   "codemirror_mode": {
    "name": "ipython",
    "version": 3
   },
   "file_extension": ".py",
   "mimetype": "text/x-python",
   "name": "python",
   "nbconvert_exporter": "python",
   "pygments_lexer": "ipython3",
   "version": "3.9.13"
  }
 },
 "nbformat": 4,
 "nbformat_minor": 5
}
