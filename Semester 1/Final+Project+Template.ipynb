{
 "cells": [
  {
   "cell_type": "markdown",
   "id": "e72e548d",
   "metadata": {},
   "source": [
    "# Choose a Data Set\n",
    "\n",
    "You can choose to analyze any data that you would like! Remember, you need 1000 rows of non-null data in order to get 5 points for the \"Data\" criteria of my [rubric](https://docs.google.com/document/d/1s3wllcF3LLnytxwD8mZ-BCypXKnfaahnizWGNojT-B4/edit?usp=sharing). Consider looking at [Kaggle](https://www.kaggle.com/datasets) or [free APIs](https://free-apis.github.io/#/browse) for datasets of this size. Alternatively, you can scrape the web to make your own dataset! :D\n",
    "\n",
    "Once you have chosen your dataset, please read your data into a dataframe and call `.info()` below. If you don't call `info` I will give you 0 points for the first criteria described on the [rubric](https://docs.google.com/document/d/1s3wllcF3LLnytxwD8mZ-BCypXKnfaahnizWGNojT-B4/edit?usp=sharing)."
   ]
  },
  {
   "cell_type": "code",
   "execution_count": 1,
   "id": "0d2e8dfc",
   "metadata": {},
   "outputs": [],
   "source": [
    "import pandas as pd\n",
    "import requests\n",
    "from bs4 import BeautifulSoup\n",
    "import seaborn as sns"
   ]
  },
  {
   "cell_type": "code",
   "execution_count": 2,
   "id": "d71eb2fa",
   "metadata": {},
   "outputs": [],
   "source": [
    "# Read data into a dataframe and call info()\n",
    "    # Example call:\n",
    "    # df = pd.DataFrame({\"A\":[1, 2, 3], \"B\":[4, 5, 6]})\n",
    "    # df.info()"
   ]
  },
  {
   "cell_type": "code",
   "execution_count": 3,
   "id": "6963fd4e",
   "metadata": {},
   "outputs": [
    {
     "data": {
      "text/plain": [
       "' https://openlibrary.org/search?subject=Extraterrestrial%20beings,%20fiction '"
      ]
     },
     "execution_count": 3,
     "metadata": {},
     "output_type": "execute_result"
    }
   ],
   "source": [
    "''' https://openlibrary.org/search?subject=Extraterrestrial%20beings,%20fiction '''"
   ]
  },
  {
   "cell_type": "code",
   "execution_count": 4,
   "id": "b6192487",
   "metadata": {
    "scrolled": true
   },
   "outputs": [
    {
     "ename": "NameError",
     "evalue": "name 'data' is not defined",
     "output_type": "error",
     "traceback": [
      "\u001b[1;31m---------------------------------------------------------------------------\u001b[0m",
      "\u001b[1;31mNameError\u001b[0m                                 Traceback (most recent call last)",
      "\u001b[1;32m~\\AppData\\Local\\Temp\\ipykernel_6468\\1785624046.py\u001b[0m in \u001b[0;36m<module>\u001b[1;34m\u001b[0m\n\u001b[0;32m     21\u001b[0m             \u001b[1;34m'''df = df._append(new_row, ignore_index=True)'''\u001b[0m\u001b[1;33m\u001b[0m\u001b[1;33m\u001b[0m\u001b[0m\n\u001b[0;32m     22\u001b[0m             \u001b[1;34m'''df = pd.concat([df, pd.DataFrame([new_row])], ignore_index=True)'''\u001b[0m\u001b[1;33m\u001b[0m\u001b[1;33m\u001b[0m\u001b[0m\n\u001b[1;32m---> 23\u001b[1;33m             \u001b[0mdata\u001b[0m\u001b[1;33m.\u001b[0m\u001b[0mappend\u001b[0m\u001b[1;33m(\u001b[0m\u001b[1;33m{\u001b[0m\u001b[1;34m'Editions'\u001b[0m\u001b[1;33m:\u001b[0m \u001b[0meditions\u001b[0m\u001b[1;33m,\u001b[0m \u001b[1;34m'Year published'\u001b[0m\u001b[1;33m:\u001b[0m \u001b[0myear\u001b[0m\u001b[1;33m}\u001b[0m\u001b[1;33m)\u001b[0m\u001b[1;33m\u001b[0m\u001b[1;33m\u001b[0m\u001b[0m\n\u001b[0m\u001b[0;32m     24\u001b[0m         \u001b[1;32melse\u001b[0m\u001b[1;33m:\u001b[0m\u001b[1;33m\u001b[0m\u001b[1;33m\u001b[0m\u001b[0m\n\u001b[0;32m     25\u001b[0m             \u001b[0mprint\u001b[0m\u001b[1;33m(\u001b[0m\u001b[1;34mf\"Error: Unable to retrieve the page, status code {response.status_code}\"\u001b[0m\u001b[1;33m)\u001b[0m\u001b[1;33m\u001b[0m\u001b[1;33m\u001b[0m\u001b[0m\n",
      "\u001b[1;31mNameError\u001b[0m: name 'data' is not defined"
     ]
    }
   ],
   "source": [
    "df = pd.DataFrame(columns=['Editions', 'Year published'])\n",
    "page = 2\n",
    "while page <= 145:\n",
    "    url = 'https://openlibrary.org/search?subject=Extraterrestrial+beings%2C+fiction&page='+ str(page)\n",
    "    \n",
    "    # Make a request to the website and check the status code\n",
    "    response = requests.get(url)\n",
    "    if response.status_code == 200:\n",
    "        # Step 2: Parse the HTML content with BeautifulSoup\n",
    "        soup = BeautifulSoup(response.text, 'html.parser')\n",
    "        \n",
    "        # Find all the h2 elements with the specific class\n",
    "        mydivs = soup.find_all(\"span\", class_=\"resultDetails\")\n",
    "        \n",
    "        # Loop through each element and print the text\n",
    "        for blueText in mydivs:\n",
    "            step1 = blueText.get_text(strip=True).replace('First published in ', '', 1)\n",
    "            year = step1[0:4]\n",
    "            editions = step1[5: 7]\n",
    "            new_row = {'Editions': editions}\n",
    "            '''df = df._append(new_row, ignore_index=True)'''\n",
    "            '''df = pd.concat([df, pd.DataFrame([new_row])], ignore_index=True)'''\n",
    "            data.append({'Editions': editions, 'Year published': year})\n",
    "        else:\n",
    "            print(f\"Error: Unable to retrieve the page, status code {response.status_code}\")\n",
    "    \n",
    "    page += 1"
   ]
  },
  {
   "cell_type": "code",
   "execution_count": null,
   "id": "7f654d56",
   "metadata": {},
   "outputs": [],
   "source": [
    "df.info()"
   ]
  },
  {
   "cell_type": "code",
   "execution_count": null,
   "id": "cb13bab0",
   "metadata": {},
   "outputs": [],
   "source": [
    "# Step 1: Convert to numeric, forcing non-numeric values to NaN\n",
    "df[\"Editions\"] = pd.to_numeric(df[\"Editions\"], errors='coerce')\n",
    "\n",
    "# Step 2: Drop rows where \"Editions\" is NaN\n",
    "df = df.dropna(subset=[\"Editions\"])\n",
    "\n",
    "df.info()\n"
   ]
  },
  {
   "cell_type": "code",
   "execution_count": null,
   "id": "17956f53",
   "metadata": {},
   "outputs": [],
   "source": [
    "df[\"Editions\"].mean()"
   ]
  },
  {
   "cell_type": "code",
   "execution_count": null,
   "id": "3a0a7d6a",
   "metadata": {},
   "outputs": [],
   "source": []
  },
  {
   "cell_type": "markdown",
   "id": "109e5f57",
   "metadata": {},
   "source": [
    "# My Question"
   ]
  },
  {
   "cell_type": "markdown",
   "id": "94af0ecd",
   "metadata": {},
   "source": [
    "### Write your question here."
   ]
  },
  {
   "cell_type": "markdown",
   "id": "9070cec5",
   "metadata": {},
   "source": [
    "# My Analysis"
   ]
  },
  {
   "cell_type": "code",
   "execution_count": null,
   "id": "1fbfebe3",
   "metadata": {},
   "outputs": [],
   "source": [
    "# Analyze here"
   ]
  },
  {
   "cell_type": "markdown",
   "id": "b5a374a3",
   "metadata": {},
   "source": [
    "# My Answer"
   ]
  },
  {
   "cell_type": "markdown",
   "id": "2cadbfec",
   "metadata": {},
   "source": [
    "### Write your answer here."
   ]
  }
 ],
 "metadata": {
  "kernelspec": {
   "display_name": "Python 3 (ipykernel)",
   "language": "python",
   "name": "python3"
  },
  "language_info": {
   "codemirror_mode": {
    "name": "ipython",
    "version": 3
   },
   "file_extension": ".py",
   "mimetype": "text/x-python",
   "name": "python",
   "nbconvert_exporter": "python",
   "pygments_lexer": "ipython3",
   "version": "3.9.13"
  }
 },
 "nbformat": 4,
 "nbformat_minor": 5
}
