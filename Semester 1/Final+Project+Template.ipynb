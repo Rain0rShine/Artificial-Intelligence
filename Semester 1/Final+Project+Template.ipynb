{
 "cells": [
  {
   "cell_type": "markdown",
   "id": "e72e548d",
   "metadata": {},
   "source": [
    "# Choose a Data Set\n",
    "\n",
    "You can choose to analyze any data that you would like! Remember, you need 1000 rows of non-null data in order to get 5 points for the \"Data\" criteria of my [rubric](https://docs.google.com/document/d/1s3wllcF3LLnytxwD8mZ-BCypXKnfaahnizWGNojT-B4/edit?usp=sharing). Consider looking at [Kaggle](https://www.kaggle.com/datasets) or [free APIs](https://free-apis.github.io/#/browse) for datasets of this size. Alternatively, you can scrape the web to make your own dataset! :D\n",
    "\n",
    "Once you have chosen your dataset, please read your data into a dataframe and call `.info()` below. If you don't call `info` I will give you 0 points for the first criteria described on the [rubric](https://docs.google.com/document/d/1s3wllcF3LLnytxwD8mZ-BCypXKnfaahnizWGNojT-B4/edit?usp=sharing)."
   ]
  },
  {
   "cell_type": "code",
   "execution_count": 1,
   "id": "76003adb",
   "metadata": {},
   "outputs": [],
   "source": [
    "import pandas as pd\n",
    "import requests\n",
    "from bs4 import BeautifulSoup\n",
    "import seaborn as sns"
   ]
  },
  {
   "cell_type": "code",
   "execution_count": 2,
   "id": "d71eb2fa",
   "metadata": {},
   "outputs": [],
   "source": [
    "# Read data into a dataframe and call info()\n",
    "    # Example call:\n",
    "    # df = pd.DataFrame({\"A\":[1, 2, 3], \"B\":[4, 5, 6]})\n",
    "    # df.info()"
   ]
  },
  {
   "cell_type": "code",
   "execution_count": 3,
   "id": "6052af5b",
   "metadata": {},
   "outputs": [
    {
     "data": {
      "text/plain": [
       "' https://openlibrary.org/search?subject=Extraterrestrial%20beings,%20fiction '"
      ]
     },
     "execution_count": 3,
     "metadata": {},
     "output_type": "execute_result"
    }
   ],
   "source": [
    "''' https://openlibrary.org/search?subject=Extraterrestrial%20beings,%20fiction '''"
   ]
  },
  {
   "cell_type": "code",
   "execution_count": 4,
   "id": "95d14e23",
   "metadata": {
    "scrolled": true
   },
   "outputs": [
    {
     "name": "stdout",
     "output_type": "stream",
     "text": [
      "Error: Unable to retrieve the page, status code 200\n",
      "Error: Unable to retrieve the page, status code 200\n",
      "Error: Unable to retrieve the page, status code 200\n",
      "Error: Unable to retrieve the page, status code 200\n",
      "Error: Unable to retrieve the page, status code 200\n",
      "Error: Unable to retrieve the page, status code 200\n",
      "Error: Unable to retrieve the page, status code 200\n",
      "Error: Unable to retrieve the page, status code 200\n",
      "Error: Unable to retrieve the page, status code 200\n",
      "Error: Unable to retrieve the page, status code 200\n",
      "Error: Unable to retrieve the page, status code 200\n",
      "Error: Unable to retrieve the page, status code 200\n",
      "Error: Unable to retrieve the page, status code 200\n",
      "Error: Unable to retrieve the page, status code 200\n",
      "Error: Unable to retrieve the page, status code 200\n",
      "Error: Unable to retrieve the page, status code 200\n",
      "Error: Unable to retrieve the page, status code 200\n",
      "Error: Unable to retrieve the page, status code 200\n",
      "Error: Unable to retrieve the page, status code 200\n",
      "Error: Unable to retrieve the page, status code 200\n",
      "Error: Unable to retrieve the page, status code 200\n",
      "Error: Unable to retrieve the page, status code 200\n",
      "Error: Unable to retrieve the page, status code 200\n",
      "Error: Unable to retrieve the page, status code 200\n",
      "Error: Unable to retrieve the page, status code 200\n",
      "Error: Unable to retrieve the page, status code 200\n",
      "Error: Unable to retrieve the page, status code 200\n",
      "Error: Unable to retrieve the page, status code 200\n",
      "Error: Unable to retrieve the page, status code 200\n",
      "Error: Unable to retrieve the page, status code 200\n",
      "Error: Unable to retrieve the page, status code 200\n",
      "Error: Unable to retrieve the page, status code 200\n",
      "Error: Unable to retrieve the page, status code 200\n",
      "Error: Unable to retrieve the page, status code 200\n",
      "Error: Unable to retrieve the page, status code 200\n",
      "Error: Unable to retrieve the page, status code 200\n",
      "Error: Unable to retrieve the page, status code 200\n",
      "Error: Unable to retrieve the page, status code 200\n",
      "Error: Unable to retrieve the page, status code 200\n",
      "Error: Unable to retrieve the page, status code 200\n",
      "Error: Unable to retrieve the page, status code 200\n",
      "Error: Unable to retrieve the page, status code 200\n",
      "Error: Unable to retrieve the page, status code 200\n",
      "Error: Unable to retrieve the page, status code 200\n",
      "Error: Unable to retrieve the page, status code 200\n",
      "Error: Unable to retrieve the page, status code 200\n",
      "Error: Unable to retrieve the page, status code 200\n",
      "Error: Unable to retrieve the page, status code 200\n",
      "Error: Unable to retrieve the page, status code 200\n",
      "Error: Unable to retrieve the page, status code 200\n",
      "Error: Unable to retrieve the page, status code 200\n",
      "Error: Unable to retrieve the page, status code 200\n",
      "Error: Unable to retrieve the page, status code 200\n",
      "Error: Unable to retrieve the page, status code 200\n",
      "Error: Unable to retrieve the page, status code 200\n",
      "Error: Unable to retrieve the page, status code 200\n",
      "Error: Unable to retrieve the page, status code 200\n",
      "Error: Unable to retrieve the page, status code 200\n",
      "Error: Unable to retrieve the page, status code 200\n",
      "Error: Unable to retrieve the page, status code 200\n",
      "Error: Unable to retrieve the page, status code 200\n",
      "Error: Unable to retrieve the page, status code 200\n",
      "Error: Unable to retrieve the page, status code 200\n",
      "Error: Unable to retrieve the page, status code 200\n",
      "Error: Unable to retrieve the page, status code 200\n",
      "Error: Unable to retrieve the page, status code 200\n",
      "Error: Unable to retrieve the page, status code 200\n",
      "Error: Unable to retrieve the page, status code 200\n",
      "Error: Unable to retrieve the page, status code 200\n",
      "Error: Unable to retrieve the page, status code 200\n",
      "Error: Unable to retrieve the page, status code 200\n",
      "Error: Unable to retrieve the page, status code 200\n",
      "Error: Unable to retrieve the page, status code 200\n",
      "Error: Unable to retrieve the page, status code 200\n",
      "Error: Unable to retrieve the page, status code 200\n",
      "Error: Unable to retrieve the page, status code 200\n",
      "Error: Unable to retrieve the page, status code 200\n",
      "Error: Unable to retrieve the page, status code 200\n",
      "Error: Unable to retrieve the page, status code 200\n",
      "Error: Unable to retrieve the page, status code 200\n",
      "Error: Unable to retrieve the page, status code 200\n",
      "Error: Unable to retrieve the page, status code 200\n",
      "Error: Unable to retrieve the page, status code 200\n",
      "Error: Unable to retrieve the page, status code 200\n",
      "Error: Unable to retrieve the page, status code 200\n",
      "Error: Unable to retrieve the page, status code 200\n",
      "Error: Unable to retrieve the page, status code 200\n",
      "Error: Unable to retrieve the page, status code 200\n",
      "Error: Unable to retrieve the page, status code 200\n",
      "Error: Unable to retrieve the page, status code 200\n",
      "Error: Unable to retrieve the page, status code 200\n",
      "Error: Unable to retrieve the page, status code 200\n",
      "Error: Unable to retrieve the page, status code 200\n",
      "Error: Unable to retrieve the page, status code 200\n",
      "Error: Unable to retrieve the page, status code 200\n",
      "Error: Unable to retrieve the page, status code 200\n",
      "Error: Unable to retrieve the page, status code 200\n",
      "Error: Unable to retrieve the page, status code 200\n",
      "Error: Unable to retrieve the page, status code 200\n",
      "Error: Unable to retrieve the page, status code 200\n",
      "Error: Unable to retrieve the page, status code 200\n",
      "Error: Unable to retrieve the page, status code 200\n",
      "Error: Unable to retrieve the page, status code 200\n",
      "Error: Unable to retrieve the page, status code 200\n",
      "Error: Unable to retrieve the page, status code 200\n",
      "Error: Unable to retrieve the page, status code 200\n",
      "Error: Unable to retrieve the page, status code 200\n",
      "Error: Unable to retrieve the page, status code 200\n",
      "Error: Unable to retrieve the page, status code 200\n",
      "Error: Unable to retrieve the page, status code 200\n",
      "Error: Unable to retrieve the page, status code 200\n",
      "Error: Unable to retrieve the page, status code 200\n",
      "Error: Unable to retrieve the page, status code 200\n",
      "Error: Unable to retrieve the page, status code 200\n",
      "Error: Unable to retrieve the page, status code 200\n",
      "Error: Unable to retrieve the page, status code 200\n",
      "Error: Unable to retrieve the page, status code 200\n",
      "Error: Unable to retrieve the page, status code 200\n",
      "Error: Unable to retrieve the page, status code 200\n",
      "Error: Unable to retrieve the page, status code 200\n",
      "Error: Unable to retrieve the page, status code 200\n",
      "Error: Unable to retrieve the page, status code 200\n",
      "Error: Unable to retrieve the page, status code 200\n",
      "Error: Unable to retrieve the page, status code 200\n",
      "Error: Unable to retrieve the page, status code 200\n",
      "Error: Unable to retrieve the page, status code 200\n",
      "Error: Unable to retrieve the page, status code 200\n",
      "Error: Unable to retrieve the page, status code 200\n",
      "Error: Unable to retrieve the page, status code 200\n",
      "Error: Unable to retrieve the page, status code 200\n",
      "Error: Unable to retrieve the page, status code 200\n",
      "Error: Unable to retrieve the page, status code 200\n",
      "Error: Unable to retrieve the page, status code 200\n",
      "Error: Unable to retrieve the page, status code 200\n",
      "Error: Unable to retrieve the page, status code 200\n",
      "Error: Unable to retrieve the page, status code 200\n",
      "Error: Unable to retrieve the page, status code 200\n",
      "Error: Unable to retrieve the page, status code 200\n",
      "Error: Unable to retrieve the page, status code 200\n",
      "Error: Unable to retrieve the page, status code 200\n",
      "Error: Unable to retrieve the page, status code 200\n",
      "Error: Unable to retrieve the page, status code 200\n",
      "Error: Unable to retrieve the page, status code 200\n",
      "Error: Unable to retrieve the page, status code 200\n"
     ]
    }
   ],
   "source": [
    "df = pd.DataFrame(columns=['Editions', 'Year published'])\n",
    "page = 2\n",
    "while page <= 145:\n",
    "    url = 'https://openlibrary.org/search?subject=Extraterrestrial+beings%2C+fiction&page='+ str(page)\n",
    "    \n",
    "    # Make a request to the website and check the status code\n",
    "    response = requests.get(url)\n",
    "    if response.status_code == 200:\n",
    "        # Step 2: Parse the HTML content with BeautifulSoup\n",
    "        soup = BeautifulSoup(response.text, 'html.parser')\n",
    "        \n",
    "        # Find all the h2 elements with the specific class\n",
    "        mydivs = soup.find_all(\"span\", class_=\"resultDetails\")\n",
    "        \n",
    "        # Loop through each element and print the text\n",
    "        for blueText in mydivs:\n",
    "            step1 = blueText.get_text(strip=True).replace('First published in ', '', 1)\n",
    "            year = step1[0:4]\n",
    "            editions = step1[5: 7]\n",
    "            new_row = new_row = {'Editions': editions, 'Year published': year}\n",
    "            '''df = df._append(new_row, ignore_index=True)'''\n",
    "            df = pd.concat([df, pd.DataFrame([new_row])], ignore_index=True)\n",
    "            '''df.append({'Editions': editions, 'Year published': year}) '''\n",
    "        else:\n",
    "            print(f\"Error: Unable to retrieve the page, status code {response.status_code}\")\n",
    "    \n",
    "    page += 1"
   ]
  },
  {
   "cell_type": "code",
   "execution_count": 5,
   "id": "d3840a84",
   "metadata": {},
   "outputs": [
    {
     "name": "stdout",
     "output_type": "stream",
     "text": [
      "<class 'pandas.core.frame.DataFrame'>\n",
      "RangeIndex: 2878 entries, 0 to 2877\n",
      "Data columns (total 2 columns):\n",
      " #   Column          Non-Null Count  Dtype \n",
      "---  ------          --------------  ----- \n",
      " 0   Editions        2878 non-null   object\n",
      " 1   Year published  2878 non-null   object\n",
      "dtypes: object(2)\n",
      "memory usage: 45.1+ KB\n"
     ]
    }
   ],
   "source": [
    "df.info()"
   ]
  },
  {
   "cell_type": "code",
   "execution_count": 6,
   "id": "046952b3",
   "metadata": {},
   "outputs": [
    {
     "name": "stdout",
     "output_type": "stream",
     "text": [
      "<class 'pandas.core.frame.DataFrame'>\n",
      "Int64Index: 2859 entries, 0 to 2876\n",
      "Data columns (total 2 columns):\n",
      " #   Column          Non-Null Count  Dtype  \n",
      "---  ------          --------------  -----  \n",
      " 0   Editions        2859 non-null   float64\n",
      " 1   Year published  2859 non-null   object \n",
      "dtypes: float64(1), object(1)\n",
      "memory usage: 67.0+ KB\n"
     ]
    }
   ],
   "source": [
    "# Step 1: Convert to numeric, forcing non-numeric values to NaN\n",
    "df[\"Editions\"] = pd.to_numeric(df[\"Editions\"], errors='coerce')\n",
    "\n",
    "# Step 2: Drop rows where \"Editions\" is NaN\n",
    "df = df.dropna(subset=[\"Editions\"])\n",
    "\n",
    "df.info()\n"
   ]
  },
  {
   "cell_type": "code",
   "execution_count": 7,
   "id": "342fab24",
   "metadata": {},
   "outputs": [
    {
     "data": {
      "text/plain": [
       "2.451206715634837"
      ]
     },
     "execution_count": 7,
     "metadata": {},
     "output_type": "execute_result"
    }
   ],
   "source": [
    "df[\"Editions\"].mean()"
   ]
  },
  {
   "cell_type": "code",
   "execution_count": null,
   "id": "c6d56a7a",
   "metadata": {},
   "outputs": [],
   "source": []
  },
  {
   "cell_type": "markdown",
   "id": "109e5f57",
   "metadata": {},
   "source": [
    "# My Question"
   ]
  },
  {
   "cell_type": "markdown",
   "id": "94af0ecd",
   "metadata": {},
   "source": [
    "### Write your question here."
   ]
  },
  {
   "cell_type": "markdown",
   "id": "9070cec5",
   "metadata": {},
   "source": [
    "# My Analysis"
   ]
  },
  {
   "cell_type": "code",
   "execution_count": 8,
   "id": "1fbfebe3",
   "metadata": {},
   "outputs": [],
   "source": [
    "# Analyze here"
   ]
  },
  {
   "cell_type": "markdown",
   "id": "b5a374a3",
   "metadata": {},
   "source": [
    "# My Answer"
   ]
  },
  {
   "cell_type": "markdown",
   "id": "2cadbfec",
   "metadata": {},
   "source": [
    "### Write your answer here."
   ]
  }
 ],
 "metadata": {
  "kernelspec": {
   "display_name": "Python 3 (ipykernel)",
   "language": "python",
   "name": "python3"
  },
  "language_info": {
   "codemirror_mode": {
    "name": "ipython",
    "version": 3
   },
   "file_extension": ".py",
   "mimetype": "text/x-python",
   "name": "python",
   "nbconvert_exporter": "python",
   "pygments_lexer": "ipython3",
   "version": "3.9.13"
  }
 },
 "nbformat": 4,
 "nbformat_minor": 5
}
