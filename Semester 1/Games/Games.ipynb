{
 "cells": [
  {
   "cell_type": "code",
   "execution_count": 1,
   "id": "ab0a434e",
   "metadata": {},
   "outputs": [],
   "source": [
    "import pandas as pd\n",
    "import seaborn as sns\n",
    "games = pd.read_json('games.json')"
   ]
  },
  {
   "cell_type": "code",
   "execution_count": 2,
   "id": "bbea0e53",
   "metadata": {},
   "outputs": [
    {
     "name": "stdout",
     "output_type": "stream",
     "text": [
      "<class 'pandas.core.frame.DataFrame'>\n",
      "Int64Index: 97410 entries, 0 to 97409\n",
      "Data columns (total 38 columns):\n",
      " #   Column                    Non-Null Count  Dtype  \n",
      "---  ------                    --------------  -----  \n",
      " 0   ID                        97410 non-null  int64  \n",
      " 1   name                      97404 non-null  object \n",
      " 2   release_date              97410 non-null  object \n",
      " 3   estimated_owners          97410 non-null  object \n",
      " 4   peak_ccu                  97410 non-null  int64  \n",
      " 5   required_age              97410 non-null  int64  \n",
      " 6   price                     97410 non-null  float64\n",
      " 7   dlc_count                 97410 non-null  int64  \n",
      " 8   main_description          92540 non-null  object \n",
      " 9   supported_languages       97410 non-null  object \n",
      " 10  full_audio_languages      97410 non-null  object \n",
      " 11  reviews                   10125 non-null  object \n",
      " 12  header_image              97410 non-null  object \n",
      " 13  website                   42737 non-null  object \n",
      " 14  support_url               45908 non-null  object \n",
      " 15  support_email             81378 non-null  object \n",
      " 16  windows                   97410 non-null  bool   \n",
      " 17  mac                       97410 non-null  bool   \n",
      " 18  linux                     97410 non-null  bool   \n",
      " 19  metacritic_score          97410 non-null  int64  \n",
      " 20  metacriticURL             3953 non-null   object \n",
      " 21  user_score                97410 non-null  int64  \n",
      " 22  positive                  97410 non-null  int64  \n",
      " 23  negative                  97410 non-null  int64  \n",
      " 24  score_rank                44 non-null     float64\n",
      " 25  achievements              97410 non-null  int64  \n",
      " 26  recommendations           97410 non-null  int64  \n",
      " 27  notes                     15474 non-null  object \n",
      " 28  average_playtime_forever  97410 non-null  int64  \n",
      " 29  average_playtime_2weeks   97410 non-null  int64  \n",
      " 30  median_playtime_forever   97410 non-null  int64  \n",
      " 31  packages                  97410 non-null  int64  \n",
      " 32  developers                92534 non-null  object \n",
      " 33  publishers                92274 non-null  object \n",
      " 34  categories                91497 non-null  object \n",
      " 35  genres                    92569 non-null  object \n",
      " 36  tags                      67647 non-null  object \n",
      " 37  screenshots               94515 non-null  object \n",
      "dtypes: bool(3), float64(2), int64(14), object(19)\n",
      "memory usage: 27.0+ MB\n"
     ]
    }
   ],
   "source": [
    "games.info()"
   ]
  },
  {
   "cell_type": "code",
   "execution_count": 3,
   "id": "0fe81d9a",
   "metadata": {},
   "outputs": [
    {
     "data": {
      "text/html": [
       "<div>\n",
       "<style scoped>\n",
       "    .dataframe tbody tr th:only-of-type {\n",
       "        vertical-align: middle;\n",
       "    }\n",
       "\n",
       "    .dataframe tbody tr th {\n",
       "        vertical-align: top;\n",
       "    }\n",
       "\n",
       "    .dataframe thead th {\n",
       "        text-align: right;\n",
       "    }\n",
       "</style>\n",
       "<table border=\"1\" class=\"dataframe\">\n",
       "  <thead>\n",
       "    <tr style=\"text-align: right;\">\n",
       "      <th></th>\n",
       "      <th>ID</th>\n",
       "      <th>name</th>\n",
       "      <th>release_date</th>\n",
       "      <th>estimated_owners</th>\n",
       "      <th>peak_ccu</th>\n",
       "      <th>required_age</th>\n",
       "      <th>price</th>\n",
       "      <th>dlc_count</th>\n",
       "      <th>main_description</th>\n",
       "      <th>supported_languages</th>\n",
       "      <th>...</th>\n",
       "      <th>average_playtime_forever</th>\n",
       "      <th>average_playtime_2weeks</th>\n",
       "      <th>median_playtime_forever</th>\n",
       "      <th>packages</th>\n",
       "      <th>developers</th>\n",
       "      <th>publishers</th>\n",
       "      <th>categories</th>\n",
       "      <th>genres</th>\n",
       "      <th>tags</th>\n",
       "      <th>screenshots</th>\n",
       "    </tr>\n",
       "  </thead>\n",
       "  <tbody>\n",
       "    <tr>\n",
       "      <th>1025</th>\n",
       "      <td>22380</td>\n",
       "      <td>Fallout: New Vegas</td>\n",
       "      <td>Oct 19, 2010</td>\n",
       "      <td>2000000 - 5000000</td>\n",
       "      <td>5776</td>\n",
       "      <td>16</td>\n",
       "      <td>9.99</td>\n",
       "      <td>0</td>\n",
       "      <td>Welcome to Vegas. New Vegas. It’s the kind of ...</td>\n",
       "      <td>['English', 'French', 'German', 'Italian', 'Sp...</td>\n",
       "      <td>...</td>\n",
       "      <td>3044</td>\n",
       "      <td>112</td>\n",
       "      <td>976</td>\n",
       "      <td>153</td>\n",
       "      <td>Obsidian Entertainment</td>\n",
       "      <td>Bethesda Softworks</td>\n",
       "      <td>Single-player,Steam Achievements,Partial Contr...</td>\n",
       "      <td>Action,RPG</td>\n",
       "      <td>Open World,RPG,Post-apocalyptic,Singleplayer,M...</td>\n",
       "      <td>https://cdn.akamai.steamstatic.com/steam/apps/...</td>\n",
       "    </tr>\n",
       "  </tbody>\n",
       "</table>\n",
       "<p>1 rows × 38 columns</p>\n",
       "</div>"
      ],
      "text/plain": [
       "         ID                name  release_date   estimated_owners  peak_ccu  \\\n",
       "1025  22380  Fallout: New Vegas  Oct 19, 2010  2000000 - 5000000      5776   \n",
       "\n",
       "      required_age  price  dlc_count  \\\n",
       "1025            16   9.99          0   \n",
       "\n",
       "                                       main_description  \\\n",
       "1025  Welcome to Vegas. New Vegas. It’s the kind of ...   \n",
       "\n",
       "                                    supported_languages  ...  \\\n",
       "1025  ['English', 'French', 'German', 'Italian', 'Sp...  ...   \n",
       "\n",
       "     average_playtime_forever average_playtime_2weeks median_playtime_forever  \\\n",
       "1025                     3044                     112                     976   \n",
       "\n",
       "     packages              developers          publishers  \\\n",
       "1025      153  Obsidian Entertainment  Bethesda Softworks   \n",
       "\n",
       "                                             categories      genres  \\\n",
       "1025  Single-player,Steam Achievements,Partial Contr...  Action,RPG   \n",
       "\n",
       "                                                   tags  \\\n",
       "1025  Open World,RPG,Post-apocalyptic,Singleplayer,M...   \n",
       "\n",
       "                                            screenshots  \n",
       "1025  https://cdn.akamai.steamstatic.com/steam/apps/...  \n",
       "\n",
       "[1 rows x 38 columns]"
      ]
     },
     "execution_count": 3,
     "metadata": {},
     "output_type": "execute_result"
    }
   ],
   "source": [
    "sample = games[games['ID'] == 22380]\n",
    "sample"
   ]
  },
  {
   "cell_type": "code",
   "execution_count": 4,
   "id": "25b4e4c2",
   "metadata": {
    "scrolled": true
   },
   "outputs": [
    {
     "data": {
      "text/plain": [
       "<AxesSubplot:xlabel='price', ylabel='metacritic_score'>"
      ]
     },
     "execution_count": 4,
     "metadata": {},
     "output_type": "execute_result"
    },
    {
     "data": {
      "image/png": "[encoded data removed]",
      "text/plain": [
       "<Figure size 640x480 with 1 Axes>"
      ]
     },
     "metadata": {},
     "output_type": "display_data"
    }
   ],
   "source": [
    "games.plot.scatter(x ='price', y= 'metacritic_score', s=None, c=None)"
   ]
  },
  {
   "cell_type": "markdown",
   "id": "3fbef649",
   "metadata": {},
   "source": []
  },
  {
   "cell_type": "code",
   "execution_count": 5,
   "id": "857bf081",
   "metadata": {},
   "outputs": [
    {
     "data": {
      "text/plain": [
       "999.98"
      ]
     },
     "execution_count": 5,
     "metadata": {},
     "output_type": "execute_result"
    }
   ],
   "source": [
    "games['price'].max()"
   ]
  },
  {
   "cell_type": "markdown",
   "id": "e5e9c30d",
   "metadata": {},
   "source": [
    "There are a few outliers in price.The Leverage game costs $999 whixh is way higher than most video games. The avergae price for games is approximately $7"
   ]
  },
  {
   "cell_type": "markdown",
   "id": "834386be",
   "metadata": {},
   "source": []
  },
  {
   "cell_type": "code",
   "execution_count": 6,
   "id": "681815a5",
   "metadata": {},
   "outputs": [],
   "source": [
    "# index is 81901\n",
    "# index is 82971\n",
    "# index is 26936\n",
    "gamesRemoved = games.drop([81901, 82971, 26936])\n",
    "gamesRemoved = gamesRemoved.reset_index()"
   ]
  },
  {
   "cell_type": "code",
   "execution_count": null,
   "id": "d72c218b",
   "metadata": {},
   "outputs": [],
   "source": []
  },
  {
   "cell_type": "code",
   "execution_count": 7,
   "id": "c2aadd17",
   "metadata": {},
   "outputs": [
    {
     "data": {
      "text/plain": [
       "<AxesSubplot:xlabel='price', ylabel='metacritic_score'>"
      ]
     },
     "execution_count": 7,
     "metadata": {},
     "output_type": "execute_result"
    },
    {
     "data": {
      "image/png": "[encoded data removed]",
      "text/plain": [
       "<Figure size 640x480 with 1 Axes>"
      ]
     },
     "metadata": {},
     "output_type": "display_data"
    }
   ],
   "source": [
    "gamesRemoved.plot.scatter(x ='price', y= 'metacritic_score', s=None, c=None)"
   ]
  },
  {
   "cell_type": "code",
   "execution_count": 8,
   "id": "9ce7e8cb",
   "metadata": {},
   "outputs": [
    {
     "data": {
      "text/plain": [
       "<AxesSubplot:xlabel='price', ylabel='recommendations'>"
      ]
     },
     "execution_count": 8,
     "metadata": {},
     "output_type": "execute_result"
    },
    {
     "data": {
      "image/png": "[encoded data removed]",
      "text/plain": [
       "<Figure size 640x480 with 1 Axes>"
      ]
     },
     "metadata": {},
     "output_type": "display_data"
    }
   ],
   "source": [
    "games.plot.scatter(x ='price', y= 'recommendations', s=None, c=None)"
   ]
  },
  {
   "cell_type": "code",
   "execution_count": 9,
   "id": "6871ddfb",
   "metadata": {
    "scrolled": true
   },
   "outputs": [
    {
     "data": {
      "text/plain": [
       "<AxesSubplot:xlabel='price', ylabel='recommendations'>"
      ]
     },
     "execution_count": 9,
     "metadata": {},
     "output_type": "execute_result"
    },
    {
     "data": {
      "image/png": "[encoded data removed]",
      "text/plain": [
       "<Figure size 640x480 with 1 Axes>"
      ]
     },
     "metadata": {},
     "output_type": "display_data"
    }
   ],
   "source": [
    "gamesRemoved.plot.scatter(x ='price', y= 'recommendations', s=None, c=None)"
   ]
  },
  {
   "cell_type": "code",
   "execution_count": 10,
   "id": "54c5882e",
   "metadata": {},
   "outputs": [],
   "source": [
    "gamesRemoved = gamesRemoved.drop([46158])\n",
    "gamesRemoved = gamesRemoved.reset_index()"
   ]
  },
  {
   "cell_type": "code",
   "execution_count": 11,
   "id": "0e42c9f6",
   "metadata": {},
   "outputs": [
    {
     "data": {
      "text/plain": [
       "<AxesSubplot:xlabel='price', ylabel='recommendations'>"
      ]
     },
     "execution_count": 11,
     "metadata": {},
     "output_type": "execute_result"
    },
    {
     "data": {
      "image/png": "[encoded data removed]",
      "text/plain": [
       "<Figure size 640x480 with 1 Axes>"
      ]
     },
     "metadata": {},
     "output_type": "display_data"
    }
   ],
   "source": [
    "gamesRemoved.plot.scatter(x ='price', y= 'recommendations', s=None, c=None)"
   ]
  },
  {
   "cell_type": "code",
   "execution_count": 12,
   "id": "ae6a0085",
   "metadata": {},
   "outputs": [
    {
     "data": {
      "text/plain": [
       "<AxesSubplot:xlabel='positive', ylabel='negative'>"
      ]
     },
     "execution_count": 12,
     "metadata": {},
     "output_type": "execute_result"
    },
    {
     "data": {
      "image/png": "[encoded data removed]",
      "text/plain": [
       "<Figure size 640x480 with 1 Axes>"
      ]
     },
     "metadata": {},
     "output_type": "display_data"
    }
   ],
   "source": [
    "games.plot.scatter(x ='positive', y= 'negative', s=None, c=None)"
   ]
  },
  {
   "cell_type": "code",
   "execution_count": 13,
   "id": "8e594556",
   "metadata": {},
   "outputs": [
    {
     "name": "stdout",
     "output_type": "stream",
     "text": [
      "46158\n",
      "8885\n"
     ]
    }
   ],
   "source": [
    "print(games['positive'].idxmax())\n",
    "print(games['negative'].idxmax())"
   ]
  },
  {
   "cell_type": "code",
   "execution_count": 14,
   "id": "e70618b9",
   "metadata": {},
   "outputs": [],
   "source": [
    "gamesCleanPosNeg = games.drop([46158, 8885])"
   ]
  },
  {
   "cell_type": "code",
   "execution_count": 15,
   "id": "f8a7beb6",
   "metadata": {},
   "outputs": [
    {
     "data": {
      "text/plain": [
       "<AxesSubplot:xlabel='positive', ylabel='negative'>"
      ]
     },
     "execution_count": 15,
     "metadata": {},
     "output_type": "execute_result"
    },
    {
     "data": {
      "image/png": "[encoded data removed]",
      "text/plain": [
       "<Figure size 640x480 with 1 Axes>"
      ]
     },
     "metadata": {},
     "output_type": "display_data"
    }
   ],
   "source": [
    "gamesCleanPosNeg.plot.scatter(x ='positive', y= 'negative', s=None, c=None)"
   ]
  },
  {
   "cell_type": "code",
   "execution_count": 16,
   "id": "a795738e",
   "metadata": {},
   "outputs": [
    {
     "data": {
      "text/html": [
       "<div>\n",
       "<style scoped>\n",
       "    .dataframe tbody tr th:only-of-type {\n",
       "        vertical-align: middle;\n",
       "    }\n",
       "\n",
       "    .dataframe tbody tr th {\n",
       "        vertical-align: top;\n",
       "    }\n",
       "\n",
       "    .dataframe thead th {\n",
       "        text-align: right;\n",
       "    }\n",
       "</style>\n",
       "<table border=\"1\" class=\"dataframe\">\n",
       "  <thead>\n",
       "    <tr style=\"text-align: right;\">\n",
       "      <th></th>\n",
       "      <th>ID</th>\n",
       "      <th>peak_ccu</th>\n",
       "      <th>required_age</th>\n",
       "      <th>price</th>\n",
       "      <th>dlc_count</th>\n",
       "      <th>windows</th>\n",
       "      <th>mac</th>\n",
       "      <th>linux</th>\n",
       "      <th>metacritic_score</th>\n",
       "      <th>user_score</th>\n",
       "      <th>positive</th>\n",
       "      <th>negative</th>\n",
       "      <th>score_rank</th>\n",
       "      <th>achievements</th>\n",
       "      <th>recommendations</th>\n",
       "      <th>average_playtime_forever</th>\n",
       "      <th>average_playtime_2weeks</th>\n",
       "      <th>median_playtime_forever</th>\n",
       "      <th>packages</th>\n",
       "    </tr>\n",
       "  </thead>\n",
       "  <tbody>\n",
       "    <tr>\n",
       "      <th>ID</th>\n",
       "      <td>1.000000</td>\n",
       "      <td>-0.008097</td>\n",
       "      <td>-0.103954</td>\n",
       "      <td>-0.066164</td>\n",
       "      <td>NaN</td>\n",
       "      <td>0.007552</td>\n",
       "      <td>-0.201905</td>\n",
       "      <td>-0.139542</td>\n",
       "      <td>-0.263051</td>\n",
       "      <td>-0.018262</td>\n",
       "      <td>-0.046919</td>\n",
       "      <td>-0.038944</td>\n",
       "      <td>0.152725</td>\n",
       "      <td>-0.061747</td>\n",
       "      <td>-0.049229</td>\n",
       "      <td>-0.089796</td>\n",
       "      <td>-0.038627</td>\n",
       "      <td>-0.055848</td>\n",
       "      <td>-0.036843</td>\n",
       "    </tr>\n",
       "    <tr>\n",
       "      <th>peak_ccu</th>\n",
       "      <td>-0.008097</td>\n",
       "      <td>1.000000</td>\n",
       "      <td>0.028416</td>\n",
       "      <td>0.040309</td>\n",
       "      <td>NaN</td>\n",
       "      <td>0.000384</td>\n",
       "      <td>0.002614</td>\n",
       "      <td>0.003509</td>\n",
       "      <td>0.038814</td>\n",
       "      <td>-0.000429</td>\n",
       "      <td>0.469666</td>\n",
       "      <td>0.397728</td>\n",
       "      <td>-0.254030</td>\n",
       "      <td>0.005689</td>\n",
       "      <td>0.393734</td>\n",
       "      <td>0.106338</td>\n",
       "      <td>0.082295</td>\n",
       "      <td>0.019487</td>\n",
       "      <td>0.055837</td>\n",
       "    </tr>\n",
       "    <tr>\n",
       "      <th>required_age</th>\n",
       "      <td>-0.103954</td>\n",
       "      <td>0.028416</td>\n",
       "      <td>1.000000</td>\n",
       "      <td>0.094271</td>\n",
       "      <td>NaN</td>\n",
       "      <td>-0.006858</td>\n",
       "      <td>-0.002783</td>\n",
       "      <td>0.001357</td>\n",
       "      <td>0.195588</td>\n",
       "      <td>0.079026</td>\n",
       "      <td>0.067499</td>\n",
       "      <td>0.065021</td>\n",
       "      <td>0.079917</td>\n",
       "      <td>0.005948</td>\n",
       "      <td>0.095525</td>\n",
       "      <td>0.049940</td>\n",
       "      <td>0.057022</td>\n",
       "      <td>0.019173</td>\n",
       "      <td>0.053529</td>\n",
       "    </tr>\n",
       "    <tr>\n",
       "      <th>price</th>\n",
       "      <td>-0.066164</td>\n",
       "      <td>0.040309</td>\n",
       "      <td>0.094271</td>\n",
       "      <td>1.000000</td>\n",
       "      <td>NaN</td>\n",
       "      <td>-0.015266</td>\n",
       "      <td>0.033587</td>\n",
       "      <td>0.026972</td>\n",
       "      <td>0.135616</td>\n",
       "      <td>-0.000489</td>\n",
       "      <td>0.029094</td>\n",
       "      <td>0.024773</td>\n",
       "      <td>0.281748</td>\n",
       "      <td>0.008316</td>\n",
       "      <td>0.042239</td>\n",
       "      <td>0.059669</td>\n",
       "      <td>0.064176</td>\n",
       "      <td>0.039428</td>\n",
       "      <td>0.063011</td>\n",
       "    </tr>\n",
       "    <tr>\n",
       "      <th>dlc_count</th>\n",
       "      <td>NaN</td>\n",
       "      <td>NaN</td>\n",
       "      <td>NaN</td>\n",
       "      <td>NaN</td>\n",
       "      <td>NaN</td>\n",
       "      <td>NaN</td>\n",
       "      <td>NaN</td>\n",
       "      <td>NaN</td>\n",
       "      <td>NaN</td>\n",
       "      <td>NaN</td>\n",
       "      <td>NaN</td>\n",
       "      <td>NaN</td>\n",
       "      <td>NaN</td>\n",
       "      <td>NaN</td>\n",
       "      <td>NaN</td>\n",
       "      <td>NaN</td>\n",
       "      <td>NaN</td>\n",
       "      <td>NaN</td>\n",
       "      <td>NaN</td>\n",
       "    </tr>\n",
       "    <tr>\n",
       "      <th>windows</th>\n",
       "      <td>0.007552</td>\n",
       "      <td>0.000384</td>\n",
       "      <td>-0.006858</td>\n",
       "      <td>-0.015266</td>\n",
       "      <td>NaN</td>\n",
       "      <td>1.000000</td>\n",
       "      <td>-0.029614</td>\n",
       "      <td>-0.005024</td>\n",
       "      <td>0.003688</td>\n",
       "      <td>0.000377</td>\n",
       "      <td>0.000657</td>\n",
       "      <td>0.000544</td>\n",
       "      <td>NaN</td>\n",
       "      <td>0.001790</td>\n",
       "      <td>0.000731</td>\n",
       "      <td>0.001334</td>\n",
       "      <td>0.000984</td>\n",
       "      <td>0.000882</td>\n",
       "      <td>0.000973</td>\n",
       "    </tr>\n",
       "    <tr>\n",
       "      <th>mac</th>\n",
       "      <td>-0.201905</td>\n",
       "      <td>0.002614</td>\n",
       "      <td>-0.002783</td>\n",
       "      <td>0.033587</td>\n",
       "      <td>NaN</td>\n",
       "      <td>-0.029614</td>\n",
       "      <td>1.000000</td>\n",
       "      <td>0.565814</td>\n",
       "      <td>0.113546</td>\n",
       "      <td>0.003431</td>\n",
       "      <td>0.025408</td>\n",
       "      <td>0.011232</td>\n",
       "      <td>-0.123797</td>\n",
       "      <td>0.012854</td>\n",
       "      <td>0.021950</td>\n",
       "      <td>0.031244</td>\n",
       "      <td>0.006026</td>\n",
       "      <td>0.017776</td>\n",
       "      <td>0.004798</td>\n",
       "    </tr>\n",
       "    <tr>\n",
       "      <th>linux</th>\n",
       "      <td>-0.139542</td>\n",
       "      <td>0.003509</td>\n",
       "      <td>0.001357</td>\n",
       "      <td>0.026972</td>\n",
       "      <td>NaN</td>\n",
       "      <td>-0.005024</td>\n",
       "      <td>0.565814</td>\n",
       "      <td>1.000000</td>\n",
       "      <td>0.090449</td>\n",
       "      <td>0.006564</td>\n",
       "      <td>0.026424</td>\n",
       "      <td>0.011756</td>\n",
       "      <td>-0.005814</td>\n",
       "      <td>0.016100</td>\n",
       "      <td>0.023032</td>\n",
       "      <td>0.021541</td>\n",
       "      <td>0.004100</td>\n",
       "      <td>0.011264</td>\n",
       "      <td>0.001450</td>\n",
       "    </tr>\n",
       "    <tr>\n",
       "      <th>metacritic_score</th>\n",
       "      <td>-0.263051</td>\n",
       "      <td>0.038814</td>\n",
       "      <td>0.195588</td>\n",
       "      <td>0.135616</td>\n",
       "      <td>NaN</td>\n",
       "      <td>0.003688</td>\n",
       "      <td>0.113546</td>\n",
       "      <td>0.090449</td>\n",
       "      <td>1.000000</td>\n",
       "      <td>-0.001304</td>\n",
       "      <td>0.118661</td>\n",
       "      <td>0.080653</td>\n",
       "      <td>0.196195</td>\n",
       "      <td>0.018802</td>\n",
       "      <td>0.123803</td>\n",
       "      <td>0.110707</td>\n",
       "      <td>0.109952</td>\n",
       "      <td>0.046805</td>\n",
       "      <td>0.107317</td>\n",
       "    </tr>\n",
       "    <tr>\n",
       "      <th>user_score</th>\n",
       "      <td>-0.018262</td>\n",
       "      <td>-0.000429</td>\n",
       "      <td>0.079026</td>\n",
       "      <td>-0.000489</td>\n",
       "      <td>NaN</td>\n",
       "      <td>0.000377</td>\n",
       "      <td>0.003431</td>\n",
       "      <td>0.006564</td>\n",
       "      <td>-0.001304</td>\n",
       "      <td>1.000000</td>\n",
       "      <td>-0.000642</td>\n",
       "      <td>-0.000531</td>\n",
       "      <td>0.941245</td>\n",
       "      <td>0.002435</td>\n",
       "      <td>-0.000510</td>\n",
       "      <td>0.000269</td>\n",
       "      <td>0.000503</td>\n",
       "      <td>0.000460</td>\n",
       "      <td>0.000385</td>\n",
       "    </tr>\n",
       "    <tr>\n",
       "      <th>positive</th>\n",
       "      <td>-0.046919</td>\n",
       "      <td>0.469666</td>\n",
       "      <td>0.067499</td>\n",
       "      <td>0.029094</td>\n",
       "      <td>NaN</td>\n",
       "      <td>0.000657</td>\n",
       "      <td>0.025408</td>\n",
       "      <td>0.026424</td>\n",
       "      <td>0.118661</td>\n",
       "      <td>-0.000642</td>\n",
       "      <td>1.000000</td>\n",
       "      <td>0.782384</td>\n",
       "      <td>0.158575</td>\n",
       "      <td>0.013906</td>\n",
       "      <td>0.897107</td>\n",
       "      <td>0.203803</td>\n",
       "      <td>0.103005</td>\n",
       "      <td>0.035320</td>\n",
       "      <td>0.062537</td>\n",
       "    </tr>\n",
       "    <tr>\n",
       "      <th>negative</th>\n",
       "      <td>-0.038944</td>\n",
       "      <td>0.397728</td>\n",
       "      <td>0.065021</td>\n",
       "      <td>0.024773</td>\n",
       "      <td>NaN</td>\n",
       "      <td>0.000544</td>\n",
       "      <td>0.011232</td>\n",
       "      <td>0.011756</td>\n",
       "      <td>0.080653</td>\n",
       "      <td>-0.000531</td>\n",
       "      <td>0.782384</td>\n",
       "      <td>1.000000</td>\n",
       "      <td>-0.332659</td>\n",
       "      <td>0.010174</td>\n",
       "      <td>0.790650</td>\n",
       "      <td>0.195157</td>\n",
       "      <td>0.096048</td>\n",
       "      <td>0.036606</td>\n",
       "      <td>0.059363</td>\n",
       "    </tr>\n",
       "    <tr>\n",
       "      <th>score_rank</th>\n",
       "      <td>0.152725</td>\n",
       "      <td>-0.254030</td>\n",
       "      <td>0.079917</td>\n",
       "      <td>0.281748</td>\n",
       "      <td>NaN</td>\n",
       "      <td>NaN</td>\n",
       "      <td>-0.123797</td>\n",
       "      <td>-0.005814</td>\n",
       "      <td>0.196195</td>\n",
       "      <td>0.941245</td>\n",
       "      <td>0.158575</td>\n",
       "      <td>-0.332659</td>\n",
       "      <td>1.000000</td>\n",
       "      <td>-0.113213</td>\n",
       "      <td>0.238920</td>\n",
       "      <td>0.041754</td>\n",
       "      <td>0.196195</td>\n",
       "      <td>0.101289</td>\n",
       "      <td>0.196195</td>\n",
       "    </tr>\n",
       "    <tr>\n",
       "      <th>achievements</th>\n",
       "      <td>-0.061747</td>\n",
       "      <td>0.005689</td>\n",
       "      <td>0.005948</td>\n",
       "      <td>0.008316</td>\n",
       "      <td>NaN</td>\n",
       "      <td>0.001790</td>\n",
       "      <td>0.012854</td>\n",
       "      <td>0.016100</td>\n",
       "      <td>0.018802</td>\n",
       "      <td>0.002435</td>\n",
       "      <td>0.013906</td>\n",
       "      <td>0.010174</td>\n",
       "      <td>-0.113213</td>\n",
       "      <td>1.000000</td>\n",
       "      <td>0.013542</td>\n",
       "      <td>0.014906</td>\n",
       "      <td>0.010761</td>\n",
       "      <td>0.006987</td>\n",
       "      <td>0.009223</td>\n",
       "    </tr>\n",
       "    <tr>\n",
       "      <th>recommendations</th>\n",
       "      <td>-0.049229</td>\n",
       "      <td>0.393734</td>\n",
       "      <td>0.095525</td>\n",
       "      <td>0.042239</td>\n",
       "      <td>NaN</td>\n",
       "      <td>0.000731</td>\n",
       "      <td>0.021950</td>\n",
       "      <td>0.023032</td>\n",
       "      <td>0.123803</td>\n",
       "      <td>-0.000510</td>\n",
       "      <td>0.897107</td>\n",
       "      <td>0.790650</td>\n",
       "      <td>0.238920</td>\n",
       "      <td>0.013542</td>\n",
       "      <td>1.000000</td>\n",
       "      <td>0.182530</td>\n",
       "      <td>0.093813</td>\n",
       "      <td>0.039670</td>\n",
       "      <td>0.061403</td>\n",
       "    </tr>\n",
       "    <tr>\n",
       "      <th>average_playtime_forever</th>\n",
       "      <td>-0.089796</td>\n",
       "      <td>0.106338</td>\n",
       "      <td>0.049940</td>\n",
       "      <td>0.059669</td>\n",
       "      <td>NaN</td>\n",
       "      <td>0.001334</td>\n",
       "      <td>0.031244</td>\n",
       "      <td>0.021541</td>\n",
       "      <td>0.110707</td>\n",
       "      <td>0.000269</td>\n",
       "      <td>0.203803</td>\n",
       "      <td>0.195157</td>\n",
       "      <td>0.041754</td>\n",
       "      <td>0.014906</td>\n",
       "      <td>0.182530</td>\n",
       "      <td>1.000000</td>\n",
       "      <td>0.160959</td>\n",
       "      <td>0.884452</td>\n",
       "      <td>0.145197</td>\n",
       "    </tr>\n",
       "    <tr>\n",
       "      <th>average_playtime_2weeks</th>\n",
       "      <td>-0.038627</td>\n",
       "      <td>0.082295</td>\n",
       "      <td>0.057022</td>\n",
       "      <td>0.064176</td>\n",
       "      <td>NaN</td>\n",
       "      <td>0.000984</td>\n",
       "      <td>0.006026</td>\n",
       "      <td>0.004100</td>\n",
       "      <td>0.109952</td>\n",
       "      <td>0.000503</td>\n",
       "      <td>0.103005</td>\n",
       "      <td>0.096048</td>\n",
       "      <td>0.196195</td>\n",
       "      <td>0.010761</td>\n",
       "      <td>0.093813</td>\n",
       "      <td>0.160959</td>\n",
       "      <td>1.000000</td>\n",
       "      <td>0.076538</td>\n",
       "      <td>0.972128</td>\n",
       "    </tr>\n",
       "    <tr>\n",
       "      <th>median_playtime_forever</th>\n",
       "      <td>-0.055848</td>\n",
       "      <td>0.019487</td>\n",
       "      <td>0.019173</td>\n",
       "      <td>0.039428</td>\n",
       "      <td>NaN</td>\n",
       "      <td>0.000882</td>\n",
       "      <td>0.017776</td>\n",
       "      <td>0.011264</td>\n",
       "      <td>0.046805</td>\n",
       "      <td>0.000460</td>\n",
       "      <td>0.035320</td>\n",
       "      <td>0.036606</td>\n",
       "      <td>0.101289</td>\n",
       "      <td>0.006987</td>\n",
       "      <td>0.039670</td>\n",
       "      <td>0.884452</td>\n",
       "      <td>0.076538</td>\n",
       "      <td>1.000000</td>\n",
       "      <td>0.072721</td>\n",
       "    </tr>\n",
       "    <tr>\n",
       "      <th>packages</th>\n",
       "      <td>-0.036843</td>\n",
       "      <td>0.055837</td>\n",
       "      <td>0.053529</td>\n",
       "      <td>0.063011</td>\n",
       "      <td>NaN</td>\n",
       "      <td>0.000973</td>\n",
       "      <td>0.004798</td>\n",
       "      <td>0.001450</td>\n",
       "      <td>0.107317</td>\n",
       "      <td>0.000385</td>\n",
       "      <td>0.062537</td>\n",
       "      <td>0.059363</td>\n",
       "      <td>0.196195</td>\n",
       "      <td>0.009223</td>\n",
       "      <td>0.061403</td>\n",
       "      <td>0.145197</td>\n",
       "      <td>0.972128</td>\n",
       "      <td>0.072721</td>\n",
       "      <td>1.000000</td>\n",
       "    </tr>\n",
       "  </tbody>\n",
       "</table>\n",
       "</div>"
      ],
      "text/plain": [
       "                                ID  peak_ccu  required_age     price  \\\n",
       "ID                        1.000000 -0.008097     -0.103954 -0.066164   \n",
       "peak_ccu                 -0.008097  1.000000      0.028416  0.040309   \n",
       "required_age             -0.103954  0.028416      1.000000  0.094271   \n",
       "price                    -0.066164  0.040309      0.094271  1.000000   \n",
       "dlc_count                      NaN       NaN           NaN       NaN   \n",
       "windows                   0.007552  0.000384     -0.006858 -0.015266   \n",
       "mac                      -0.201905  0.002614     -0.002783  0.033587   \n",
       "linux                    -0.139542  0.003509      0.001357  0.026972   \n",
       "metacritic_score         -0.263051  0.038814      0.195588  0.135616   \n",
       "user_score               -0.018262 -0.000429      0.079026 -0.000489   \n",
       "positive                 -0.046919  0.469666      0.067499  0.029094   \n",
       "negative                 -0.038944  0.397728      0.065021  0.024773   \n",
       "score_rank                0.152725 -0.254030      0.079917  0.281748   \n",
       "achievements             -0.061747  0.005689      0.005948  0.008316   \n",
       "recommendations          -0.049229  0.393734      0.095525  0.042239   \n",
       "average_playtime_forever -0.089796  0.106338      0.049940  0.059669   \n",
       "average_playtime_2weeks  -0.038627  0.082295      0.057022  0.064176   \n",
       "median_playtime_forever  -0.055848  0.019487      0.019173  0.039428   \n",
       "packages                 -0.036843  0.055837      0.053529  0.063011   \n",
       "\n",
       "                          dlc_count   windows       mac     linux  \\\n",
       "ID                              NaN  0.007552 -0.201905 -0.139542   \n",
       "peak_ccu                        NaN  0.000384  0.002614  0.003509   \n",
       "required_age                    NaN -0.006858 -0.002783  0.001357   \n",
       "price                           NaN -0.015266  0.033587  0.026972   \n",
       "dlc_count                       NaN       NaN       NaN       NaN   \n",
       "windows                         NaN  1.000000 -0.029614 -0.005024   \n",
       "mac                             NaN -0.029614  1.000000  0.565814   \n",
       "linux                           NaN -0.005024  0.565814  1.000000   \n",
       "metacritic_score                NaN  0.003688  0.113546  0.090449   \n",
       "user_score                      NaN  0.000377  0.003431  0.006564   \n",
       "positive                        NaN  0.000657  0.025408  0.026424   \n",
       "negative                        NaN  0.000544  0.011232  0.011756   \n",
       "score_rank                      NaN       NaN -0.123797 -0.005814   \n",
       "achievements                    NaN  0.001790  0.012854  0.016100   \n",
       "recommendations                 NaN  0.000731  0.021950  0.023032   \n",
       "average_playtime_forever        NaN  0.001334  0.031244  0.021541   \n",
       "average_playtime_2weeks         NaN  0.000984  0.006026  0.004100   \n",
       "median_playtime_forever         NaN  0.000882  0.017776  0.011264   \n",
       "packages                        NaN  0.000973  0.004798  0.001450   \n",
       "\n",
       "                          metacritic_score  user_score  positive  negative  \\\n",
       "ID                               -0.263051   -0.018262 -0.046919 -0.038944   \n",
       "peak_ccu                          0.038814   -0.000429  0.469666  0.397728   \n",
       "required_age                      0.195588    0.079026  0.067499  0.065021   \n",
       "price                             0.135616   -0.000489  0.029094  0.024773   \n",
       "dlc_count                              NaN         NaN       NaN       NaN   \n",
       "windows                           0.003688    0.000377  0.000657  0.000544   \n",
       "mac                               0.113546    0.003431  0.025408  0.011232   \n",
       "linux                             0.090449    0.006564  0.026424  0.011756   \n",
       "metacritic_score                  1.000000   -0.001304  0.118661  0.080653   \n",
       "user_score                       -0.001304    1.000000 -0.000642 -0.000531   \n",
       "positive                          0.118661   -0.000642  1.000000  0.782384   \n",
       "negative                          0.080653   -0.000531  0.782384  1.000000   \n",
       "score_rank                        0.196195    0.941245  0.158575 -0.332659   \n",
       "achievements                      0.018802    0.002435  0.013906  0.010174   \n",
       "recommendations                   0.123803   -0.000510  0.897107  0.790650   \n",
       "average_playtime_forever          0.110707    0.000269  0.203803  0.195157   \n",
       "average_playtime_2weeks           0.109952    0.000503  0.103005  0.096048   \n",
       "median_playtime_forever           0.046805    0.000460  0.035320  0.036606   \n",
       "packages                          0.107317    0.000385  0.062537  0.059363   \n",
       "\n",
       "                          score_rank  achievements  recommendations  \\\n",
       "ID                          0.152725     -0.061747        -0.049229   \n",
       "peak_ccu                   -0.254030      0.005689         0.393734   \n",
       "required_age                0.079917      0.005948         0.095525   \n",
       "price                       0.281748      0.008316         0.042239   \n",
       "dlc_count                        NaN           NaN              NaN   \n",
       "windows                          NaN      0.001790         0.000731   \n",
       "mac                        -0.123797      0.012854         0.021950   \n",
       "linux                      -0.005814      0.016100         0.023032   \n",
       "metacritic_score            0.196195      0.018802         0.123803   \n",
       "user_score                  0.941245      0.002435        -0.000510   \n",
       "positive                    0.158575      0.013906         0.897107   \n",
       "negative                   -0.332659      0.010174         0.790650   \n",
       "score_rank                  1.000000     -0.113213         0.238920   \n",
       "achievements               -0.113213      1.000000         0.013542   \n",
       "recommendations             0.238920      0.013542         1.000000   \n",
       "average_playtime_forever    0.041754      0.014906         0.182530   \n",
       "average_playtime_2weeks     0.196195      0.010761         0.093813   \n",
       "median_playtime_forever     0.101289      0.006987         0.039670   \n",
       "packages                    0.196195      0.009223         0.061403   \n",
       "\n",
       "                          average_playtime_forever  average_playtime_2weeks  \\\n",
       "ID                                       -0.089796                -0.038627   \n",
       "peak_ccu                                  0.106338                 0.082295   \n",
       "required_age                              0.049940                 0.057022   \n",
       "price                                     0.059669                 0.064176   \n",
       "dlc_count                                      NaN                      NaN   \n",
       "windows                                   0.001334                 0.000984   \n",
       "mac                                       0.031244                 0.006026   \n",
       "linux                                     0.021541                 0.004100   \n",
       "metacritic_score                          0.110707                 0.109952   \n",
       "user_score                                0.000269                 0.000503   \n",
       "positive                                  0.203803                 0.103005   \n",
       "negative                                  0.195157                 0.096048   \n",
       "score_rank                                0.041754                 0.196195   \n",
       "achievements                              0.014906                 0.010761   \n",
       "recommendations                           0.182530                 0.093813   \n",
       "average_playtime_forever                  1.000000                 0.160959   \n",
       "average_playtime_2weeks                   0.160959                 1.000000   \n",
       "median_playtime_forever                   0.884452                 0.076538   \n",
       "packages                                  0.145197                 0.972128   \n",
       "\n",
       "                          median_playtime_forever  packages  \n",
       "ID                                      -0.055848 -0.036843  \n",
       "peak_ccu                                 0.019487  0.055837  \n",
       "required_age                             0.019173  0.053529  \n",
       "price                                    0.039428  0.063011  \n",
       "dlc_count                                     NaN       NaN  \n",
       "windows                                  0.000882  0.000973  \n",
       "mac                                      0.017776  0.004798  \n",
       "linux                                    0.011264  0.001450  \n",
       "metacritic_score                         0.046805  0.107317  \n",
       "user_score                               0.000460  0.000385  \n",
       "positive                                 0.035320  0.062537  \n",
       "negative                                 0.036606  0.059363  \n",
       "score_rank                               0.101289  0.196195  \n",
       "achievements                             0.006987  0.009223  \n",
       "recommendations                          0.039670  0.061403  \n",
       "average_playtime_forever                 0.884452  0.145197  \n",
       "average_playtime_2weeks                  0.076538  0.972128  \n",
       "median_playtime_forever                  1.000000  0.072721  \n",
       "packages                                 0.072721  1.000000  "
      ]
     },
     "execution_count": 16,
     "metadata": {},
     "output_type": "execute_result"
    }
   ],
   "source": [
    "games.corr(method='pearson')"
   ]
  },
  {
   "cell_type": "code",
   "execution_count": 17,
   "id": "4ad9d184",
   "metadata": {},
   "outputs": [
    {
     "data": {
      "text/html": [
       "<div>\n",
       "<style scoped>\n",
       "    .dataframe tbody tr th:only-of-type {\n",
       "        vertical-align: middle;\n",
       "    }\n",
       "\n",
       "    .dataframe tbody tr th {\n",
       "        vertical-align: top;\n",
       "    }\n",
       "\n",
       "    .dataframe thead th {\n",
       "        text-align: right;\n",
       "    }\n",
       "</style>\n",
       "<table border=\"1\" class=\"dataframe\">\n",
       "  <thead>\n",
       "    <tr style=\"text-align: right;\">\n",
       "      <th></th>\n",
       "      <th>positive</th>\n",
       "      <th>negative</th>\n",
       "    </tr>\n",
       "  </thead>\n",
       "  <tbody>\n",
       "    <tr>\n",
       "      <th>positive</th>\n",
       "      <td>1.000000</td>\n",
       "      <td>0.782384</td>\n",
       "    </tr>\n",
       "    <tr>\n",
       "      <th>negative</th>\n",
       "      <td>0.782384</td>\n",
       "      <td>1.000000</td>\n",
       "    </tr>\n",
       "  </tbody>\n",
       "</table>\n",
       "</div>"
      ],
      "text/plain": [
       "          positive  negative\n",
       "positive  1.000000  0.782384\n",
       "negative  0.782384  1.000000"
      ]
     },
     "execution_count": 17,
     "metadata": {},
     "output_type": "execute_result"
    }
   ],
   "source": [
    "subGames = games[['positive', 'negative']]\n",
    "subGames.corr(method = 'pearson')"
   ]
  },
  {
   "cell_type": "markdown",
   "id": "fd7409fe",
   "metadata": {},
   "source": [
    "Looking at the scatterplot for positive and negative reviews there appears to be a positive linear relationship. There are a few outliers toconsider. With outliers the correlation coefficient is 0.78 which means that the relationship of between positive and negative reviews is strong and positive. This means that as the number of positive reviews for a game increase the amount of negative reviews decreases. "
   ]
  },
  {
   "cell_type": "markdown",
   "id": "561ea0c1",
   "metadata": {},
   "source": [
    "### What is the relationship between average playtime (forever) and user score?\n",
    "There is no relationship."
   ]
  },
  {
   "cell_type": "code",
   "execution_count": 18,
   "id": "aa6bc8e5",
   "metadata": {},
   "outputs": [
    {
     "data": {
      "text/plain": [
       "<AxesSubplot:xlabel='user_score', ylabel='average_playtime_forever'>"
      ]
     },
     "execution_count": 18,
     "metadata": {},
     "output_type": "execute_result"
    },
    {
     "data": {
      "image/png": "[encoded data removed]",
      "text/plain": [
       "<Figure size 640x480 with 1 Axes>"
      ]
     },
     "metadata": {},
     "output_type": "display_data"
    }
   ],
   "source": [
    "games.plot.scatter(x ='user_score', y= 'average_playtime_forever', s=None, c=None)"
   ]
  },
  {
   "cell_type": "code",
   "execution_count": 19,
   "id": "a57ce497",
   "metadata": {},
   "outputs": [
    {
     "data": {
      "text/plain": [
       "0.00026864158583680465"
      ]
     },
     "execution_count": 19,
     "metadata": {},
     "output_type": "execute_result"
    }
   ],
   "source": [
    "games['user_score'].corr(games['average_playtime_forever'])"
   ]
  },
  {
   "cell_type": "markdown",
   "id": "48ad455a",
   "metadata": {},
   "source": [
    "### What is the relationship between metacritic score and user score?\n",
    "No relationship"
   ]
  },
  {
   "cell_type": "code",
   "execution_count": 20,
   "id": "f7fcdead",
   "metadata": {},
   "outputs": [
    {
     "data": {
      "text/plain": [
       "<AxesSubplot:xlabel='user_score', ylabel='metacritic_score'>"
      ]
     },
     "execution_count": 20,
     "metadata": {},
     "output_type": "execute_result"
    },
    {
     "data": {
      "image/png": "[encoded data removed]",
      "text/plain": [
       "<Figure size 640x480 with 1 Axes>"
      ]
     },
     "metadata": {},
     "output_type": "display_data"
    }
   ],
   "source": [
    "games.plot.scatter(x ='user_score', y= 'metacritic_score', s=None, c=None)"
   ]
  },
  {
   "cell_type": "markdown",
   "id": "97a249fa",
   "metadata": {},
   "source": [
    "### What is the relationship between price and user score?"
   ]
  },
  {
   "cell_type": "code",
   "execution_count": 21,
   "id": "d5ce334e",
   "metadata": {},
   "outputs": [
    {
     "ename": "KeyError",
     "evalue": "''",
     "output_type": "error",
     "traceback": [
      "\u001b[1;31m---------------------------------------------------------------------------\u001b[0m",
      "\u001b[1;31mKeyError\u001b[0m                                  Traceback (most recent call last)",
      "\u001b[1;32mC:\\ProgramData\\Anaconda3\\lib\\site-packages\\pandas\\core\\indexes\\base.py\u001b[0m in \u001b[0;36mget_loc\u001b[1;34m(self, key, method, tolerance)\u001b[0m\n\u001b[0;32m   3628\u001b[0m             \u001b[1;32mtry\u001b[0m\u001b[1;33m:\u001b[0m\u001b[1;33m\u001b[0m\u001b[1;33m\u001b[0m\u001b[0m\n\u001b[1;32m-> 3629\u001b[1;33m                 \u001b[1;32mreturn\u001b[0m \u001b[0mself\u001b[0m\u001b[1;33m.\u001b[0m\u001b[0m_engine\u001b[0m\u001b[1;33m.\u001b[0m\u001b[0mget_loc\u001b[0m\u001b[1;33m(\u001b[0m\u001b[0mcasted_key\u001b[0m\u001b[1;33m)\u001b[0m\u001b[1;33m\u001b[0m\u001b[1;33m\u001b[0m\u001b[0m\n\u001b[0m\u001b[0;32m   3630\u001b[0m             \u001b[1;32mexcept\u001b[0m \u001b[0mKeyError\u001b[0m \u001b[1;32mas\u001b[0m \u001b[0merr\u001b[0m\u001b[1;33m:\u001b[0m\u001b[1;33m\u001b[0m\u001b[1;33m\u001b[0m\u001b[0m\n",
      "\u001b[1;32mC:\\ProgramData\\Anaconda3\\lib\\site-packages\\pandas\\_libs\\index.pyx\u001b[0m in \u001b[0;36mpandas._libs.index.IndexEngine.get_loc\u001b[1;34m()\u001b[0m\n",
      "\u001b[1;32mC:\\ProgramData\\Anaconda3\\lib\\site-packages\\pandas\\_libs\\index.pyx\u001b[0m in \u001b[0;36mpandas._libs.index.IndexEngine.get_loc\u001b[1;34m()\u001b[0m\n",
      "\u001b[1;32mpandas\\_libs\\hashtable_class_helper.pxi\u001b[0m in \u001b[0;36mpandas._libs.hashtable.PyObjectHashTable.get_item\u001b[1;34m()\u001b[0m\n",
      "\u001b[1;32mpandas\\_libs\\hashtable_class_helper.pxi\u001b[0m in \u001b[0;36mpandas._libs.hashtable.PyObjectHashTable.get_item\u001b[1;34m()\u001b[0m\n",
      "\u001b[1;31mKeyError\u001b[0m: ''",
      "\nThe above exception was the direct cause of the following exception:\n",
      "\u001b[1;31mKeyError\u001b[0m                                  Traceback (most recent call last)",
      "\u001b[1;32m~\\AppData\\Local\\Temp\\ipykernel_12444\\3798446579.py\u001b[0m in \u001b[0;36m<module>\u001b[1;34m\u001b[0m\n\u001b[1;32m----> 1\u001b[1;33m \u001b[0mgames\u001b[0m\u001b[1;33m.\u001b[0m\u001b[0mplot\u001b[0m\u001b[1;33m.\u001b[0m\u001b[0mscatter\u001b[0m\u001b[1;33m(\u001b[0m\u001b[0mx\u001b[0m \u001b[1;33m=\u001b[0m\u001b[1;34m''\u001b[0m\u001b[1;33m,\u001b[0m \u001b[0my\u001b[0m\u001b[1;33m=\u001b[0m \u001b[1;34m'user_score'\u001b[0m\u001b[1;33m,\u001b[0m \u001b[0ms\u001b[0m\u001b[1;33m=\u001b[0m\u001b[1;32mNone\u001b[0m\u001b[1;33m,\u001b[0m \u001b[0mc\u001b[0m\u001b[1;33m=\u001b[0m\u001b[1;32mNone\u001b[0m\u001b[1;33m)\u001b[0m\u001b[1;33m\u001b[0m\u001b[1;33m\u001b[0m\u001b[0m\n\u001b[0m",
      "\u001b[1;32mC:\\ProgramData\\Anaconda3\\lib\\site-packages\\pandas\\plotting\\_core.py\u001b[0m in \u001b[0;36mscatter\u001b[1;34m(self, x, y, s, c, **kwargs)\u001b[0m\n\u001b[0;32m   1667\u001b[0m             ...                       colormap='viridis')\n\u001b[0;32m   1668\u001b[0m         \"\"\"\n\u001b[1;32m-> 1669\u001b[1;33m         \u001b[1;32mreturn\u001b[0m \u001b[0mself\u001b[0m\u001b[1;33m(\u001b[0m\u001b[0mkind\u001b[0m\u001b[1;33m=\u001b[0m\u001b[1;34m\"scatter\"\u001b[0m\u001b[1;33m,\u001b[0m \u001b[0mx\u001b[0m\u001b[1;33m=\u001b[0m\u001b[0mx\u001b[0m\u001b[1;33m,\u001b[0m \u001b[0my\u001b[0m\u001b[1;33m=\u001b[0m\u001b[0my\u001b[0m\u001b[1;33m,\u001b[0m \u001b[0ms\u001b[0m\u001b[1;33m=\u001b[0m\u001b[0ms\u001b[0m\u001b[1;33m,\u001b[0m \u001b[0mc\u001b[0m\u001b[1;33m=\u001b[0m\u001b[0mc\u001b[0m\u001b[1;33m,\u001b[0m \u001b[1;33m**\u001b[0m\u001b[0mkwargs\u001b[0m\u001b[1;33m)\u001b[0m\u001b[1;33m\u001b[0m\u001b[1;33m\u001b[0m\u001b[0m\n\u001b[0m\u001b[0;32m   1670\u001b[0m \u001b[1;33m\u001b[0m\u001b[0m\n\u001b[0;32m   1671\u001b[0m     \u001b[1;32mdef\u001b[0m \u001b[0mhexbin\u001b[0m\u001b[1;33m(\u001b[0m\u001b[0mself\u001b[0m\u001b[1;33m,\u001b[0m \u001b[0mx\u001b[0m\u001b[1;33m,\u001b[0m \u001b[0my\u001b[0m\u001b[1;33m,\u001b[0m \u001b[0mC\u001b[0m\u001b[1;33m=\u001b[0m\u001b[1;32mNone\u001b[0m\u001b[1;33m,\u001b[0m \u001b[0mreduce_C_function\u001b[0m\u001b[1;33m=\u001b[0m\u001b[1;32mNone\u001b[0m\u001b[1;33m,\u001b[0m \u001b[0mgridsize\u001b[0m\u001b[1;33m=\u001b[0m\u001b[1;32mNone\u001b[0m\u001b[1;33m,\u001b[0m \u001b[1;33m**\u001b[0m\u001b[0mkwargs\u001b[0m\u001b[1;33m)\u001b[0m\u001b[1;33m:\u001b[0m\u001b[1;33m\u001b[0m\u001b[1;33m\u001b[0m\u001b[0m\n",
      "\u001b[1;32mC:\\ProgramData\\Anaconda3\\lib\\site-packages\\pandas\\plotting\\_core.py\u001b[0m in \u001b[0;36m__call__\u001b[1;34m(self, *args, **kwargs)\u001b[0m\n\u001b[0;32m    915\u001b[0m         \u001b[1;32mif\u001b[0m \u001b[0mkind\u001b[0m \u001b[1;32min\u001b[0m \u001b[0mself\u001b[0m\u001b[1;33m.\u001b[0m\u001b[0m_dataframe_kinds\u001b[0m\u001b[1;33m:\u001b[0m\u001b[1;33m\u001b[0m\u001b[1;33m\u001b[0m\u001b[0m\n\u001b[0;32m    916\u001b[0m             \u001b[1;32mif\u001b[0m \u001b[0misinstance\u001b[0m\u001b[1;33m(\u001b[0m\u001b[0mdata\u001b[0m\u001b[1;33m,\u001b[0m \u001b[0mABCDataFrame\u001b[0m\u001b[1;33m)\u001b[0m\u001b[1;33m:\u001b[0m\u001b[1;33m\u001b[0m\u001b[1;33m\u001b[0m\u001b[0m\n\u001b[1;32m--> 917\u001b[1;33m                 \u001b[1;32mreturn\u001b[0m \u001b[0mplot_backend\u001b[0m\u001b[1;33m.\u001b[0m\u001b[0mplot\u001b[0m\u001b[1;33m(\u001b[0m\u001b[0mdata\u001b[0m\u001b[1;33m,\u001b[0m \u001b[0mx\u001b[0m\u001b[1;33m=\u001b[0m\u001b[0mx\u001b[0m\u001b[1;33m,\u001b[0m \u001b[0my\u001b[0m\u001b[1;33m=\u001b[0m\u001b[0my\u001b[0m\u001b[1;33m,\u001b[0m \u001b[0mkind\u001b[0m\u001b[1;33m=\u001b[0m\u001b[0mkind\u001b[0m\u001b[1;33m,\u001b[0m \u001b[1;33m**\u001b[0m\u001b[0mkwargs\u001b[0m\u001b[1;33m)\u001b[0m\u001b[1;33m\u001b[0m\u001b[1;33m\u001b[0m\u001b[0m\n\u001b[0m\u001b[0;32m    918\u001b[0m             \u001b[1;32melse\u001b[0m\u001b[1;33m:\u001b[0m\u001b[1;33m\u001b[0m\u001b[1;33m\u001b[0m\u001b[0m\n\u001b[0;32m    919\u001b[0m                 \u001b[1;32mraise\u001b[0m \u001b[0mValueError\u001b[0m\u001b[1;33m(\u001b[0m\u001b[1;34mf\"plot kind {kind} can only be used for data frames\"\u001b[0m\u001b[1;33m)\u001b[0m\u001b[1;33m\u001b[0m\u001b[1;33m\u001b[0m\u001b[0m\n",
      "\u001b[1;32mC:\\ProgramData\\Anaconda3\\lib\\site-packages\\pandas\\plotting\\_matplotlib\\__init__.py\u001b[0m in \u001b[0;36mplot\u001b[1;34m(data, kind, **kwargs)\u001b[0m\n\u001b[0;32m     69\u001b[0m             \u001b[0mkwargs\u001b[0m\u001b[1;33m[\u001b[0m\u001b[1;34m\"ax\"\u001b[0m\u001b[1;33m]\u001b[0m \u001b[1;33m=\u001b[0m \u001b[0mgetattr\u001b[0m\u001b[1;33m(\u001b[0m\u001b[0max\u001b[0m\u001b[1;33m,\u001b[0m \u001b[1;34m\"left_ax\"\u001b[0m\u001b[1;33m,\u001b[0m \u001b[0max\u001b[0m\u001b[1;33m)\u001b[0m\u001b[1;33m\u001b[0m\u001b[1;33m\u001b[0m\u001b[0m\n\u001b[0;32m     70\u001b[0m     \u001b[0mplot_obj\u001b[0m \u001b[1;33m=\u001b[0m \u001b[0mPLOT_CLASSES\u001b[0m\u001b[1;33m[\u001b[0m\u001b[0mkind\u001b[0m\u001b[1;33m]\u001b[0m\u001b[1;33m(\u001b[0m\u001b[0mdata\u001b[0m\u001b[1;33m,\u001b[0m \u001b[1;33m**\u001b[0m\u001b[0mkwargs\u001b[0m\u001b[1;33m)\u001b[0m\u001b[1;33m\u001b[0m\u001b[1;33m\u001b[0m\u001b[0m\n\u001b[1;32m---> 71\u001b[1;33m     \u001b[0mplot_obj\u001b[0m\u001b[1;33m.\u001b[0m\u001b[0mgenerate\u001b[0m\u001b[1;33m(\u001b[0m\u001b[1;33m)\u001b[0m\u001b[1;33m\u001b[0m\u001b[1;33m\u001b[0m\u001b[0m\n\u001b[0m\u001b[0;32m     72\u001b[0m     \u001b[0mplot_obj\u001b[0m\u001b[1;33m.\u001b[0m\u001b[0mdraw\u001b[0m\u001b[1;33m(\u001b[0m\u001b[1;33m)\u001b[0m\u001b[1;33m\u001b[0m\u001b[1;33m\u001b[0m\u001b[0m\n\u001b[0;32m     73\u001b[0m     \u001b[1;32mreturn\u001b[0m \u001b[0mplot_obj\u001b[0m\u001b[1;33m.\u001b[0m\u001b[0mresult\u001b[0m\u001b[1;33m\u001b[0m\u001b[1;33m\u001b[0m\u001b[0m\n",
      "\u001b[1;32mC:\\ProgramData\\Anaconda3\\lib\\site-packages\\pandas\\plotting\\_matplotlib\\core.py\u001b[0m in \u001b[0;36mgenerate\u001b[1;34m(self)\u001b[0m\n\u001b[0;32m    327\u001b[0m         \u001b[0mself\u001b[0m\u001b[1;33m.\u001b[0m\u001b[0m_compute_plot_data\u001b[0m\u001b[1;33m(\u001b[0m\u001b[1;33m)\u001b[0m\u001b[1;33m\u001b[0m\u001b[1;33m\u001b[0m\u001b[0m\n\u001b[0;32m    328\u001b[0m         \u001b[0mself\u001b[0m\u001b[1;33m.\u001b[0m\u001b[0m_setup_subplots\u001b[0m\u001b[1;33m(\u001b[0m\u001b[1;33m)\u001b[0m\u001b[1;33m\u001b[0m\u001b[1;33m\u001b[0m\u001b[0m\n\u001b[1;32m--> 329\u001b[1;33m         \u001b[0mself\u001b[0m\u001b[1;33m.\u001b[0m\u001b[0m_make_plot\u001b[0m\u001b[1;33m(\u001b[0m\u001b[1;33m)\u001b[0m\u001b[1;33m\u001b[0m\u001b[1;33m\u001b[0m\u001b[0m\n\u001b[0m\u001b[0;32m    330\u001b[0m         \u001b[0mself\u001b[0m\u001b[1;33m.\u001b[0m\u001b[0m_add_table\u001b[0m\u001b[1;33m(\u001b[0m\u001b[1;33m)\u001b[0m\u001b[1;33m\u001b[0m\u001b[1;33m\u001b[0m\u001b[0m\n\u001b[0;32m    331\u001b[0m         \u001b[0mself\u001b[0m\u001b[1;33m.\u001b[0m\u001b[0m_make_legend\u001b[0m\u001b[1;33m(\u001b[0m\u001b[1;33m)\u001b[0m\u001b[1;33m\u001b[0m\u001b[1;33m\u001b[0m\u001b[0m\n",
      "\u001b[1;32mC:\\ProgramData\\Anaconda3\\lib\\site-packages\\pandas\\plotting\\_matplotlib\\core.py\u001b[0m in \u001b[0;36m_make_plot\u001b[1;34m(self)\u001b[0m\n\u001b[0;32m   1113\u001b[0m             \u001b[0mlabel\u001b[0m \u001b[1;33m=\u001b[0m \u001b[1;32mNone\u001b[0m\u001b[1;33m\u001b[0m\u001b[1;33m\u001b[0m\u001b[0m\n\u001b[0;32m   1114\u001b[0m         scatter = ax.scatter(\n\u001b[1;32m-> 1115\u001b[1;33m             \u001b[0mdata\u001b[0m\u001b[1;33m[\u001b[0m\u001b[0mx\u001b[0m\u001b[1;33m]\u001b[0m\u001b[1;33m.\u001b[0m\u001b[0mvalues\u001b[0m\u001b[1;33m,\u001b[0m\u001b[1;33m\u001b[0m\u001b[1;33m\u001b[0m\u001b[0m\n\u001b[0m\u001b[0;32m   1116\u001b[0m             \u001b[0mdata\u001b[0m\u001b[1;33m[\u001b[0m\u001b[0my\u001b[0m\u001b[1;33m]\u001b[0m\u001b[1;33m.\u001b[0m\u001b[0mvalues\u001b[0m\u001b[1;33m,\u001b[0m\u001b[1;33m\u001b[0m\u001b[1;33m\u001b[0m\u001b[0m\n\u001b[0;32m   1117\u001b[0m             \u001b[0mc\u001b[0m\u001b[1;33m=\u001b[0m\u001b[0mc_values\u001b[0m\u001b[1;33m,\u001b[0m\u001b[1;33m\u001b[0m\u001b[1;33m\u001b[0m\u001b[0m\n",
      "\u001b[1;32mC:\\ProgramData\\Anaconda3\\lib\\site-packages\\pandas\\core\\frame.py\u001b[0m in \u001b[0;36m__getitem__\u001b[1;34m(self, key)\u001b[0m\n\u001b[0;32m   3503\u001b[0m             \u001b[1;32mif\u001b[0m \u001b[0mself\u001b[0m\u001b[1;33m.\u001b[0m\u001b[0mcolumns\u001b[0m\u001b[1;33m.\u001b[0m\u001b[0mnlevels\u001b[0m \u001b[1;33m>\u001b[0m \u001b[1;36m1\u001b[0m\u001b[1;33m:\u001b[0m\u001b[1;33m\u001b[0m\u001b[1;33m\u001b[0m\u001b[0m\n\u001b[0;32m   3504\u001b[0m                 \u001b[1;32mreturn\u001b[0m \u001b[0mself\u001b[0m\u001b[1;33m.\u001b[0m\u001b[0m_getitem_multilevel\u001b[0m\u001b[1;33m(\u001b[0m\u001b[0mkey\u001b[0m\u001b[1;33m)\u001b[0m\u001b[1;33m\u001b[0m\u001b[1;33m\u001b[0m\u001b[0m\n\u001b[1;32m-> 3505\u001b[1;33m             \u001b[0mindexer\u001b[0m \u001b[1;33m=\u001b[0m \u001b[0mself\u001b[0m\u001b[1;33m.\u001b[0m\u001b[0mcolumns\u001b[0m\u001b[1;33m.\u001b[0m\u001b[0mget_loc\u001b[0m\u001b[1;33m(\u001b[0m\u001b[0mkey\u001b[0m\u001b[1;33m)\u001b[0m\u001b[1;33m\u001b[0m\u001b[1;33m\u001b[0m\u001b[0m\n\u001b[0m\u001b[0;32m   3506\u001b[0m             \u001b[1;32mif\u001b[0m \u001b[0mis_integer\u001b[0m\u001b[1;33m(\u001b[0m\u001b[0mindexer\u001b[0m\u001b[1;33m)\u001b[0m\u001b[1;33m:\u001b[0m\u001b[1;33m\u001b[0m\u001b[1;33m\u001b[0m\u001b[0m\n\u001b[0;32m   3507\u001b[0m                 \u001b[0mindexer\u001b[0m \u001b[1;33m=\u001b[0m \u001b[1;33m[\u001b[0m\u001b[0mindexer\u001b[0m\u001b[1;33m]\u001b[0m\u001b[1;33m\u001b[0m\u001b[1;33m\u001b[0m\u001b[0m\n",
      "\u001b[1;32mC:\\ProgramData\\Anaconda3\\lib\\site-packages\\pandas\\core\\indexes\\base.py\u001b[0m in \u001b[0;36mget_loc\u001b[1;34m(self, key, method, tolerance)\u001b[0m\n\u001b[0;32m   3629\u001b[0m                 \u001b[1;32mreturn\u001b[0m \u001b[0mself\u001b[0m\u001b[1;33m.\u001b[0m\u001b[0m_engine\u001b[0m\u001b[1;33m.\u001b[0m\u001b[0mget_loc\u001b[0m\u001b[1;33m(\u001b[0m\u001b[0mcasted_key\u001b[0m\u001b[1;33m)\u001b[0m\u001b[1;33m\u001b[0m\u001b[1;33m\u001b[0m\u001b[0m\n\u001b[0;32m   3630\u001b[0m             \u001b[1;32mexcept\u001b[0m \u001b[0mKeyError\u001b[0m \u001b[1;32mas\u001b[0m \u001b[0merr\u001b[0m\u001b[1;33m:\u001b[0m\u001b[1;33m\u001b[0m\u001b[1;33m\u001b[0m\u001b[0m\n\u001b[1;32m-> 3631\u001b[1;33m                 \u001b[1;32mraise\u001b[0m \u001b[0mKeyError\u001b[0m\u001b[1;33m(\u001b[0m\u001b[0mkey\u001b[0m\u001b[1;33m)\u001b[0m \u001b[1;32mfrom\u001b[0m \u001b[0merr\u001b[0m\u001b[1;33m\u001b[0m\u001b[1;33m\u001b[0m\u001b[0m\n\u001b[0m\u001b[0;32m   3632\u001b[0m             \u001b[1;32mexcept\u001b[0m \u001b[0mTypeError\u001b[0m\u001b[1;33m:\u001b[0m\u001b[1;33m\u001b[0m\u001b[1;33m\u001b[0m\u001b[0m\n\u001b[0;32m   3633\u001b[0m                 \u001b[1;31m# If we have a listlike key, _check_indexing_error will raise\u001b[0m\u001b[1;33m\u001b[0m\u001b[1;33m\u001b[0m\u001b[0m\n",
      "\u001b[1;31mKeyError\u001b[0m: ''"
     ]
    },
    {
     "data": {
      "image/png": "[encoded data removed]",
      "text/plain": [
       "<Figure size 640x480 with 1 Axes>"
      ]
     },
     "metadata": {},
     "output_type": "display_data"
    }
   ],
   "source": [
    "games.plot.scatter(x ='', y= 'user_score', s=None, c=None)"
   ]
  },
  {
   "cell_type": "code",
   "execution_count": null,
   "id": "b6f9ffcc",
   "metadata": {},
   "outputs": [],
   "source": []
  }
 ],
 "metadata": {
  "kernelspec": {
   "display_name": "Python 3 (ipykernel)",
   "language": "python",
   "name": "python3"
  },
  "language_info": {
   "codemirror_mode": {
    "name": "ipython",
    "version": 3
   },
   "file_extension": ".py",
   "mimetype": "text/x-python",
   "name": "python",
   "nbconvert_exporter": "python",
   "pygments_lexer": "ipython3",
   "version": "3.9.13"
  }
 },
 "nbformat": 4,
 "nbformat_minor": 5
}
