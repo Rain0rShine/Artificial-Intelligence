{
 "cells": [
  {
   "cell_type": "code",
   "execution_count": null,
   "id": "0cc7e03f",
   "metadata": {},
   "outputs": [],
   "source": []
  },
  {
   "cell_type": "markdown",
   "id": "b647bb12",
   "metadata": {},
   "source": [
    "graduation rate, annual income, dropout annual income"
   ]
  },
  {
   "cell_type": "markdown",
   "id": "06be8fb0",
   "metadata": {},
   "source": [
    "Mines : 85%, 27978, 97335, ???\n",
    "Boulder: 70%, 20971, 69738, ???\n",
    "Some college no degree (Median College Dropout Income): 935 per week, (935 * 52.1429) = 48753.61 per year\n",
    "40 year career\n",
    "\n",
    "Mines: (0.85 * 97335 * 40 + 0.15 * 48753.61 * 40) - (27978 * 4) = 3,489,999.66\n",
    "Boulder: (0.7 * 69738 * 40 + 0.3 * 48753.61 * 40) - (20971 * 4) = 2,453,823.32"
   ]
  }
 ],
 "metadata": {
  "kernelspec": {
   "display_name": "Python 3 (ipykernel)",
   "language": "python",
   "name": "python3"
  },
  "language_info": {
   "codemirror_mode": {
    "name": "ipython",
    "version": 3
   },
   "file_extension": ".py",
   "mimetype": "text/x-python",
   "name": "python",
   "nbconvert_exporter": "python",
   "pygments_lexer": "ipython3",
   "version": "3.9.13"
  }
 },
 "nbformat": 4,
 "nbformat_minor": 5
}
