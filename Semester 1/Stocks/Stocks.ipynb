{
 "cells": [
  {
   "cell_type": "code",
   "execution_count": 35,
   "id": "213bd9bb",
   "metadata": {},
   "outputs": [],
   "source": [
    "import pandas as pd\n",
    "import seaborn as sns\n",
    "import numpy as np\n",
    "import requests\n",
    "gme = pd.read_json('gme.json')\n",
    "gme2 = pd.read_json('recentGME.json')"
   ]
  },
  {
   "cell_type": "code",
   "execution_count": 2,
   "id": "314bf0ff",
   "metadata": {},
   "outputs": [
    {
     "name": "stdout",
     "output_type": "stream",
     "text": [
      "<class 'pandas.core.frame.DataFrame'>\n",
      "RangeIndex: 5600 entries, 0 to 5599\n",
      "Data columns (total 7 columns):\n",
      " #   Column     Non-Null Count  Dtype         \n",
      "---  ------     --------------  -----         \n",
      " 0   Date       5600 non-null   datetime64[ns]\n",
      " 1   Open       5600 non-null   float64       \n",
      " 2   High       5600 non-null   float64       \n",
      " 3   Low        5600 non-null   float64       \n",
      " 4   Close      5600 non-null   float64       \n",
      " 5   Adj Close  5600 non-null   float64       \n",
      " 6   Volume     5600 non-null   int64         \n",
      "dtypes: datetime64[ns](1), float64(5), int64(1)\n",
      "memory usage: 306.4 KB\n"
     ]
    }
   ],
   "source": [
    "gme.info()"
   ]
  },
  {
   "cell_type": "markdown",
   "id": "0a4cee59",
   "metadata": {},
   "source": [
    "The variables in this data set are Date (The date that the stock’s behavior was observed.), Open (The price the stock sold for as soon as the markets opened.), High (The highest price the stock sold for on a particular day.), Low (The lowest price the stock sold for on a particular day.), Close (The price the stock sold for as soon as the markets closed.), Adj Close (The close price after all corporate actions of the day are accounted for (i.e. dividends, splitting, etc.).), and Volume (The number of stocks traded (bought and sold) in a day.)"
   ]
  },
  {
   "cell_type": "code",
   "execution_count": 3,
   "id": "366005e7",
   "metadata": {},
   "outputs": [
    {
     "data": {
      "text/plain": [
       "4772"
      ]
     },
     "execution_count": 3,
     "metadata": {},
     "output_type": "execute_result"
    }
   ],
   "source": [
    "gme[\"High\"].idxmax()"
   ]
  },
  {
   "cell_type": "code",
   "execution_count": 4,
   "id": "03f653bc",
   "metadata": {},
   "outputs": [
    {
     "data": {
      "text/plain": [
       "Timestamp('2021-01-28 00:00:00')"
      ]
     },
     "execution_count": 4,
     "metadata": {},
     "output_type": "execute_result"
    }
   ],
   "source": [
    "gme[\"Date\"].loc[4772]"
   ]
  },
  {
   "cell_type": "code",
   "execution_count": 5,
   "id": "e70b931a",
   "metadata": {},
   "outputs": [
    {
     "data": {
      "text/plain": [
       "12.83181743370786"
      ]
     },
     "execution_count": 5,
     "metadata": {},
     "output_type": "execute_result"
    }
   ],
   "source": [
    "count = 0\n",
    "total = 0\n",
    "for i in range(len(gme)):\n",
    "    if gme.loc[i]['Date'].month == 1:\n",
    "        avg  = gme.loc[i][\"High\"] +gme.loc[i][\"Low\"]/2\n",
    "        total += avg\n",
    "        count += 1\n",
    "total/count"
   ]
  },
  {
   "cell_type": "code",
   "execution_count": 6,
   "id": "f92f735d",
   "metadata": {},
   "outputs": [
    {
     "data": {
      "text/plain": [
       "14.33493130818966"
      ]
     },
     "execution_count": 6,
     "metadata": {},
     "output_type": "execute_result"
    }
   ],
   "source": [
    "count = 0\n",
    "total = 0\n",
    "for i in range(len(gme)):\n",
    "    if gme.loc[i]['Date'].month == 7:\n",
    "        avg  = gme.loc[i][\"High\"] +gme.loc[i][\"Low\"]/2\n",
    "        total += avg\n",
    "        count += 1\n",
    "total/count"
   ]
  },
  {
   "cell_type": "code",
   "execution_count": 7,
   "id": "6fc344e3",
   "metadata": {},
   "outputs": [
    {
     "data": {
      "text/plain": [
       "<AxesSubplot:xlabel='Low', ylabel='Volume'>"
      ]
     },
     "execution_count": 7,
     "metadata": {},
     "output_type": "execute_result"
    },
    {
     "data": {
      "image/png": "[encoded data removed]",
      "text/plain": [
       "<Figure size 640x480 with 1 Axes>"
      ]
     },
     "metadata": {},
     "output_type": "display_data"
    }
   ],
   "source": [
    "gme.plot.scatter(x ='Low', y= 'Volume', s=None, c=None)"
   ]
  },
  {
   "cell_type": "code",
   "execution_count": 8,
   "id": "7282b455",
   "metadata": {},
   "outputs": [
    {
     "data": {
      "text/plain": [
       "0.10259646883179024"
      ]
     },
     "execution_count": 8,
     "metadata": {},
     "output_type": "execute_result"
    }
   ],
   "source": [
    "gme['Volume'].corr(gme['Low'])"
   ]
  },
  {
   "cell_type": "code",
   "execution_count": 9,
   "id": "6c5786dd",
   "metadata": {},
   "outputs": [
    {
     "ename": "SyntaxError",
     "evalue": "invalid syntax (3904828016.py, line 4)",
     "output_type": "error",
     "traceback": [
      "\u001b[1;36m  File \u001b[1;32m\"C:\\Users\\enichol\\AppData\\Local\\Temp\\ipykernel_29968\\3904828016.py\"\u001b[1;36m, line \u001b[1;32m4\u001b[0m\n\u001b[1;33m    if gme.loc[i]['Date'].days == :\u001b[0m\n\u001b[1;37m                                  ^\u001b[0m\n\u001b[1;31mSyntaxError\u001b[0m\u001b[1;31m:\u001b[0m invalid syntax\n"
     ]
    }
   ],
   "source": [
    "dateAsNum = gme['Date']\n",
    "day = 0\n",
    "for i in range(len(gme)):\n",
    "    if gme.loc[i]['Date'].days == :\n",
    "        \n",
    "gme.loc[i] = day"
   ]
  },
  {
   "cell_type": "code",
   "execution_count": null,
   "id": "ab980c28",
   "metadata": {},
   "outputs": [],
   "source": [
    "sns.scatterplot(data= gme, x=\"Date\", y=\"High\")"
   ]
  },
  {
   "cell_type": "code",
   "execution_count": null,
   "id": "c108ee08",
   "metadata": {},
   "outputs": [],
   "source": [
    "gme['Date'].corr(gme['High'])"
   ]
  },
  {
   "cell_type": "code",
   "execution_count": null,
   "id": "4e3015a5",
   "metadata": {},
   "outputs": [],
   "source": [
    "log_high = np.log(gme[\"High\"])\n",
    "gme[\"Log High\"] = log_high"
   ]
  },
  {
   "cell_type": "code",
   "execution_count": null,
   "id": "3ed7ce5b",
   "metadata": {},
   "outputs": [],
   "source": [
    "gme['numeric_time'] = pd.to_datetime(gme['Date']).astype('int64') // 10**9  # Converts to seconds since epoch\n",
    "\n",
    "# Now you can calculate the Pearson correlation between 'numeric_time' and another variable\n",
    "correlation = gme['numeric_time'].corr(gme['Log High'])"
   ]
  },
  {
   "cell_type": "code",
   "execution_count": 10,
   "id": "9e89bf0f",
   "metadata": {},
   "outputs": [],
   "source": [
    "tsla = pd.read_json('tsla.json')"
   ]
  },
  {
   "cell_type": "code",
   "execution_count": 11,
   "id": "3078a9f4",
   "metadata": {},
   "outputs": [
    {
     "name": "stdout",
     "output_type": "stream",
     "text": [
      "<class 'pandas.core.frame.DataFrame'>\n",
      "RangeIndex: 2516 entries, 0 to 2515\n",
      "Data columns (total 20 columns):\n",
      " #   Column          Non-Null Count  Dtype         \n",
      "---  ------          --------------  -----         \n",
      " 0   date            2516 non-null   datetime64[ns]\n",
      " 1   open            2516 non-null   float64       \n",
      " 2   high            2516 non-null   float64       \n",
      " 3   low             2516 non-null   float64       \n",
      " 4   close           2516 non-null   float64       \n",
      " 5   volume          2516 non-null   int64         \n",
      " 6   rsi_7           2516 non-null   float64       \n",
      " 7   rsi_14          2516 non-null   float64       \n",
      " 8   cci_7           2516 non-null   float64       \n",
      " 9   cci_14          2516 non-null   float64       \n",
      " 10  sma_50          2516 non-null   float64       \n",
      " 11  ema_50          2516 non-null   float64       \n",
      " 12  sma_100         2516 non-null   float64       \n",
      " 13  ema_100         2516 non-null   float64       \n",
      " 14  macd            2516 non-null   float64       \n",
      " 15  bollinger       2516 non-null   float64       \n",
      " 16  TrueRange       2516 non-null   float64       \n",
      " 17  atr_7           2516 non-null   float64       \n",
      " 18  atr_14          2516 non-null   float64       \n",
      " 19  next_day_close  2516 non-null   float64       \n",
      "dtypes: datetime64[ns](1), float64(18), int64(1)\n",
      "memory usage: 393.2 KB\n"
     ]
    }
   ],
   "source": [
    "tsla.info()"
   ]
  },
  {
   "cell_type": "code",
   "execution_count": 12,
   "id": "738a18c1",
   "metadata": {},
   "outputs": [
    {
     "data": {
      "text/plain": [
       "<AxesSubplot:xlabel='open', ylabel='close'>"
      ]
     },
     "execution_count": 12,
     "metadata": {},
     "output_type": "execute_result"
    },
    {
     "data": {
      "image/png": "[encoded data removed]",
      "text/plain": [
       "<Figure size 640x480 with 1 Axes>"
      ]
     },
     "metadata": {},
     "output_type": "display_data"
    }
   ],
   "source": [
    "tsla.plot.scatter(x ='open', y= 'close', s=None, c=None)"
   ]
  },
  {
   "cell_type": "code",
   "execution_count": 13,
   "id": "b22c82cf",
   "metadata": {},
   "outputs": [
    {
     "data": {
      "text/plain": [
       "0.9990807450500195"
      ]
     },
     "execution_count": 13,
     "metadata": {},
     "output_type": "execute_result"
    }
   ],
   "source": [
    "tsla['open'].corr(tsla['close'])"
   ]
  },
  {
   "cell_type": "code",
   "execution_count": 16,
   "id": "87777d43",
   "metadata": {},
   "outputs": [
    {
     "data": {
      "text/plain": [
       "Date         2024-05-13 00:00:00\n",
       "Open                       26.34\n",
       "High                   38.200001\n",
       "Low                        24.77\n",
       "Close                  30.450001\n",
       "Adj Close              30.450001\n",
       "Volume                 182308700\n",
       "Name: 5599, dtype: object"
      ]
     },
     "execution_count": 16,
     "metadata": {},
     "output_type": "execute_result"
    }
   ],
   "source": [
    "gme.loc[gme[\"Date\"].idxmax()]"
   ]
  },
  {
   "cell_type": "code",
   "execution_count": 21,
   "id": "41e1b24a",
   "metadata": {},
   "outputs": [
    {
     "data": {
      "text/plain": [
       "Date         2002-02-13 00:00:00\n",
       "Open                     2.40625\n",
       "High                       2.515\n",
       "Low                      2.38125\n",
       "Close                     2.5125\n",
       "Adj Close               1.691666\n",
       "Volume                  76216000\n",
       "Name: 0, dtype: object"
      ]
     },
     "execution_count": 21,
     "metadata": {},
     "output_type": "execute_result"
    }
   ],
   "source": [
    "gme.loc[gme[\"Date\"].idxmin()]"
   ]
  },
  {
   "cell_type": "code",
   "execution_count": 20,
   "id": "abb72ae0",
   "metadata": {},
   "outputs": [
    {
     "name": "stdout",
     "output_type": "stream",
     "text": [
      "252\n"
     ]
    }
   ],
   "source": [
    "count = 0\n",
    "for i in range(len(gme)):\n",
    "    if gme.loc[i]['Date'].year == 2019:\n",
    "        count += 1\n",
    "print(count)"
   ]
  },
  {
   "cell_type": "code",
   "execution_count": 24,
   "id": "cdb1c350",
   "metadata": {},
   "outputs": [
    {
     "ename": "AttributeError",
     "evalue": "'Series' object has no attribute 'year'",
     "output_type": "error",
     "traceback": [
      "\u001b[1;31m---------------------------------------------------------------------------\u001b[0m",
      "\u001b[1;31mAttributeError\u001b[0m                            Traceback (most recent call last)",
      "\u001b[1;32m~\\AppData\\Local\\Temp\\ipykernel_29968\\3331050225.py\u001b[0m in \u001b[0;36m<module>\u001b[1;34m\u001b[0m\n\u001b[1;32m----> 1\u001b[1;33m \u001b[1;32mfor\u001b[0m \u001b[0mj\u001b[0m \u001b[1;32min\u001b[0m \u001b[0mrange\u001b[0m\u001b[1;33m(\u001b[0m\u001b[0mlen\u001b[0m\u001b[1;33m(\u001b[0m\u001b[0mgme\u001b[0m\u001b[1;33m[\u001b[0m\u001b[1;34m'Date'\u001b[0m\u001b[1;33m]\u001b[0m\u001b[1;33m.\u001b[0m\u001b[0myear\u001b[0m\u001b[1;33m)\u001b[0m\u001b[1;33m)\u001b[0m\u001b[1;33m:\u001b[0m\u001b[1;33m\u001b[0m\u001b[1;33m\u001b[0m\u001b[0m\n\u001b[0m\u001b[0;32m      2\u001b[0m     \u001b[1;32mfor\u001b[0m \u001b[0mi\u001b[0m \u001b[1;32min\u001b[0m \u001b[0mrange\u001b[0m\u001b[1;33m(\u001b[0m\u001b[0mlen\u001b[0m\u001b[1;33m(\u001b[0m\u001b[0mgme\u001b[0m\u001b[1;33m)\u001b[0m\u001b[1;33m)\u001b[0m\u001b[1;33m:\u001b[0m\u001b[1;33m\u001b[0m\u001b[1;33m\u001b[0m\u001b[0m\n\u001b[0;32m      3\u001b[0m         \u001b[1;32mif\u001b[0m \u001b[0mgme\u001b[0m\u001b[1;33m.\u001b[0m\u001b[0mloc\u001b[0m\u001b[1;33m[\u001b[0m\u001b[0mi\u001b[0m\u001b[1;33m]\u001b[0m\u001b[1;33m[\u001b[0m\u001b[1;34m'Date'\u001b[0m\u001b[1;33m]\u001b[0m\u001b[1;33m.\u001b[0m\u001b[0myear\u001b[0m \u001b[1;33m==\u001b[0m \u001b[0mj\u001b[0m\u001b[1;33m:\u001b[0m\u001b[1;33m\u001b[0m\u001b[1;33m\u001b[0m\u001b[0m\n\u001b[0;32m      4\u001b[0m             \u001b[0mcount\u001b[0m \u001b[1;33m+=\u001b[0m \u001b[1;36m1\u001b[0m\u001b[1;33m\u001b[0m\u001b[1;33m\u001b[0m\u001b[0m\n\u001b[0;32m      5\u001b[0m \u001b[0mprint\u001b[0m\u001b[1;33m(\u001b[0m\u001b[0mcount\u001b[0m\u001b[1;33m)\u001b[0m\u001b[1;33m\u001b[0m\u001b[1;33m\u001b[0m\u001b[0m\n",
      "\u001b[1;32mC:\\ProgramData\\Anaconda3\\lib\\site-packages\\pandas\\core\\generic.py\u001b[0m in \u001b[0;36m__getattr__\u001b[1;34m(self, name)\u001b[0m\n\u001b[0;32m   5573\u001b[0m         ):\n\u001b[0;32m   5574\u001b[0m             \u001b[1;32mreturn\u001b[0m \u001b[0mself\u001b[0m\u001b[1;33m[\u001b[0m\u001b[0mname\u001b[0m\u001b[1;33m]\u001b[0m\u001b[1;33m\u001b[0m\u001b[1;33m\u001b[0m\u001b[0m\n\u001b[1;32m-> 5575\u001b[1;33m         \u001b[1;32mreturn\u001b[0m \u001b[0mobject\u001b[0m\u001b[1;33m.\u001b[0m\u001b[0m__getattribute__\u001b[0m\u001b[1;33m(\u001b[0m\u001b[0mself\u001b[0m\u001b[1;33m,\u001b[0m \u001b[0mname\u001b[0m\u001b[1;33m)\u001b[0m\u001b[1;33m\u001b[0m\u001b[1;33m\u001b[0m\u001b[0m\n\u001b[0m\u001b[0;32m   5576\u001b[0m \u001b[1;33m\u001b[0m\u001b[0m\n\u001b[0;32m   5577\u001b[0m     \u001b[1;32mdef\u001b[0m \u001b[0m__setattr__\u001b[0m\u001b[1;33m(\u001b[0m\u001b[0mself\u001b[0m\u001b[1;33m,\u001b[0m \u001b[0mname\u001b[0m\u001b[1;33m:\u001b[0m \u001b[0mstr\u001b[0m\u001b[1;33m,\u001b[0m \u001b[0mvalue\u001b[0m\u001b[1;33m)\u001b[0m \u001b[1;33m->\u001b[0m \u001b[1;32mNone\u001b[0m\u001b[1;33m:\u001b[0m\u001b[1;33m\u001b[0m\u001b[1;33m\u001b[0m\u001b[0m\n",
      "\u001b[1;31mAttributeError\u001b[0m: 'Series' object has no attribute 'year'"
     ]
    }
   ],
   "source": [
    "for j in range(len(gme['Date'].year)):\n",
    "    for i in range(len(gme)):\n",
    "        if gme.loc[i]['Date'].year == j:\n",
    "            count += 1\n",
    "print(count)"
   ]
  },
  {
   "cell_type": "markdown",
   "id": "fa2a810a",
   "metadata": {},
   "source": [
    "Welcome to Alpha Vantage! Here is your API key: YTBRS0WG5ZQBLXOS. Please record this API key at a safe place for future data access."
   ]
  },
  {
   "cell_type": "code",
   "execution_count": 27,
   "id": "a70ba3e6",
   "metadata": {},
   "outputs": [
    {
     "name": "stdout",
     "output_type": "stream",
     "text": [
      "{'Meta Data': {'1. Information': 'Intraday (5min) open, high, low, close prices and volume', '2. Symbol': 'GME', '3. Last Refreshed': '2024-09-26 19:55:00', '4. Interval': '5min', '5. Output Size': 'Compact', '6. Time Zone': 'US/Eastern'}, 'Time Series (5min)': {'2024-09-26 19:55:00': {'1. open': '22.1790', '2. high': '22.2000', '3. low': '22.1600', '4. close': '22.1999', '5. volume': '1337'}, '2024-09-26 19:50:00': {'1. open': '22.1501', '2. high': '22.1880', '3. low': '22.1500', '4. close': '22.1500', '5. volume': '874'}, '2024-09-26 19:45:00': {'1. open': '22.1400', '2. high': '22.1800', '3. low': '22.1275', '4. close': '22.1599', '5. volume': '234'}, '2024-09-26 19:40:00': {'1. open': '22.1300', '2. high': '22.1895', '3. low': '22.1000', '4. close': '22.1200', '5. volume': '1982'}, '2024-09-26 19:35:00': {'1. open': '22.1300', '2. high': '22.1400', '3. low': '22.1000', '4. close': '22.1300', '5. volume': '603'}, '2024-09-26 19:30:00': {'1. open': '22.1500', '2. high': '22.1600', '3. low': '22.1100', '4. close': '22.1400', '5. volume': '960'}, '2024-09-26 19:25:00': {'1. open': '22.1604', '2. high': '22.1800', '3. low': '22.1500', '4. close': '22.1500', '5. volume': '1102'}, '2024-09-26 19:20:00': {'1. open': '22.1800', '2. high': '22.1800', '3. low': '22.1509', '4. close': '22.1800', '5. volume': '776'}, '2024-09-26 19:15:00': {'1. open': '22.1800', '2. high': '22.1800', '3. low': '22.1540', '4. close': '22.1600', '5. volume': '22'}, '2024-09-26 19:10:00': {'1. open': '22.1800', '2. high': '22.1800', '3. low': '22.1500', '4. close': '22.1600', '5. volume': '314'}, '2024-09-26 19:05:00': {'1. open': '22.1900', '2. high': '22.1900', '3. low': '22.1600', '4. close': '22.1600', '5. volume': '3277'}, '2024-09-26 19:00:00': {'1. open': '22.2900', '2. high': '22.2900', '3. low': '22.1900', '4. close': '22.1900', '5. volume': '167573'}, '2024-09-26 18:55:00': {'1. open': '22.1900', '2. high': '22.2000', '3. low': '22.1900', '4. close': '22.1901', '5. volume': '1107'}, '2024-09-26 18:50:00': {'1. open': '22.1999', '2. high': '22.1999', '3. low': '22.1802', '4. close': '22.1900', '5. volume': '294'}, '2024-09-26 18:45:00': {'1. open': '22.1627', '2. high': '22.2000', '3. low': '22.1600', '4. close': '22.1900', '5. volume': '254'}, '2024-09-26 18:40:00': {'1. open': '22.1507', '2. high': '22.2000', '3. low': '22.1501', '4. close': '22.1999', '5. volume': '496'}, '2024-09-26 18:35:00': {'1. open': '22.1600', '2. high': '22.1900', '3. low': '22.1500', '4. close': '22.1600', '5. volume': '427'}, '2024-09-26 18:30:00': {'1. open': '22.2900', '2. high': '22.2900', '3. low': '22.1600', '4. close': '22.1600', '5. volume': '167459'}, '2024-09-26 18:25:00': {'1. open': '22.1600', '2. high': '22.1900', '3. low': '22.1600', '4. close': '22.1700', '5. volume': '172'}, '2024-09-26 18:20:00': {'1. open': '22.2000', '2. high': '22.2000', '3. low': '22.1002', '4. close': '22.1900', '5. volume': '319'}, '2024-09-26 18:15:00': {'1. open': '22.2000', '2. high': '22.2200', '3. low': '22.0922', '4. close': '22.2000', '5. volume': '658'}, '2024-09-26 18:10:00': {'1. open': '22.2200', '2. high': '22.2300', '3. low': '22.0000', '4. close': '22.2200', '5. volume': '7116'}, '2024-09-26 18:05:00': {'1. open': '22.2100', '2. high': '22.2200', '3. low': '22.2100', '4. close': '22.2100', '5. volume': '1093'}, '2024-09-26 18:00:00': {'1. open': '22.1900', '2. high': '22.2200', '3. low': '22.1800', '4. close': '22.2100', '5. volume': '456'}, '2024-09-26 17:55:00': {'1. open': '22.1800', '2. high': '22.2000', '3. low': '22.1336', '4. close': '22.2000', '5. volume': '953'}, '2024-09-26 17:50:00': {'1. open': '22.1900', '2. high': '22.2200', '3. low': '22.1800', '4. close': '22.2000', '5. volume': '2296'}, '2024-09-26 17:45:00': {'1. open': '22.1300', '2. high': '22.2000', '3. low': '22.1300', '4. close': '22.1850', '5. volume': '207'}, '2024-09-26 17:40:00': {'1. open': '22.1500', '2. high': '22.2200', '3. low': '22.1300', '4. close': '22.1600', '5. volume': '1218'}, '2024-09-26 17:35:00': {'1. open': '22.1400', '2. high': '22.1500', '3. low': '22.1200', '4. close': '22.1500', '5. volume': '537'}, '2024-09-26 17:30:00': {'1. open': '22.1400', '2. high': '22.1400', '3. low': '22.1200', '4. close': '22.1385', '5. volume': '621'}, '2024-09-26 17:25:00': {'1. open': '22.1400', '2. high': '22.1500', '3. low': '22.1400', '4. close': '22.1400', '5. volume': '303'}, '2024-09-26 17:20:00': {'1. open': '22.1200', '2. high': '22.1500', '3. low': '22.1200', '4. close': '22.1400', '5. volume': '404'}, '2024-09-26 17:15:00': {'1. open': '22.1400', '2. high': '22.1500', '3. low': '22.1200', '4. close': '22.1200', '5. volume': '2105'}, '2024-09-26 17:10:00': {'1. open': '22.1500', '2. high': '22.1500', '3. low': '22.1300', '4. close': '22.1400', '5. volume': '1812'}, '2024-09-26 17:05:00': {'1. open': '22.1500', '2. high': '22.1600', '3. low': '22.1400', '4. close': '22.1500', '5. volume': '1511'}, '2024-09-26 17:00:00': {'1. open': '22.1600', '2. high': '22.1600', '3. low': '22.1500', '4. close': '22.1500', '5. volume': '1232'}, '2024-09-26 16:55:00': {'1. open': '22.1600', '2. high': '22.1600', '3. low': '22.1500', '4. close': '22.1500', '5. volume': '1590'}, '2024-09-26 16:50:00': {'1. open': '22.1600', '2. high': '22.1600', '3. low': '22.1400', '4. close': '22.1500', '5. volume': '798'}, '2024-09-26 16:45:00': {'1. open': '22.1600', '2. high': '22.1700', '3. low': '22.1600', '4. close': '22.1600', '5. volume': '1871'}, '2024-09-26 16:40:00': {'1. open': '22.1699', '2. high': '22.1700', '3. low': '22.1600', '4. close': '22.1600', '5. volume': '1178'}, '2024-09-26 16:35:00': {'1. open': '22.1700', '2. high': '22.1700', '3. low': '22.1600', '4. close': '22.1601', '5. volume': '1024'}, '2024-09-26 16:30:00': {'1. open': '22.1700', '2. high': '22.1700', '3. low': '22.1600', '4. close': '22.1600', '5. volume': '398'}, '2024-09-26 16:25:00': {'1. open': '22.1700', '2. high': '22.1700', '3. low': '22.1500', '4. close': '22.1700', '5. volume': '3857'}, '2024-09-26 16:20:00': {'1. open': '22.2900', '2. high': '22.2900', '3. low': '22.1409', '4. close': '22.1500', '5. volume': '4957'}, '2024-09-26 16:15:00': {'1. open': '22.1900', '2. high': '22.1900', '3. low': '22.1500', '4. close': '22.1700', '5. volume': '8850'}, '2024-09-26 16:10:00': {'1. open': '22.2900', '2. high': '22.2900', '3. low': '22.1700', '4. close': '22.1899', '5. volume': '170531'}, '2024-09-26 16:05:00': {'1. open': '22.2500', '2. high': '22.2700', '3. low': '22.2200', '4. close': '22.2200', '5. volume': '5610'}, '2024-09-26 16:00:00': {'1. open': '22.2800', '2. high': '22.2900', '3. low': '22.2501', '4. close': '22.2501', '5. volume': '345415'}, '2024-09-26 15:55:00': {'1. open': '22.3050', '2. high': '22.3350', '3. low': '22.2350', '4. close': '22.2800', '5. volume': '282350'}, '2024-09-26 15:50:00': {'1. open': '22.2800', '2. high': '22.3150', '3. low': '22.2250', '4. close': '22.3100', '5. volume': '131255'}, '2024-09-26 15:45:00': {'1. open': '22.4250', '2. high': '22.4500', '3. low': '22.2500', '4. close': '22.2786', '5. volume': '178764'}, '2024-09-26 15:40:00': {'1. open': '22.3700', '2. high': '22.4350', '3. low': '22.3500', '4. close': '22.4297', '5. volume': '136630'}, '2024-09-26 15:35:00': {'1. open': '22.2700', '2. high': '22.4100', '3. low': '22.2700', '4. close': '22.3600', '5. volume': '188746'}, '2024-09-26 15:30:00': {'1. open': '22.1700', '2. high': '22.2700', '3. low': '22.1500', '4. close': '22.2650', '5. volume': '76504'}, '2024-09-26 15:25:00': {'1. open': '22.1100', '2. high': '22.2000', '3. low': '22.1000', '4. close': '22.1800', '5. volume': '63525'}, '2024-09-26 15:20:00': {'1. open': '22.1250', '2. high': '22.1300', '3. low': '22.1000', '4. close': '22.1050', '5. volume': '23395'}, '2024-09-26 15:15:00': {'1. open': '22.1200', '2. high': '22.1450', '3. low': '22.1100', '4. close': '22.1211', '5. volume': '31007'}, '2024-09-26 15:10:00': {'1. open': '22.1250', '2. high': '22.1500', '3. low': '22.1150', '4. close': '22.1295', '5. volume': '31590'}, '2024-09-26 15:05:00': {'1. open': '22.1490', '2. high': '22.1600', '3. low': '22.1009', '4. close': '22.1212', '5. volume': '22442'}, '2024-09-26 15:00:00': {'1. open': '22.1300', '2. high': '22.1500', '3. low': '22.1000', '4. close': '22.1463', '5. volume': '16422'}, '2024-09-26 14:55:00': {'1. open': '22.1408', '2. high': '22.1700', '3. low': '22.1400', '4. close': '22.1400', '5. volume': '35714'}, '2024-09-26 14:50:00': {'1. open': '22.1300', '2. high': '22.1599', '3. low': '22.1200', '4. close': '22.1462', '5. volume': '26274'}, '2024-09-26 14:45:00': {'1. open': '22.1000', '2. high': '22.1500', '3. low': '22.0993', '4. close': '22.1299', '5. volume': '23698'}, '2024-09-26 14:40:00': {'1. open': '22.1250', '2. high': '22.1300', '3. low': '22.0900', '4. close': '22.1100', '5. volume': '55493'}, '2024-09-26 14:35:00': {'1. open': '22.1050', '2. high': '22.1315', '3. low': '22.0700', '4. close': '22.1219', '5. volume': '29257'}, '2024-09-26 14:30:00': {'1. open': '22.1000', '2. high': '22.1400', '3. low': '22.1000', '4. close': '22.1100', '5. volume': '16125'}, '2024-09-26 14:25:00': {'1. open': '22.1150', '2. high': '22.1450', '3. low': '22.1100', '4. close': '22.1100', '5. volume': '15412'}, '2024-09-26 14:20:00': {'1. open': '22.1200', '2. high': '22.1200', '3. low': '22.0900', '4. close': '22.1150', '5. volume': '18768'}, '2024-09-26 14:15:00': {'1. open': '22.1200', '2. high': '22.1600', '3. low': '22.1100', '4. close': '22.1111', '5. volume': '18235'}, '2024-09-26 14:10:00': {'1. open': '22.1100', '2. high': '22.1600', '3. low': '22.1001', '4. close': '22.1147', '5. volume': '35361'}, '2024-09-26 14:05:00': {'1. open': '22.1860', '2. high': '22.1860', '3. low': '22.1099', '4. close': '22.1099', '5. volume': '17105'}, '2024-09-26 14:00:00': {'1. open': '22.1600', '2. high': '22.1907', '3. low': '22.1300', '4. close': '22.1907', '5. volume': '25280'}, '2024-09-26 13:55:00': {'1. open': '22.1367', '2. high': '22.1900', '3. low': '22.1367', '4. close': '22.1600', '5. volume': '44278'}, '2024-09-26 13:50:00': {'1. open': '22.1300', '2. high': '22.1400', '3. low': '22.1010', '4. close': '22.1300', '5. volume': '15496'}, '2024-09-26 13:45:00': {'1. open': '22.1300', '2. high': '22.1499', '3. low': '22.1100', '4. close': '22.1266', '5. volume': '28174'}, '2024-09-26 13:40:00': {'1. open': '22.1000', '2. high': '22.1314', '3. low': '22.1000', '4. close': '22.1184', '5. volume': '17867'}, '2024-09-26 13:35:00': {'1. open': '22.1255', '2. high': '22.1499', '3. low': '22.0911', '4. close': '22.1100', '5. volume': '27712'}, '2024-09-26 13:30:00': {'1. open': '22.1500', '2. high': '22.1500', '3. low': '22.1000', '4. close': '22.1299', '5. volume': '29360'}, '2024-09-26 13:25:00': {'1. open': '22.1000', '2. high': '22.1500', '3. low': '22.0900', '4. close': '22.1450', '5. volume': '21359'}, '2024-09-26 13:20:00': {'1. open': '22.0200', '2. high': '22.1000', '3. low': '22.0100', '4. close': '22.0831', '5. volume': '36295'}, '2024-09-26 13:15:00': {'1. open': '22.1000', '2. high': '22.1092', '3. low': '22.0200', '4. close': '22.0284', '5. volume': '39217'}, '2024-09-26 13:10:00': {'1. open': '22.0922', '2. high': '22.1400', '3. low': '22.0701', '4. close': '22.1000', '5. volume': '14610'}, '2024-09-26 13:05:00': {'1. open': '22.1544', '2. high': '22.1600', '3. low': '22.0850', '4. close': '22.0900', '5. volume': '37896'}, '2024-09-26 13:00:00': {'1. open': '22.0800', '2. high': '22.1600', '3. low': '22.0800', '4. close': '22.1500', '5. volume': '48232'}, '2024-09-26 12:55:00': {'1. open': '22.0800', '2. high': '22.1100', '3. low': '22.0600', '4. close': '22.0900', '5. volume': '64667'}, '2024-09-26 12:50:00': {'1. open': '22.1600', '2. high': '22.1700', '3. low': '22.0800', '4. close': '22.0899', '5. volume': '44162'}, '2024-09-26 12:45:00': {'1. open': '22.1700', '2. high': '22.2000', '3. low': '22.1600', '4. close': '22.1650', '5. volume': '22813'}, '2024-09-26 12:40:00': {'1. open': '22.1850', '2. high': '22.1850', '3. low': '22.1100', '4. close': '22.1750', '5. volume': '36818'}, '2024-09-26 12:35:00': {'1. open': '22.1750', '2. high': '22.1900', '3. low': '22.1600', '4. close': '22.1900', '5. volume': '18828'}, '2024-09-26 12:30:00': {'1. open': '22.2300', '2. high': '22.2300', '3. low': '22.1700', '4. close': '22.1800', '5. volume': '43521'}, '2024-09-26 12:25:00': {'1. open': '22.2601', '2. high': '22.2900', '3. low': '22.2200', '4. close': '22.2200', '5. volume': '22153'}, '2024-09-26 12:20:00': {'1. open': '22.3200', '2. high': '22.3253', '3. low': '22.2250', '4. close': '22.2650', '5. volume': '33699'}, '2024-09-26 12:15:00': {'1. open': '22.3500', '2. high': '22.3600', '3. low': '22.2912', '4. close': '22.3200', '5. volume': '27432'}, '2024-09-26 12:10:00': {'1. open': '22.3500', '2. high': '22.3800', '3. low': '22.3400', '4. close': '22.3550', '5. volume': '36917'}, '2024-09-26 12:05:00': {'1. open': '22.3300', '2. high': '22.4293', '3. low': '22.3300', '4. close': '22.3500', '5. volume': '62892'}, '2024-09-26 12:00:00': {'1. open': '22.3300', '2. high': '22.3498', '3. low': '22.2800', '4. close': '22.3250', '5. volume': '30555'}, '2024-09-26 11:55:00': {'1. open': '22.2900', '2. high': '22.3500', '3. low': '22.2600', '4. close': '22.3350', '5. volume': '34243'}, '2024-09-26 11:50:00': {'1. open': '22.2500', '2. high': '22.3200', '3. low': '22.2500', '4. close': '22.2850', '5. volume': '21062'}, '2024-09-26 11:45:00': {'1. open': '22.2801', '2. high': '22.3204', '3. low': '22.2412', '4. close': '22.2500', '5. volume': '30577'}, '2024-09-26 11:40:00': {'1. open': '22.2800', '2. high': '22.3000', '3. low': '22.2101', '4. close': '22.2814', '5. volume': '48461'}}}\n"
     ]
    }
   ],
   "source": [
    "url = 'https://www.alphavantage.co/query?function=TIME_SERIES_INTRADAY&symbol=GME&interval=5min&apikey=YTBRS0WG5ZQBLXOS'\n",
    "r = requests.get(url)\n",
    "data = r.json()\n",
    "\n",
    "print(data)"
   ]
  },
  {
   "cell_type": "code",
   "execution_count": 28,
   "id": "fb0e0c17",
   "metadata": {},
   "outputs": [
    {
     "data": {
      "text/html": [
       "<div>\n",
       "<style scoped>\n",
       "    .dataframe tbody tr th:only-of-type {\n",
       "        vertical-align: middle;\n",
       "    }\n",
       "\n",
       "    .dataframe tbody tr th {\n",
       "        vertical-align: top;\n",
       "    }\n",
       "\n",
       "    .dataframe thead th {\n",
       "        text-align: right;\n",
       "    }\n",
       "</style>\n",
       "<table border=\"1\" class=\"dataframe\">\n",
       "  <thead>\n",
       "    <tr style=\"text-align: right;\">\n",
       "      <th></th>\n",
       "      <th>2024-09-26 19:55:00</th>\n",
       "      <th>2024-09-26 19:50:00</th>\n",
       "      <th>2024-09-26 19:45:00</th>\n",
       "      <th>2024-09-26 19:40:00</th>\n",
       "      <th>2024-09-26 19:35:00</th>\n",
       "      <th>2024-09-26 19:30:00</th>\n",
       "      <th>2024-09-26 19:25:00</th>\n",
       "      <th>2024-09-26 19:20:00</th>\n",
       "      <th>2024-09-26 19:15:00</th>\n",
       "      <th>2024-09-26 19:10:00</th>\n",
       "      <th>...</th>\n",
       "      <th>2024-09-26 12:25:00</th>\n",
       "      <th>2024-09-26 12:20:00</th>\n",
       "      <th>2024-09-26 12:15:00</th>\n",
       "      <th>2024-09-26 12:10:00</th>\n",
       "      <th>2024-09-26 12:05:00</th>\n",
       "      <th>2024-09-26 12:00:00</th>\n",
       "      <th>2024-09-26 11:55:00</th>\n",
       "      <th>2024-09-26 11:50:00</th>\n",
       "      <th>2024-09-26 11:45:00</th>\n",
       "      <th>2024-09-26 11:40:00</th>\n",
       "    </tr>\n",
       "  </thead>\n",
       "  <tbody>\n",
       "    <tr>\n",
       "      <th>1. open</th>\n",
       "      <td>22.1790</td>\n",
       "      <td>22.1501</td>\n",
       "      <td>22.1400</td>\n",
       "      <td>22.1300</td>\n",
       "      <td>22.1300</td>\n",
       "      <td>22.1500</td>\n",
       "      <td>22.1604</td>\n",
       "      <td>22.1800</td>\n",
       "      <td>22.1800</td>\n",
       "      <td>22.1800</td>\n",
       "      <td>...</td>\n",
       "      <td>22.2601</td>\n",
       "      <td>22.3200</td>\n",
       "      <td>22.3500</td>\n",
       "      <td>22.3500</td>\n",
       "      <td>22.3300</td>\n",
       "      <td>22.3300</td>\n",
       "      <td>22.2900</td>\n",
       "      <td>22.2500</td>\n",
       "      <td>22.2801</td>\n",
       "      <td>22.2800</td>\n",
       "    </tr>\n",
       "    <tr>\n",
       "      <th>2. high</th>\n",
       "      <td>22.2000</td>\n",
       "      <td>22.1880</td>\n",
       "      <td>22.1800</td>\n",
       "      <td>22.1895</td>\n",
       "      <td>22.1400</td>\n",
       "      <td>22.1600</td>\n",
       "      <td>22.1800</td>\n",
       "      <td>22.1800</td>\n",
       "      <td>22.1800</td>\n",
       "      <td>22.1800</td>\n",
       "      <td>...</td>\n",
       "      <td>22.2900</td>\n",
       "      <td>22.3253</td>\n",
       "      <td>22.3600</td>\n",
       "      <td>22.3800</td>\n",
       "      <td>22.4293</td>\n",
       "      <td>22.3498</td>\n",
       "      <td>22.3500</td>\n",
       "      <td>22.3200</td>\n",
       "      <td>22.3204</td>\n",
       "      <td>22.3000</td>\n",
       "    </tr>\n",
       "    <tr>\n",
       "      <th>3. low</th>\n",
       "      <td>22.1600</td>\n",
       "      <td>22.1500</td>\n",
       "      <td>22.1275</td>\n",
       "      <td>22.1000</td>\n",
       "      <td>22.1000</td>\n",
       "      <td>22.1100</td>\n",
       "      <td>22.1500</td>\n",
       "      <td>22.1509</td>\n",
       "      <td>22.1540</td>\n",
       "      <td>22.1500</td>\n",
       "      <td>...</td>\n",
       "      <td>22.2200</td>\n",
       "      <td>22.2250</td>\n",
       "      <td>22.2912</td>\n",
       "      <td>22.3400</td>\n",
       "      <td>22.3300</td>\n",
       "      <td>22.2800</td>\n",
       "      <td>22.2600</td>\n",
       "      <td>22.2500</td>\n",
       "      <td>22.2412</td>\n",
       "      <td>22.2101</td>\n",
       "    </tr>\n",
       "    <tr>\n",
       "      <th>4. close</th>\n",
       "      <td>22.1999</td>\n",
       "      <td>22.1500</td>\n",
       "      <td>22.1599</td>\n",
       "      <td>22.1200</td>\n",
       "      <td>22.1300</td>\n",
       "      <td>22.1400</td>\n",
       "      <td>22.1500</td>\n",
       "      <td>22.1800</td>\n",
       "      <td>22.1600</td>\n",
       "      <td>22.1600</td>\n",
       "      <td>...</td>\n",
       "      <td>22.2200</td>\n",
       "      <td>22.2650</td>\n",
       "      <td>22.3200</td>\n",
       "      <td>22.3550</td>\n",
       "      <td>22.3500</td>\n",
       "      <td>22.3250</td>\n",
       "      <td>22.3350</td>\n",
       "      <td>22.2850</td>\n",
       "      <td>22.2500</td>\n",
       "      <td>22.2814</td>\n",
       "    </tr>\n",
       "    <tr>\n",
       "      <th>5. volume</th>\n",
       "      <td>1337</td>\n",
       "      <td>874</td>\n",
       "      <td>234</td>\n",
       "      <td>1982</td>\n",
       "      <td>603</td>\n",
       "      <td>960</td>\n",
       "      <td>1102</td>\n",
       "      <td>776</td>\n",
       "      <td>22</td>\n",
       "      <td>314</td>\n",
       "      <td>...</td>\n",
       "      <td>22153</td>\n",
       "      <td>33699</td>\n",
       "      <td>27432</td>\n",
       "      <td>36917</td>\n",
       "      <td>62892</td>\n",
       "      <td>30555</td>\n",
       "      <td>34243</td>\n",
       "      <td>21062</td>\n",
       "      <td>30577</td>\n",
       "      <td>48461</td>\n",
       "    </tr>\n",
       "  </tbody>\n",
       "</table>\n",
       "<p>5 rows × 100 columns</p>\n",
       "</div>"
      ],
      "text/plain": [
       "          2024-09-26 19:55:00 2024-09-26 19:50:00 2024-09-26 19:45:00  \\\n",
       "1. open               22.1790             22.1501             22.1400   \n",
       "2. high               22.2000             22.1880             22.1800   \n",
       "3. low                22.1600             22.1500             22.1275   \n",
       "4. close              22.1999             22.1500             22.1599   \n",
       "5. volume                1337                 874                 234   \n",
       "\n",
       "          2024-09-26 19:40:00 2024-09-26 19:35:00 2024-09-26 19:30:00  \\\n",
       "1. open               22.1300             22.1300             22.1500   \n",
       "2. high               22.1895             22.1400             22.1600   \n",
       "3. low                22.1000             22.1000             22.1100   \n",
       "4. close              22.1200             22.1300             22.1400   \n",
       "5. volume                1982                 603                 960   \n",
       "\n",
       "          2024-09-26 19:25:00 2024-09-26 19:20:00 2024-09-26 19:15:00  \\\n",
       "1. open               22.1604             22.1800             22.1800   \n",
       "2. high               22.1800             22.1800             22.1800   \n",
       "3. low                22.1500             22.1509             22.1540   \n",
       "4. close              22.1500             22.1800             22.1600   \n",
       "5. volume                1102                 776                  22   \n",
       "\n",
       "          2024-09-26 19:10:00  ... 2024-09-26 12:25:00 2024-09-26 12:20:00  \\\n",
       "1. open               22.1800  ...             22.2601             22.3200   \n",
       "2. high               22.1800  ...             22.2900             22.3253   \n",
       "3. low                22.1500  ...             22.2200             22.2250   \n",
       "4. close              22.1600  ...             22.2200             22.2650   \n",
       "5. volume                 314  ...               22153               33699   \n",
       "\n",
       "          2024-09-26 12:15:00 2024-09-26 12:10:00 2024-09-26 12:05:00  \\\n",
       "1. open               22.3500             22.3500             22.3300   \n",
       "2. high               22.3600             22.3800             22.4293   \n",
       "3. low                22.2912             22.3400             22.3300   \n",
       "4. close              22.3200             22.3550             22.3500   \n",
       "5. volume               27432               36917               62892   \n",
       "\n",
       "          2024-09-26 12:00:00 2024-09-26 11:55:00 2024-09-26 11:50:00  \\\n",
       "1. open               22.3300             22.2900             22.2500   \n",
       "2. high               22.3498             22.3500             22.3200   \n",
       "3. low                22.2800             22.2600             22.2500   \n",
       "4. close              22.3250             22.3350             22.2850   \n",
       "5. volume               30555               34243               21062   \n",
       "\n",
       "          2024-09-26 11:45:00 2024-09-26 11:40:00  \n",
       "1. open               22.2801             22.2800  \n",
       "2. high               22.3204             22.3000  \n",
       "3. low                22.2412             22.2101  \n",
       "4. close              22.2500             22.2814  \n",
       "5. volume               30577               48461  \n",
       "\n",
       "[5 rows x 100 columns]"
      ]
     },
     "execution_count": 28,
     "metadata": {},
     "output_type": "execute_result"
    }
   ],
   "source": [
    "example = pd.DataFrame(data['Time Series (5min)'])\n",
    "example.head()"
   ]
  },
  {
   "cell_type": "code",
   "execution_count": 31,
   "id": "a7ccb00d",
   "metadata": {},
   "outputs": [],
   "source": [
    "gme.drop('Adj Close', axis=1, inplace=True)"
   ]
  },
  {
   "cell_type": "code",
   "execution_count": null,
   "id": "51d8a0c4",
   "metadata": {},
   "outputs": [],
   "source": [
    "def gather_data(start, end):\n",
    "    '''\n",
    "    Request\n",
    "    '''\n",
    "    data = {\n",
    "        \"Date:\" [],\n",
    "        \"Open:\" [],\n",
    "        \n",
    "    }"
   ]
  },
  {
   "cell_type": "code",
   "execution_count": null,
   "id": "8f0b8ecc",
   "metadata": {},
   "outputs": [],
   "source": [
    "gme[].append"
   ]
  },
  {
   "cell_type": "code",
   "execution_count": 32,
   "id": "f5c65ce1",
   "metadata": {},
   "outputs": [
    {
     "name": "stdout",
     "output_type": "stream",
     "text": [
      "{'status': 'OK', 'from': '2024-05-14', 'symbol': 'GME', 'open': 64.83, 'high': 64.83, 'low': 36, 'close': 48.75, 'volume': 206973629.0, 'afterHours': 51, 'preMarket': 40.31}\n"
     ]
    }
   ],
   "source": [
    "url = 'https://api.polygon.io/v1/open-close/GME/2024-05-14?adjusted=false&apiKey=EDzuZvt2GykLpYHVmg6TyHhgzY4Ed2Sy'\n",
    "r = requests.get(url)\n",
    "data = r.json()\n",
    "\n",
    "print(data)"
   ]
  },
  {
   "cell_type": "code",
   "execution_count": 33,
   "id": "0c80c82a",
   "metadata": {},
   "outputs": [],
   "source": [
    "def gather_data(start, end):\n",
    "    '''\n",
    "    Request a json payload from Polygon.io for each day within the timeframe, described by\n",
    "    {start} and {end}.\n",
    "    Once I get json for a day, I need to add it to a dictionary before returning the dataframe.\n",
    "    '''\n",
    "    # Create dictionary for final dataframe\n",
    "    data = {\"Date\": [],\"Open\": [],\"High\": [],\"Low\": [],\"Close\": [],\"Volume\": []}\n",
    "    \n",
    "    # Get the month as a number to iterate through timespan\n",
    "    startMonth = pd.to_datetime(start).month\n",
    "    endMonth = pd.to_datetime(end).month\n",
    "    \n",
    "    # Iterate through timespan\n",
    "    for month in range(startMonth, endMonth + 1):\n",
    "        # Get most of days in month\n",
    "        for day in range(1, 26):\n",
    "            # Create string of date for URL\n",
    "            if day < 10:\n",
    "                current = '2024-0' + str(month) + '-0' + str(day)\n",
    "            else:\n",
    "                current = '2024-0' + str(month) + '-0' + str(day) \n",
    "            \n",
    "            # Make request\n",
    "            url = 'https://api.polygon.io/v1/open-close/GME/' + current + '?adjusted=false&apiKey=EDzuZvt2GykLpYHVmg6TyHhgzY4Ed2Sy'\n",
    "            r = requests.get(url)\n",
    "            jsonData = r.json()\n",
    "            \n",
    "            # Add date-specific data to dictionary\n",
    "            data[\"Open\"].append(jsonData['open'])\n",
    "            data[\"High\"].append(jsonData['high'])\n",
    "            data[\"Low\"].append(jsonData[\"low\"])\n",
    "            data[\"Close\"].append(jsonData['close'])\n",
    "            data[\"Volume\"].append(jsonData['volume'])\n",
    "            date = pd.to_datetime(current)\n",
    "            data[\"Date\"].append(date)\n",
    "    \n",
    "        # Remove break statements if you want to make multiple requests\n",
    "            break\n",
    "        break\n",
    "    \n",
    "    # return dataframe of data\n",
    "    return pd.DataFrame(data)"
   ]
  },
  {
   "cell_type": "code",
   "execution_count": null,
   "id": "b682079e",
   "metadata": {},
   "outputs": [],
   "source": []
  },
  {
   "cell_type": "code",
   "execution_count": 34,
   "id": "f013f585",
   "metadata": {},
   "outputs": [
    {
     "data": {
      "text/html": [
       "<div>\n",
       "<style scoped>\n",
       "    .dataframe tbody tr th:only-of-type {\n",
       "        vertical-align: middle;\n",
       "    }\n",
       "\n",
       "    .dataframe tbody tr th {\n",
       "        vertical-align: top;\n",
       "    }\n",
       "\n",
       "    .dataframe thead th {\n",
       "        text-align: right;\n",
       "    }\n",
       "</style>\n",
       "<table border=\"1\" class=\"dataframe\">\n",
       "  <thead>\n",
       "    <tr style=\"text-align: right;\">\n",
       "      <th></th>\n",
       "      <th>Date</th>\n",
       "      <th>Open</th>\n",
       "      <th>High</th>\n",
       "      <th>Low</th>\n",
       "      <th>Close</th>\n",
       "      <th>Volume</th>\n",
       "    </tr>\n",
       "  </thead>\n",
       "  <tbody>\n",
       "    <tr>\n",
       "      <th>0</th>\n",
       "      <td>2024-05-01</td>\n",
       "      <td>11.03</td>\n",
       "      <td>11.32</td>\n",
       "      <td>10.7</td>\n",
       "      <td>10.91</td>\n",
       "      <td>2631514.0</td>\n",
       "    </tr>\n",
       "  </tbody>\n",
       "</table>\n",
       "</div>"
      ],
      "text/plain": [
       "        Date   Open   High   Low  Close     Volume\n",
       "0 2024-05-01  11.03  11.32  10.7  10.91  2631514.0"
      ]
     },
     "execution_count": 34,
     "metadata": {},
     "output_type": "execute_result"
    }
   ],
   "source": [
    "gather_data('2024-05-14', '2024-09-26')"
   ]
  },
  {
   "cell_type": "code",
   "execution_count": 37,
   "id": "bb4d02be",
   "metadata": {},
   "outputs": [],
   "source": [
    "gme2 = pd.read_json(\"recentGME.json\")\n",
    "gme.drop([\"Adj Close\"], inplace=True, axis=1)\n",
    "# Adding new data to the bottom of the OG GME dataframe\n",
    "result = pd.concat([gme, gme2])\n",
    "result.reset_index(inplace=True)"
   ]
  },
  {
   "cell_type": "code",
   "execution_count": 38,
   "id": "00afa255",
   "metadata": {},
   "outputs": [
    {
     "data": {
      "text/html": [
       "<div>\n",
       "<style scoped>\n",
       "    .dataframe tbody tr th:only-of-type {\n",
       "        vertical-align: middle;\n",
       "    }\n",
       "\n",
       "    .dataframe tbody tr th {\n",
       "        vertical-align: top;\n",
       "    }\n",
       "\n",
       "    .dataframe thead th {\n",
       "        text-align: right;\n",
       "    }\n",
       "</style>\n",
       "<table border=\"1\" class=\"dataframe\">\n",
       "  <thead>\n",
       "    <tr style=\"text-align: right;\">\n",
       "      <th></th>\n",
       "      <th>index</th>\n",
       "      <th>Date</th>\n",
       "      <th>Open</th>\n",
       "      <th>High</th>\n",
       "      <th>Low</th>\n",
       "      <th>Close</th>\n",
       "      <th>Volume</th>\n",
       "    </tr>\n",
       "  </thead>\n",
       "  <tbody>\n",
       "    <tr>\n",
       "      <th>5689</th>\n",
       "      <td>89</td>\n",
       "      <td>2024-09-20</td>\n",
       "      <td>19.63</td>\n",
       "      <td>22.03</td>\n",
       "      <td>19.4820</td>\n",
       "      <td>21.85</td>\n",
       "      <td>60804837</td>\n",
       "    </tr>\n",
       "    <tr>\n",
       "      <th>5690</th>\n",
       "      <td>90</td>\n",
       "      <td>2024-09-23</td>\n",
       "      <td>21.54</td>\n",
       "      <td>22.56</td>\n",
       "      <td>21.2301</td>\n",
       "      <td>22.31</td>\n",
       "      <td>13945783</td>\n",
       "    </tr>\n",
       "    <tr>\n",
       "      <th>5691</th>\n",
       "      <td>91</td>\n",
       "      <td>2024-09-24</td>\n",
       "      <td>22.61</td>\n",
       "      <td>22.72</td>\n",
       "      <td>21.5400</td>\n",
       "      <td>22.63</td>\n",
       "      <td>12112487</td>\n",
       "    </tr>\n",
       "    <tr>\n",
       "      <th>5692</th>\n",
       "      <td>92</td>\n",
       "      <td>2024-09-25</td>\n",
       "      <td>22.16</td>\n",
       "      <td>22.83</td>\n",
       "      <td>22.0650</td>\n",
       "      <td>22.18</td>\n",
       "      <td>6137420</td>\n",
       "    </tr>\n",
       "    <tr>\n",
       "      <th>5693</th>\n",
       "      <td>93</td>\n",
       "      <td>2024-09-26</td>\n",
       "      <td>22.40</td>\n",
       "      <td>22.64</td>\n",
       "      <td>21.8700</td>\n",
       "      <td>22.29</td>\n",
       "      <td>5771976</td>\n",
       "    </tr>\n",
       "  </tbody>\n",
       "</table>\n",
       "</div>"
      ],
      "text/plain": [
       "      index       Date   Open   High      Low  Close    Volume\n",
       "5689     89 2024-09-20  19.63  22.03  19.4820  21.85  60804837\n",
       "5690     90 2024-09-23  21.54  22.56  21.2301  22.31  13945783\n",
       "5691     91 2024-09-24  22.61  22.72  21.5400  22.63  12112487\n",
       "5692     92 2024-09-25  22.16  22.83  22.0650  22.18   6137420\n",
       "5693     93 2024-09-26  22.40  22.64  21.8700  22.29   5771976"
      ]
     },
     "execution_count": 38,
     "metadata": {},
     "output_type": "execute_result"
    }
   ],
   "source": [
    "result.tail()"
   ]
  },
  {
   "cell_type": "code",
   "execution_count": null,
   "id": "9fb969c7",
   "metadata": {},
   "outputs": [],
   "source": [
    "https://api.polygon.io/v2/aggs/ticker/AMC/range/1/day/2020-01-01/2024-09-30?adjusted=true&sort=asc&apiKey=EDzuZvt2GykLpYHVmg6TyHhgzY4Ed2Sy"
   ]
  },
  {
   "cell_type": "code",
   "execution_count": 41,
   "id": "476e2488",
   "metadata": {
    "scrolled": false
   },
   "outputs": [
    {
     "name": "stdout",
     "output_type": "stream",
     "text": [
      "{'ticker': 'AMC', 'queryCount': 501, 'resultsCount': 501, 'adjusted': True, 'results': [{'v': 2149991.2, 'vw': 67.944, 'o': 68.4, 'c': 68.8, 'h': 69.5, 'l': 66.1, 't': 1664769600000, 'n': 105863}, {'v': 4254825.4, 'vw': 75.695, 'o': 69.8, 'c': 78.3, 'h': 81.3, 'l': 69.7, 't': 1664856000000, 'n': 172433}, {'v': 2269968.0, 'vw': 73.148, 'o': 75.5, 'c': 73.3, 'h': 75.5, 'l': 70.4, 't': 1664942400000, 'n': 99006}, {'v': 1889064.6, 'vw': 73.303, 'o': 73.8, 'c': 71.2, 'h': 76.2, 'l': 71.2, 't': 1665028800000, 'n': 77538}, {'v': 2343624.2, 'vw': 66.558, 'o': 71, 'c': 65.3, 'h': 71, 'l': 64, 't': 1665115200000, 'n': 124932}, {'v': 2339266.5, 'vw': 65.599, 'o': 64.6, 'c': 63.5, 'h': 69.3, 'l': 62.7, 't': 1665374400000, 'n': 106451}, {'v': 2262146.0, 'vw': 62.088, 'o': 64, 'c': 61.2, 'h': 64.8, 'l': 60.7, 't': 1665460800000, 'n': 109491}, {'v': 3246584.3, 'vw': 58.701, 'o': 61.2, 'c': 58.5, 'h': 62.4, 'l': 56.2, 't': 1665547200000, 'n': 152099}, {'v': 2956548.8, 'vw': 59.163, 'o': 56.3, 'c': 60.4, 'h': 62.75, 'l': 54.7, 't': 1665633600000, 'n': 130141}, {'v': 2196824.7, 'vw': 60.629, 'o': 62.1, 'c': 60, 'h': 63.497, 'l': 59.45, 't': 1665720000000, 'n': 99978}, {'v': 1858073.1, 'vw': 63.07, 'o': 61.8, 'c': 63.6, 'h': 64.8, 'l': 60.915, 't': 1665979200000, 'n': 89430}, {'v': 2204138.3, 'vw': 65.82, 'o': 66, 'c': 65.1, 'h': 68, 'l': 63.7, 't': 1666065600000, 'n': 103224}, {'v': 1366614.3, 'vw': 62.325, 'o': 64.1, 'c': 61.1, 'h': 65, 'l': 60.5, 't': 1666152000000, 'n': 68113}, {'v': 1730943.8, 'vw': 63.552, 'o': 62, 'c': 63.5, 'h': 65.8, 'l': 61.301, 't': 1666238400000, 'n': 79455}, {'v': 1494437.2, 'vw': 64.145, 'o': 63.5, 'c': 64.9, 'h': 65.7, 'l': 62.2, 't': 1666324800000, 'n': 68159}, {'v': 1436307.1, 'vw': 63.51, 'o': 64.6, 'c': 63.6, 'h': 65.5, 'l': 62, 't': 1666584000000, 'n': 73229}, {'v': 2679822.7, 'vw': 67.592, 'o': 63, 'c': 67.5, 'h': 69.95, 'l': 62.7, 't': 1666670400000, 'n': 114324}, {'v': 2225068.0, 'vw': 68.186, 'o': 65.4, 'c': 66.4, 'h': 71.1, 'l': 65, 't': 1666756800000, 'n': 96284}, {'v': 1387326.3, 'vw': 66.802, 'o': 68.3, 'c': 65.1, 'h': 69.3, 'l': 64.85, 't': 1666843200000, 'n': 68070}, {'v': 1566859.9, 'vw': 65.276, 'o': 65.5, 'c': 65.1, 'h': 67, 'l': 63.6, 't': 1666929600000, 'n': 74007}, {'v': 3485908.8, 'vw': 68.24, 'o': 68.2, 'c': 66.6, 'h': 72.5, 'l': 65.4, 't': 1667188800000, 'n': 147176}, {'v': 2135426.6, 'vw': 64.157, 'o': 67.6, 'c': 61.5, 'h': 68.508, 'l': 61.3, 't': 1667275200000, 'n': 100216}, {'v': 2211277.8, 'vw': 60.2, 'o': 62.6, 'c': 58.1, 'h': 63.3, 'l': 57.9, 't': 1667361600000, 'n': 105576}, {'v': 1654318.3, 'vw': 56.969, 'o': 57.5, 'c': 57, 'h': 58.5, 'l': 55.8, 't': 1667448000000, 'n': 85566}, {'v': 1813458.7, 'vw': 56.065, 'o': 58.3, 'c': 56.5, 'h': 58.5, 'l': 54.2, 't': 1667534400000, 'n': 94274}, {'v': 2003785.5, 'vw': 53.216, 'o': 55.6, 'c': 53.3, 'h': 56.071, 'l': 51.7, 't': 1667797200000, 'n': 107298}, {'v': 2718976.0, 'vw': 54.689, 'o': 53.8, 'c': 56.2, 'h': 56.2, 'l': 53, 't': 1667883600000, 'n': 113218}, {'v': 2569981.0, 'vw': 51.514, 'o': 53.7, 'c': 51.9, 'h': 53.9, 'l': 50.5, 't': 1667970000000, 'n': 112007}, {'v': 4005250.4, 'vw': 59.817, 'o': 55, 'c': 61.3, 'h': 62.7, 'l': 53.5, 't': 1668056400000, 'n': 151341}, {'v': 4382231.0, 'vw': 67.82, 'o': 60.1, 'c': 72, 'h': 72.8, 'l': 59.3, 't': 1668142800000, 'n': 175796}, {'v': 5308389.6, 'vw': 77.55, 'o': 80.2, 'c': 73.4, 'h': 83.5, 'l': 72.9, 't': 1668402000000, 'n': 238764}, {'v': 4434983.3, 'vw': 78.426, 'o': 78.3, 'c': 79.5, 'h': 81.9, 'l': 74.6, 't': 1668488400000, 'n': 164751}, {'v': 2992969.3, 'vw': 74.83, 'o': 77.4, 'c': 75.3, 'h': 78, 'l': 71.6, 't': 1668574800000, 'n': 123233}, {'v': 1712000.6, 'vw': 72.854, 'o': 72.9, 'c': 73.9, 'h': 74.2, 'l': 71, 't': 1668661200000, 'n': 76706}, {'v': 2157206.9, 'vw': 75.708, 'o': 75.3, 'c': 75.9, 'h': 78.4, 'l': 73.4, 't': 1668747600000, 'n': 97542}, {'v': 1689268.3, 'vw': 72.467, 'o': 73, 'c': 72.7, 'h': 75.6, 'l': 70.5, 't': 1669006800000, 'n': 81096}, {'v': 1459193.2, 'vw': 72.72, 'o': 72.1, 'c': 73.2, 'h': 75.09, 'l': 70.7, 't': 1669093200000, 'n': 65971}, {'v': 3750898.2, 'vw': 76.834, 'o': 73.5, 'c': 76.4, 'h': 79.85, 'l': 72.8, 't': 1669179600000, 'n': 146936}, {'v': 828764, 'vw': 76.053, 'o': 76.6, 'c': 75.1, 'h': 77.4, 'l': 75, 't': 1669352400000, 'n': 44433}, {'v': 1794644.1, 'vw': 72.795, 'o': 74.4, 'c': 73.3, 'h': 74.4, 'l': 71.2, 't': 1669611600000, 'n': 82578}, {'v': 1631784.5, 'vw': 74.023, 'o': 72.9, 'c': 74.3, 'h': 76.199, 'l': 70.8, 't': 1669698000000, 'n': 69838}, {'v': 4491375.3, 'vw': 72.181, 'o': 74.8, 'c': 72.3, 'h': 74.8, 'l': 69.6, 't': 1669784400000, 'n': 114369}, {'v': 9670849.4, 'vw': 83.495, 'o': 72.9, 'c': 81.7, 'h': 91.5, 'l': 72.1, 't': 1669870800000, 'n': 385388}, {'v': 3476564.8, 'vw': 82.976, 'o': 81.8, 'c': 81.7, 'h': 86.3, 'l': 79.2, 't': 1669957200000, 'n': 140000}, {'v': 2831339.3, 'vw': 78.912, 'o': 81.8, 'c': 74.5, 'h': 85.4, 'l': 74.1, 't': 1670216400000, 'n': 129115}, {'v': 2618812.1, 'vw': 69.821, 'o': 74.6, 'c': 67.5, 'h': 74.8, 'l': 66.8, 't': 1670302800000, 'n': 118522}, {'v': 3923441.2, 'vw': 64.038, 'o': 67.7, 'c': 60.5, 'h': 71.3, 'l': 60, 't': 1670389200000, 'n': 143967}, {'v': 3049638.6, 'vw': 62.837, 'o': 62.4, 'c': 60.7, 'h': 67, 'l': 59.7, 't': 1670475600000, 'n': 119731}, {'v': 2315641.3, 'vw': 59.628, 'o': 60.5, 'c': 59.4, 'h': 61.3, 'l': 58.1, 't': 1670562000000, 'n': 99586}, {'v': 1752382.0, 'vw': 58.22, 'o': 59.9, 'c': 59.5, 'h': 60, 'l': 56.1, 't': 1670821200000, 'n': 83222}, {'v': 3493235.8, 'vw': 59.052, 'o': 65, 'c': 57.2, 'h': 65.1, 'l': 55.3, 't': 1670907600000, 'n': 144341}, {'v': 2215594.8, 'vw': 57.355, 'o': 57.7, 'c': 57.5, 'h': 58.8, 'l': 56.05, 't': 1670994000000, 'n': 81245}, {'v': 2870645.8, 'vw': 56.713, 'o': 56, 'c': 56, 'h': 60.485, 'l': 55.3, 't': 1671080400000, 'n': 101100}, {'v': 2969453.3, 'vw': 53.164, 'o': 56.5, 'c': 53.1, 'h': 57.3, 'l': 51.3, 't': 1671166800000, 'n': 121649}, {'v': 2949137.1, 'vw': 49.627, 'o': 52.3, 'c': 48.9, 'h': 53.2, 'l': 47.8, 't': 1671426000000, 'n': 141525}, {'v': 2227383.5, 'vw': 50.005, 'o': 48.7, 'c': 50.8, 'h': 51.5, 'l': 47.4, 't': 1671512400000, 'n': 87051}, {'v': 1950763.7, 'vw': 52.447, 'o': 51.4, 'c': 53, 'h': 53.7, 'l': 50.5, 't': 1671598800000, 'n': 66467}, {'v': 5544640.1, 'vw': 45.106, 'o': 41.4, 'c': 49.1, 'h': 49.8, 'l': 41.1, 't': 1671685200000, 'n': 209614}, {'v': 3031114.8, 'vw': 44.566, 'o': 47, 'c': 44, 'h': 48.2, 'l': 43.1, 't': 1671771600000, 'n': 137257}, {'v': 2167651.3, 'vw': 40.688, 'o': 42, 'c': 40.3, 'h': 42.1, 'l': 40, 't': 1672117200000, 'n': 95942}, {'v': 2974426.6, 'vw': 38.905, 'o': 40.1, 'c': 38.4, 'h': 41.3, 'l': 38.1, 't': 1672203600000, 'n': 87078}, {'v': 2122534.7, 'vw': 40.575, 'o': 39, 'c': 41.4, 'h': 41.9, 'l': 38.6, 't': 1672290000000, 'n': 81653}, {'v': 1845083.4, 'vw': 39.998, 'o': 40.4, 'c': 40.7, 'h': 40.9, 'l': 39, 't': 1672376400000, 'n': 79094}, {'v': 2210049.5, 'vw': 40.704, 'o': 41.4, 'c': 39.3, 'h': 43.9, 'l': 38.732, 't': 1672722000000, 'n': 92649}, {'v': 1795050.3, 'vw': 40.18, 'o': 40, 'c': 40.9, 'h': 41.55, 'l': 38.4, 't': 1672808400000, 'n': 72877}, {'v': 1275743.3, 'vw': 39.414, 'o': 40.3, 'c': 39.6, 'h': 40.6, 'l': 38.6, 't': 1672894800000, 'n': 59453}, {'v': 1530541.4, 'vw': 38.602, 'o': 39.8, 'c': 38.5, 'h': 39.9, 'l': 37.7, 't': 1672981200000, 'n': 66252}, {'v': 1716403.4, 'vw': 39.204, 'o': 39.2, 'c': 39.3, 'h': 40.2, 'l': 37.9, 't': 1673240400000, 'n': 69622}, {'v': 1284462.9, 'vw': 40.102, 'o': 39.1, 'c': 40.6, 'h': 40.75, 'l': 39.1, 't': 1673326800000, 'n': 54179}, {'v': 5399497.0, 'vw': 47.112, 'o': 44.3, 'c': 49.2, 'h': 49.8, 'l': 43.1, 't': 1673413200000, 'n': 174870}, {'v': 4196115.7, 'vw': 50.204, 'o': 50.9, 'c': 50.2, 'h': 53.5, 'l': 47.4, 't': 1673499600000, 'n': 178997}, {'v': 2592032.4, 'vw': 49.757, 'o': 48.4, 'c': 50.6, 'h': 51.4, 'l': 47.7, 't': 1673586000000, 'n': 97489}, {'v': 5760717.9, 'vw': 57.063, 'o': 53.7, 'c': 60.7, 'h': 61.7, 'l': 50.6, 't': 1673931600000, 'n': 195980}, {'v': 6212541.6, 'vw': 60.308, 'o': 63.7, 'c': 56.5, 'h': 65.5, 'l': 54.6, 't': 1674018000000, 'n': 204560}, {'v': 2973489.3, 'vw': 54.77, 'o': 54.7, 'c': 55.2, 'h': 56.5, 'l': 52.6, 't': 1674104400000, 'n': 103618}, {'v': 3127194.3, 'vw': 56.046, 'o': 55.3, 'c': 55.2, 'h': 58.05, 'l': 54.5, 't': 1674190800000, 'n': 103756}, {'v': 3409287.6, 'vw': 57.279, 'o': 55.3, 'c': 56.6, 'h': 59.2, 'l': 54.2, 't': 1674450000000, 'n': 114252}, {'v': 2408976.0, 'vw': 55.734, 'o': 59.5, 'c': 55, 'h': 59.5, 'l': 54, 't': 1674536400000, 'n': 89929}, {'v': 2297508.8, 'vw': 53.765, 'o': 54.3, 'c': 53.3, 'h': 54.7, 'l': 52.8, 't': 1674622800000, 'n': 70827}, {'v': 2159774.5, 'vw': 53.082, 'o': 55, 'c': 52.8, 'h': 56.099, 'l': 51, 't': 1674709200000, 'n': 82140}, {'v': 3346960.5, 'vw': 53.622, 'o': 52.5, 'c': 55.1, 'h': 56.15, 'l': 51.01, 't': 1674795600000, 'n': 114245}, {'v': 3411683.4, 'vw': 51.022, 'o': 52.8, 'c': 50.1, 'h': 53.4, 'l': 49.5, 't': 1675054800000, 'n': 128261}, {'v': 2188142.9, 'vw': 51.735, 'o': 51, 'c': 53.5, 'h': 53.5, 'l': 50, 't': 1675141200000, 'n': 76973}, {'v': 3689791.6, 'vw': 55.358, 'o': 53, 'c': 57.1, 'h': 57.95, 'l': 52.7, 't': 1675227600000, 'n': 128585}, {'v': 4959089.4, 'vw': 62.03, 'o': 62.8, 'c': 60.8, 'h': 64.5, 'l': 59.3, 't': 1675314000000, 'n': 216202}, {'v': 5235336.2, 'vw': 64.045, 'o': 60.95, 'c': 60.8, 'h': 67.7, 'l': 60.3, 't': 1675400400000, 'n': 199222}, {'v': 6251391.5, 'vw': 66.022, 'o': 63.1, 'c': 68, 'h': 73.3, 'l': 60.5, 't': 1675659600000, 'n': 239821}, {'v': 4731097.0, 'vw': 63.583, 'o': 69.4, 'c': 61.8, 'h': 69.6, 'l': 60.5, 't': 1675746000000, 'n': 172424}, {'v': 3142440.4, 'vw': 57.987, 'o': 61.2, 'c': 57.2, 'h': 61.3, 'l': 56.1, 't': 1675832400000, 'n': 118790}, {'v': 2908331.5, 'vw': 54.366, 'o': 58.7, 'c': 53.6, 'h': 58.8, 'l': 51.4, 't': 1675918800000, 'n': 118916}, {'v': 3854576.5, 'vw': 48.54, 'o': 52.1, 'c': 49, 'h': 52.1, 'l': 46.4, 't': 1676005200000, 'n': 146460}, {'v': 2616942.7, 'vw': 47.417, 'o': 47.5, 'c': 46.8, 'h': 49.1, 'l': 45.8, 't': 1676264400000, 'n': 96268}, {'v': 3619921.8, 'vw': 45.122, 'o': 45.5, 'c': 45, 'h': 46.2, 'l': 43.9, 't': 1676350800000, 'n': 127444}, {'v': 4671332.1, 'vw': 49.278, 'o': 45.6, 'c': 51.7, 'h': 52.7, 'l': 45.3, 't': 1676437200000, 'n': 148994}, {'v': 3208545.7, 'vw': 52.854, 'o': 52.4, 'c': 52.5, 'h': 54.9, 'l': 50.5, 't': 1676523600000, 'n': 131314}, {'v': 2759236.5, 'vw': 53.527, 'o': 53.2, 'c': 52.4, 'h': 55.3, 'l': 52.1, 't': 1676610000000, 'n': 115196}, {'v': 7351302.3, 'vw': 58.456, 'o': 54.7, 'c': 61, 'h': 62, 'l': 54.4, 't': 1676955600000, 'n': 280721}, {'v': 6866723.2, 'vw': 63.978, 'o': 64.2, 'c': 62.6, 'h': 67.9, 'l': 60.2, 't': 1677042000000, 'n': 229599}, {'v': 4209427.9, 'vw': 62.331, 'o': 62.9, 'c': 62.3, 'h': 66.5, 'l': 59.1, 't': 1677128400000, 'n': 136113}, {'v': 2324821.7, 'vw': 61.164, 'o': 61.3, 'c': 62, 'h': 62.399, 'l': 59.9, 't': 1677214800000, 'n': 73645}, {'v': 12267763.4, 'vw': 72.39, 'o': 63.1, 'c': 76.1, 'h': 81.9, 'l': 61.9, 't': 1677474000000, 'n': 392124}, {'v': 11345853.7, 'vw': 77.201, 'o': 77.8, 'c': 71.4, 'h': 85.3, 'l': 71.1, 't': 1677560400000, 'n': 390005}, {'v': 4117737.3, 'vw': 66.719, 'o': 68, 'c': 65.7, 'h': 71.067, 'l': 64.6, 't': 1677646800000, 'n': 158358}, {'v': 2779105.7, 'vw': 60.917, 'o': 62.4, 'c': 61, 'h': 63.7, 'l': 59, 't': 1677733200000, 'n': 107353}, {'v': 3406957.8, 'vw': 64.906, 'o': 62, 'c': 65.8, 'h': 66.9, 'l': 61.4, 't': 1677819600000, 'n': 118884}, {'v': 2624275.3, 'vw': 64.738, 'o': 65.75, 'c': 62.5, 'h': 67.5, 'l': 62.5, 't': 1678078800000, 'n': 101728}, {'v': 1622985.5, 'vw': 61.175, 'o': 62.3, 'c': 60.1, 'h': 63.5, 'l': 60, 't': 1678165200000, 'n': 71439}, {'v': 1986214.4, 'vw': 58.716, 'o': 60.4, 'c': 58.4, 'h': 61.25, 'l': 56.715, 't': 1678251600000, 'n': 80332}, {'v': 1617846.6, 'vw': 57.131, 'o': 57.4, 'c': 56.5, 'h': 59.2, 'l': 55.6, 't': 1678338000000, 'n': 72763}, {'v': 1557471.9, 'vw': 54.318, 'o': 55.6, 'c': 53.8, 'h': 56.2, 'l': 53, 't': 1678424400000, 'n': 77723}, {'v': 1551807.5, 'vw': 54.3, 'o': 54.4, 'c': 54.6, 'h': 55.6, 'l': 52.4, 't': 1678680000000, 'n': 74099}, {'v': 6487131.1, 'vw': 47.584, 'o': 54.8, 'c': 46.4, 'h': 55.1, 'l': 43.6, 't': 1678766400000, 'n': 216380}, {'v': 3632328.6, 'vw': 42.63, 'o': 45.3, 'c': 42.1, 'h': 46.101, 'l': 41.5, 't': 1678852800000, 'n': 131699}, {'v': 2821775.9, 'vw': 43.774, 'o': 42.2, 'c': 43.9, 'h': 46.5, 'l': 40.6, 't': 1678939200000, 'n': 99541}, {'v': 2743356.0, 'vw': 42.133, 'o': 43, 'c': 41.8, 'h': 43.4, 'l': 41.078, 't': 1679025600000, 'n': 87114}, {'v': 1758134.4, 'vw': 42.744, 'o': 42.5, 'c': 42.7, 'h': 43.8, 'l': 41.4, 't': 1679284800000, 'n': 67080}, {'v': 2084707.8, 'vw': 44.301, 'o': 43.3, 'c': 44.1, 'h': 44.458, 'l': 42.115, 't': 1679371200000, 'n': 69414}, {'v': 3144660.3, 'vw': 45.742, 'o': 47.3, 'c': 43.4, 'h': 47.5, 'l': 43.1, 't': 1679457600000, 'n': 109976}, {'v': 1945150.9, 'vw': 45.078, 'o': 44.4, 'c': 44.7, 'h': 46.8, 'l': 43.4, 't': 1679544000000, 'n': 67376}, {'v': 1052826.0, 'vw': 44.554, 'o': 44, 'c': 44.7, 'h': 45.4, 'l': 43.8, 't': 1679630400000, 'n': 44662}, {'v': 2031444.9, 'vw': 44.488, 'o': 45.1, 'c': 45.5, 'h': 45.8, 'l': 43, 't': 1679889600000, 'n': 66884}, {'v': 8981146.9, 'vw': 51.018, 'o': 45.1, 'c': 51.5, 'h': 55, 'l': 44.6, 't': 1679976000000, 'n': 252702}, {'v': 2809784.0, 'vw': 49.966, 'o': 51.4, 'c': 50, 'h': 52.084, 'l': 48.3, 't': 1680062400000, 'n': 100159}, {'v': 2023354.3, 'vw': 50.066, 'o': 51.1, 'c': 49.7, 'h': 51.6, 'l': 48.65, 't': 1680148800000, 'n': 64255}, {'v': 1900328.6, 'vw': 49.678, 'o': 49.1, 'c': 50.1, 'h': 50.55, 'l': 48.7, 't': 1680235200000, 'n': 61064}, {'v': 3361657.0, 'vw': 45.531, 'o': 49.9, 'c': 51.1, 'h': 51.45, 'l': 49.4, 't': 1680494400000, 'n': 119624}, {'v': 9033954.9, 'vw': 39.891, 'o': 40.8, 'c': 39.1, 'h': 44.5, 'l': 38.8, 't': 1680580800000, 'n': 278984}, {'v': 3065721.5, 'vw': 40.34, 'o': 40.7, 'c': 40.5, 'h': 40.9, 'l': 39.4, 't': 1680667200000, 'n': 88166}, {'v': 10155484.7, 'vw': 47.895, 'o': 44.501, 'c': 49, 'h': 51.557, 'l': 43.1, 't': 1680753600000, 'n': 311273}, {'v': 5057573.3, 'vw': 51.847, 'o': 47.7, 'c': 52.4, 'h': 53.7, 'l': 47.4, 't': 1681099200000, 'n': 160671}, {'v': 3663042.2, 'vw': 54.451, 'o': 54.5, 'c': 54.3, 'h': 56.3, 'l': 52.5, 't': 1681185600000, 'n': 112704}, {'v': 3362075.1, 'vw': 55.667, 'o': 56.2, 'c': 53.4, 'h': 57.4, 'l': 53.4, 't': 1681272000000, 'n': 105943}, {'v': 2048541.1, 'vw': 55.25, 'o': 54.8, 'c': 54.6, 'h': 56.6, 'l': 53.9, 't': 1681358400000, 'n': 73515}, {'v': 3592802.6, 'vw': 52.514, 'o': 57.4, 'c': 51.2, 'h': 57.6, 'l': 49, 't': 1681444800000, 'n': 129957}, {'v': 1621307.6, 'vw': 52.033, 'o': 52.4, 'c': 52, 'h': 53, 'l': 51.3, 't': 1681704000000, 'n': 59852}, {'v': 1373232.8, 'vw': 50.763, 'o': 52.3, 'c': 50.5, 'h': 52.3, 'l': 49.8, 't': 1681790400000, 'n': 53364}, {'v': 1281396.9, 'vw': 50.537, 'o': 49.5, 'c': 51, 'h': 51.7, 'l': 49.2, 't': 1681876800000, 'n': 45695}, {'v': 1029582.2, 'vw': 49.673, 'o': 50, 'c': 49.7, 'h': 50.2, 'l': 48.85, 't': 1681963200000, 'n': 40255}, {'v': 1397323.4, 'vw': 49.818, 'o': 49.4, 'c': 49.9, 'h': 50.7, 'l': 49.1, 't': 1682049600000, 'n': 47884}, {'v': 2238440.1, 'vw': 48.551, 'o': 49, 'c': 49.6, 'h': 50.3, 'l': 46.4, 't': 1682308800000, 'n': 78097}, {'v': 3303824.6, 'vw': 51.144, 'o': 49.4, 'c': 51.5, 'h': 53.4, 'l': 49.2, 't': 1682395200000, 'n': 98378}, {'v': 1427511.5, 'vw': 51.939, 'o': 51.8, 'c': 51.9, 'h': 53.2, 'l': 50.5, 't': 1682481600000, 'n': 54096}, {'v': 2101513.0, 'vw': 53.967, 'o': 52.2, 'c': 53.7, 'h': 55.6, 'l': 51.62, 't': 1682568000000, 'n': 76793}, {'v': 1897557.4, 'vw': 54.82, 'o': 54.6, 'c': 55, 'h': 55.4, 'l': 53.4, 't': 1682654400000, 'n': 55370}, {'v': 2034122.6, 'vw': 55.523, 'o': 55.3, 'c': 56.5, 'h': 56.9, 'l': 53.75, 't': 1682913600000, 'n': 70598}, {'v': 1623974.8, 'vw': 54.878, 'o': 56.7, 'c': 55, 'h': 57.4, 'l': 53.201, 't': 1683000000000, 'n': 60489}, {'v': 2505715.5, 'vw': 56.943, 'o': 54.1, 'c': 57.4, 'h': 58.2, 'l': 54.1, 't': 1683086400000, 'n': 87005}, {'v': 2500745.9, 'vw': 59.118, 'o': 58.4, 'c': 59.2, 'h': 60.5, 'l': 57.2, 't': 1683172800000, 'n': 85010}, {'v': 2847933.9, 'vw': 59.302, 'o': 61, 'c': 58.9, 'h': 61.1, 'l': 56.6, 't': 1683259200000, 'n': 105560}, {'v': 1703611.4, 'vw': 59.159, 'o': 58.3, 'c': 59, 'h': 60.3, 'l': 57.6, 't': 1683518400000, 'n': 71618}, {'v': 1877275.0, 'vw': 56.561, 'o': 58.1, 'c': 55.4, 'h': 59.5, 'l': 55.3, 't': 1683604800000, 'n': 63330}, {'v': 1456840.9, 'vw': 55.218, 'o': 56, 'c': 54.9, 'h': 56.1, 'l': 53.95, 't': 1683691200000, 'n': 50851}, {'v': 1389160.3, 'vw': 53.119, 'o': 54.2, 'c': 53.4, 'h': 54.8, 'l': 51.9, 't': 1683777600000, 'n': 53146}, {'v': 1324974.8, 'vw': 51.868, 'o': 52.7, 'c': 52, 'h': 53.2, 'l': 50.75, 't': 1683864000000, 'n': 43871}, {'v': 1211505.7, 'vw': 51.492, 'o': 51, 'c': 51.4, 'h': 52.4, 'l': 50.3, 't': 1684123200000, 'n': 47914}, {'v': 1191100.9, 'vw': 50.35, 'o': 51, 'c': 49.6, 'h': 51.4, 'l': 49.4, 't': 1684209600000, 'n': 45697}, {'v': 1393769.5, 'vw': 50.477, 'o': 49.7, 'c': 51, 'h': 51.5, 'l': 48.7, 't': 1684296000000, 'n': 49564}, {'v': 1069149.2, 'vw': 50.778, 'o': 50.8, 'c': 50.7, 'h': 51.6, 'l': 49.9, 't': 1684382400000, 'n': 38051}, {'v': 1068197.2, 'vw': 50.161, 'o': 50.9, 'c': 50.3, 'h': 50.9, 'l': 49.6, 't': 1684468800000, 'n': 40142}, {'v': 1400934.5, 'vw': 51.097, 'o': 50.3, 'c': 51.2, 'h': 52.1, 'l': 49.6, 't': 1684728000000, 'n': 47092}, {'v': 1219732.3, 'vw': 50.406, 'o': 50.9, 'c': 50.3, 'h': 51.4, 'l': 49.8, 't': 1684814400000, 'n': 38537}, {'v': 1708578.0, 'vw': 48.987, 'o': 50, 'c': 48.8, 'h': 50.8, 'l': 48, 't': 1684900800000, 'n': 60498}, {'v': 1688408.5, 'vw': 47.26, 'o': 49.3, 'c': 47, 'h': 49.3, 'l': 46.2, 't': 1684987200000, 'n': 68590}, {'v': 1184364.0, 'vw': 47.239, 'o': 47.5, 'c': 46.4, 'h': 48.5, 'l': 46.3, 't': 1685073600000, 'n': 45977}, {'v': 1390053.0, 'vw': 46.123, 'o': 47.4, 'c': 46.3, 'h': 47.75, 'l': 45, 't': 1685419200000, 'n': 54463}, {'v': 1337542.7, 'vw': 44.855, 'o': 45.75, 'c': 45, 'h': 46.082, 'l': 43.8, 't': 1685505600000, 'n': 52074}, {'v': 1243102.1, 'vw': 45.808, 'o': 45.1, 'c': 45.5, 'h': 46.6, 'l': 44.7, 't': 1685592000000, 'n': 44911}, {'v': 947793.2, 'vw': 45.652, 'o': 46.3, 'c': 45.5, 'h': 46.7, 'l': 45.3, 't': 1685678400000, 'n': 38293}, {'v': 949476.6, 'vw': 46.183, 'o': 46.5, 'c': 46.3, 'h': 46.7, 'l': 45.5, 't': 1685937600000, 'n': 38591}, {'v': 1513497.3, 'vw': 46.621, 'o': 45.9, 'c': 46.4, 'h': 47.7, 'l': 45.5, 't': 1686024000000, 'n': 46686}, {'v': 1514845.2, 'vw': 46.975, 'o': 47.6, 'c': 47.3, 'h': 47.6, 'l': 46.1, 't': 1686110400000, 'n': 57201}, {'v': 1571483.3, 'vw': 46.34, 'o': 46.7, 'c': 46.8, 'h': 47.3, 'l': 45.2, 't': 1686196800000, 'n': 45129}, {'v': 1485534.9, 'vw': 47.431, 'o': 46.5, 'c': 47.7, 'h': 48.2, 'l': 46.5, 't': 1686283200000, 'n': 42189}, {'v': 1042469.1, 'vw': 47.986, 'o': 47.807, 'c': 47.9, 'h': 48.8, 'l': 47.4, 't': 1686542400000, 'n': 43259}, {'v': 2560280.4, 'vw': 49.583, 'o': 48.6, 'c': 50, 'h': 51.5, 'l': 48.2, 't': 1686628800000, 'n': 72595}, {'v': 1548565.2, 'vw': 49.269, 'o': 50.7, 'c': 49, 'h': 50.8, 'l': 48.2, 't': 1686715200000, 'n': 52766}, {'v': 1585359.0, 'vw': 47.641, 'o': 48.5, 'c': 47.6, 'h': 48.5, 'l': 46.8, 't': 1686801600000, 'n': 53749}, {'v': 1876429.1, 'vw': 47.354, 'o': 48.2, 'c': 47, 'h': 48.3, 'l': 46.7, 't': 1686888000000, 'n': 45996}, {'v': 1645022.9, 'vw': 45.623, 'o': 46.9, 'c': 45.9, 'h': 47.3, 'l': 44.9, 't': 1687233600000, 'n': 56903}, {'v': 1302685.0, 'vw': 45.222, 'o': 46, 'c': 45.3, 'h': 46.4, 'l': 45, 't': 1687320000000, 'n': 47241}, {'v': 3834306.5, 'vw': 41.602, 'o': 42.5, 'c': 41.7, 'h': 42.8, 'l': 40.7, 't': 1687406400000, 'n': 104956}, {'v': 1457571.8, 'vw': 40.676, 'o': 41.2, 'c': 40.1, 'h': 41.499, 'l': 40.1, 't': 1687492800000, 'n': 49084}, {'v': 1410248.9, 'vw': 40.507, 'o': 40.8, 'c': 40.3, 'h': 41.3, 'l': 40.1, 't': 1687752000000, 'n': 52013}, {'v': 1594267.0, 'vw': 40.709, 'o': 40.8, 'c': 41, 'h': 41.5, 'l': 40.1, 't': 1687838400000, 'n': 47767}, {'v': 2606438.6, 'vw': 42.919, 'o': 40.9, 'c': 44.1, 'h': 45.5, 'l': 40.8, 't': 1687924800000, 'n': 77527}, {'v': 2828455.7, 'vw': 43.146, 'o': 43.6, 'c': 44.2, 'h': 44.3, 'l': 41.8, 't': 1688011200000, 'n': 67014}, {'v': 1735521.5, 'vw': 43.429, 'o': 43.3, 'c': 44, 'h': 44, 'l': 42.5, 't': 1688097600000, 'n': 54299}, {'v': 1608424.6, 'vw': 44.884, 'o': 43.9, 'c': 44.4, 'h': 46, 'l': 43.2, 't': 1688356800000, 'n': 49755}, {'v': 2046836.9, 'vw': 43.094, 'o': 44.4, 'c': 42.5, 'h': 44.4, 'l': 42.2, 't': 1688529600000, 'n': 59059}, {'v': 2090390.7, 'vw': 42.844, 'o': 42.2, 'c': 42.9, 'h': 43.3, 'l': 41.9, 't': 1688616000000, 'n': 60520}, {'v': 1541242.5, 'vw': 42.561, 'o': 43.1, 'c': 42, 'h': 43.55, 'l': 42, 't': 1688702400000, 'n': 52645}, {'v': 2346769.0, 'vw': 42.227, 'o': 41.8, 'c': 42.4, 'h': 42.9, 'l': 41.7, 't': 1688961600000, 'n': 60873}, {'v': 2329402.3, 'vw': 43.617, 'o': 43, 'c': 43.9, 'h': 44.4, 'l': 42.539, 't': 1689048000000, 'n': 59867}, {'v': 1884755.4, 'vw': 44.106, 'o': 44.3, 'c': 44, 'h': 44.7, 'l': 43.5, 't': 1689134400000, 'n': 47971}, {'v': 2139149.2, 'vw': 44.521, 'o': 44.3, 'c': 44.4, 'h': 45.2, 'l': 43.95, 't': 1689220800000, 'n': 53239}, {'v': 1739563.6, 'vw': 43.869, 'o': 45.5, 'c': 43.3, 'h': 45.7, 'l': 43, 't': 1689307200000, 'n': 51711}, {'v': 1212720.8, 'vw': 43.435, 'o': 43.4, 'c': 43.7, 'h': 43.9, 'l': 42.7, 't': 1689566400000, 'n': 44150}, {'v': 1853722.8, 'vw': 43.812, 'o': 43.5, 'c': 43.1, 'h': 45.4, 'l': 42.7, 't': 1689652800000, 'n': 54921}, {'v': 2019826.3, 'vw': 43.31, 'o': 43.5, 'c': 43.7, 'h': 44, 'l': 42.8, 't': 1689739200000, 'n': 48365}, {'v': 1989101.4, 'vw': 42.943, 'o': 43.3, 'c': 43.3, 'h': 43.7, 'l': 42.3, 't': 1689825600000, 'n': 42250}, {'v': 8521024.0, 'vw': 65.917, 'o': 43.4, 'c': 44, 'h': 44.8, 'l': 42.85, 't': 1689912000000, 'n': 266511}, {'v': 25706629.4, 'vw': 57.17, 'o': 58.4, 'c': 58.5, 'h': 62.3, 'l': 48.7, 't': 1690171200000, 'n': 809877}, {'v': 5831363.2, 'vw': 52.348, 'o': 53.6, 'c': 51.2, 'h': 54.8, 'l': 50.3, 't': 1690257600000, 'n': 174888}, {'v': 3114769.2, 'vw': 50.287, 'o': 51.5, 'c': 50.7, 'h': 52.5, 'l': 49.1, 't': 1690344000000, 'n': 99267}, {'v': 4240854.1, 'vw': 47.273, 'o': 51.1, 'c': 45.2, 'h': 51.5, 'l': 45.1, 't': 1690430400000, 'n': 134112}, {'v': 2481299.9, 'vw': 46.034, 'o': 46.6, 'c': 46.4, 'h': 46.7, 'l': 45.2, 't': 1690516800000, 'n': 73763}, {'v': 3717616.2, 'vw': 49.113, 'o': 46.6, 'c': 49.7, 'h': 50.8, 'l': 46.39, 't': 1690776000000, 'n': 106796}, {'v': 2403397.6, 'vw': 49.472, 'o': 49.3, 'c': 49.3, 'h': 51.7, 'l': 48.4, 't': 1690862400000, 'n': 76979}, {'v': 1553294.5, 'vw': 47.975, 'o': 48.5, 'c': 48, 'h': 48.8, 'l': 46.8, 't': 1690948800000, 'n': 51946}, {'v': 1482848.0, 'vw': 48.773, 'o': 47.9, 'c': 49.1, 'h': 49.8, 'l': 47.4, 't': 1691035200000, 'n': 45030}, {'v': 2087543.8, 'vw': 49.776, 'o': 49.1, 'c': 49.3, 'h': 50.8, 'l': 48.2, 't': 1691121600000, 'n': 69287}, {'v': 2703207.7, 'vw': 51.607, 'o': 50.4, 'c': 51.2, 'h': 52.8, 'l': 50.1, 't': 1691380800000, 'n': 83658}, {'v': 3042303.2, 'vw': 51.674, 'o': 54.6, 'c': 50.9, 'h': 54.6, 'l': 49.9, 't': 1691467200000, 'n': 96512}, {'v': 1809062.3, 'vw': 49.751, 'o': 50.9, 'c': 49, 'h': 51.6, 'l': 48.6, 't': 1691553600000, 'n': 66820}, {'v': 1392337.0, 'vw': 49.923, 'o': 49.5, 'c': 49.8, 'h': 51, 'l': 49, 't': 1691640000000, 'n': 48191}, {'v': 5967175.8, 'vw': 43.925, 'o': 49.1, 'c': 52.6, 'h': 52.8, 'l': 49.1, 't': 1691726400000, 'n': 156278}, {'v': 13416122.5, 'vw': 34.213, 'o': 33.3, 'c': 33.9, 'h': 36.4, 'l': 31.8, 't': 1691985600000, 'n': 378921}, {'v': 7040204.3, 'vw': 35.758, 'o': 34.9, 'c': 36.8, 'h': 38, 'l': 33, 't': 1692072000000, 'n': 168762}, {'v': 5699247.1, 'vw': 36.494, 'o': 36.8, 'c': 37.5, 'h': 38.4, 'l': 34.7, 't': 1692158400000, 'n': 134567}, {'v': 7147799.9, 'vw': 39.259, 'o': 36.7, 'c': 40.4, 'h': 40.6, 'l': 36.4, 't': 1692244800000, 'n': 195737}, {'v': 5165848.0, 'vw': 40.156, 'o': 40.6, 'c': 40.9, 'h': 41.9, 'l': 38.6, 't': 1692331200000, 'n': 152330}, {'v': 11371256.0, 'vw': 33.009, 'o': 40, 'c': 31.2, 'h': 40.3, 'l': 30.5, 't': 1692590400000, 'n': 295495}, {'v': 10944869.7, 'vw': 25.961, 'o': 31, 'c': 25.5, 'h': 31.1, 'l': 24.6, 't': 1692676800000, 'n': 274758}, {'v': 19985436.0, 'vw': 20.229, 'o': 19.5, 'c': 19.6, 'h': 22, 'l': 19.4, 't': 1692763200000, 'n': 481325}, {'v': 26407969.0, 'vw': 14.607, 'o': 16.31, 'c': 14.37, 'h': 16.6, 'l': 13.325, 't': 1692849600000, 'n': 213859}, {'v': 24061647.0, 'vw': 13.3122, 'o': 13.435, 'c': 12.43, 'h': 14.45, 'l': 12.395, 't': 1692936000000, 'n': 174498}, {'v': 24630979.0, 'vw': 11.6281, 'o': 11.99, 'c': 11.07, 'h': 12.35, 'l': 11.05, 't': 1693195200000, 'n': 180206}, {'v': 27312516.0, 'vw': 11.1719, 'o': 11.24, 'c': 10.91, 'h': 11.7, 'l': 10.72, 't': 1693281600000, 'n': 142936}, {'v': 55170296.0, 'vw': 12.441, 'o': 11.1, 'c': 12.73, 'h': 13.64, 'l': 10.73, 't': 1693368000000, 'n': 276148}, {'v': 38962109.0, 'vw': 13.2076, 'o': 13.9, 'c': 12.55, 'h': 13.9, 'l': 12.55, 't': 1693454400000, 'n': 220468}, {'v': 22944879.0, 'vw': 12.8109, 'o': 12.68, 'c': 13.1, 'h': 13.23, 'l': 12.12, 't': 1693540800000, 'n': 128286}, {'v': 20097276.0, 'vw': 13.2663, 'o': 13, 'c': 13.64, 'h': 13.76, 'l': 12.64, 't': 1693886400000, 'n': 119047}, {'v': 84962058.0, 'vw': 9.8352, 'o': 11.7, 'c': 8.62, 'h': 11.7, 'l': 8.43, 't': 1693972800000, 'n': 389985}, {'v': 47792107.0, 'vw': 8.0547, 'o': 8.25, 'c': 8.12, 'h': 8.38, 'l': 7.71, 't': 1694059200000, 'n': 219916}, {'v': 32634548.0, 'vw': 7.4725, 'o': 7.96, 'c': 7.18, 'h': 8, 'l': 7.1, 't': 1694145600000, 'n': 156857}, {'v': 26368733.0, 'vw': 7.2668, 'o': 7.42, 'c': 7.34, 'h': 7.64, 'l': 7.05, 't': 1694404800000, 'n': 128358}, {'v': 37788051.0, 'vw': 7.7217, 'o': 7.38, 'c': 7.57, 'h': 8.14, 'l': 7.22, 't': 1694491200000, 'n': 165553}, {'v': 37600396.0, 'vw': 8.003, 'o': 7.57, 'c': 8.24, 'h': 8.35, 'l': 7.38, 't': 1694577600000, 'n': 141006}, {'v': 46855415.0, 'vw': 8.5184, 'o': 8.91, 'c': 8.14, 'h': 9.1, 'l': 8.045, 't': 1694664000000, 'n': 208710}, {'v': 24215671.0, 'vw': 8.2651, 'o': 8.09, 'c': 8.36, 'h': 8.54, 'l': 7.88, 't': 1694750400000, 'n': 110771}, {'v': 18562172.0, 'vw': 7.8717, 'o': 8.25, 'c': 7.8, 'h': 8.319, 'l': 7.68, 't': 1695009600000, 'n': 91617}, {'v': 23462345.0, 'vw': 7.8523, 'o': 7.7, 'c': 8.25, 'h': 8.365, 'l': 7.33, 't': 1695096000000, 'n': 103098}, {'v': 23101728.0, 'vw': 8.3619, 'o': 8.05, 'c': 8.16, 'h': 8.69, 'l': 7.97, 't': 1695182400000, 'n': 94904}, {'v': 14920216.0, 'vw': 7.9408, 'o': 8.11, 'c': 7.7, 'h': 8.34, 'l': 7.69, 't': 1695268800000, 'n': 74376}, {'v': 13921804.0, 'vw': 7.8079, 'o': 7.77, 'c': 7.62, 'h': 8.09, 'l': 7.59, 't': 1695355200000, 'n': 67143}, {'v': 20448721.0, 'vw': 8.1018, 'o': 7.69, 'c': 8.14, 'h': 8.5, 'l': 7.46, 't': 1695614400000, 'n': 94604}, {'v': 16714155.0, 'vw': 8.0632, 'o': 8.08, 'c': 7.91, 'h': 8.46, 'l': 7.77, 't': 1695700800000, 'n': 72652}, {'v': 15769670.0, 'vw': 7.7583, 'o': 7.95, 'c': 7.57, 'h': 8.1, 'l': 7.5, 't': 1695787200000, 'n': 67005}, {'v': 15141040.0, 'vw': 7.6072, 'o': 7.5, 'c': 7.79, 'h': 7.79, 'l': 7.31, 't': 1695873600000, 'n': 61184}, {'v': 17752321.0, 'vw': 8.047, 'o': 7.84, 'c': 7.99, 'h': 8.31, 'l': 7.835, 't': 1695960000000, 'n': 73169}, {'v': 17438877.0, 'vw': 8.0748, 'o': 8.06, 'c': 8.15, 'h': 8.4, 'l': 7.765, 't': 1696219200000, 'n': 84418}, {'v': 11379775.0, 'vw': 8.0101, 'o': 8.11, 'c': 7.85, 'h': 8.28, 'l': 7.835, 't': 1696305600000, 'n': 55343}, {'v': 18725938.0, 'vw': 8.1422, 'o': 7.88, 'c': 8.34, 'h': 8.5, 'l': 7.73, 't': 1696392000000, 'n': 78205}, {'v': 20160558.0, 'vw': 8.4414, 'o': 8.25, 'c': 8.3, 'h': 8.83, 'l': 8.155, 't': 1696478400000, 'n': 88245}, {'v': 35656343.0, 'vw': 8.9186, 'o': 8.26, 'c': 9.26, 'h': 9.4299, 'l': 8.21, 't': 1696564800000, 'n': 146126}, {'v': 26758503.0, 'vw': 9.4504, 'o': 9.12, 'c': 9.82, 'h': 9.86, 'l': 9.06, 't': 1696824000000, 'n': 110225}, {'v': 27390137.0, 'vw': 10.01, 'o': 9.91, 'c': 9.92, 'h': 10.38, 'l': 9.62, 't': 1696910400000, 'n': 118630}, {'v': 23782904.0, 'vw': 10.2252, 'o': 10, 'c': 10.42, 'h': 10.52, 'l': 9.81, 't': 1696996800000, 'n': 99839}, {'v': 31698595.0, 'vw': 10.7108, 'o': 10.64, 'c': 11, 'h': 11.17, 'l': 10.21, 't': 1697083200000, 'n': 138113}, {'v': 31338822.0, 'vw': 9.8599, 'o': 10.74, 'c': 9.5, 'h': 10.835, 'l': 9.34, 't': 1697169600000, 'n': 148368}, {'v': 19021240.0, 'vw': 9.2737, 'o': 9.23, 'c': 9.33, 'h': 9.54, 'l': 8.96, 't': 1697428800000, 'n': 91740}, {'v': 23503223.0, 'vw': 9.8674, 'o': 9.17, 'c': 9.86, 'h': 10.26, 'l': 9.15, 't': 1697515200000, 'n': 107667}, {'v': 17228613.0, 'vw': 9.4952, 'o': 9.82, 'c': 9.16, 'h': 10.22, 'l': 9.16, 't': 1697601600000, 'n': 83431}, {'v': 18145637.0, 'vw': 9.4664, 'o': 9.3, 'c': 9.36, 'h': 9.83, 'l': 8.97, 't': 1697688000000, 'n': 89580}, {'v': 13827866.0, 'vw': 9.3984, 'o': 9.13, 'c': 9.08, 'h': 9.7, 'l': 9, 't': 1697774400000, 'n': 67904}, {'v': 17172855.0, 'vw': 9.2836, 'o': 9.37, 'c': 9.16, 'h': 9.62, 'l': 8.91, 't': 1698033600000, 'n': 82348}, {'v': 15333443.0, 'vw': 9.5876, 'o': 9.34, 'c': 9.33, 'h': 9.96, 'l': 9.19, 't': 1698120000000, 'n': 73174}, {'v': 12729060.0, 'vw': 9.3012, 'o': 9.42, 'c': 9.28, 'h': 9.54, 'l': 9.08, 't': 1698206400000, 'n': 65004}, {'v': 12472791.0, 'vw': 9.2891, 'o': 9.34, 'c': 9.23, 'h': 9.47, 'l': 9.08, 't': 1698292800000, 'n': 59293}, {'v': 13892260.0, 'vw': 9.3755, 'o': 9.27, 'c': 9.15, 'h': 9.66, 'l': 9.13, 't': 1698379200000, 'n': 62873}, {'v': 16581354.0, 'vw': 9.7214, 'o': 9.29, 'c': 9.96, 'h': 10.01, 'l': 9.2401, 't': 1698638400000, 'n': 85651}, {'v': 18157043.0, 'vw': 10.4112, 'o': 10, 'c': 10.68, 'h': 10.69, 'l': 9.96, 't': 1698724800000, 'n': 86856}, {'v': 14634262.0, 'vw': 10.3459, 'o': 10.76, 'c': 10.03, 'h': 10.799, 'l': 10.01, 't': 1698811200000, 'n': 73202}, {'v': 14482059.0, 'vw': 10.4734, 'o': 10.22, 'c': 10.49, 'h': 10.67, 'l': 10.21, 't': 1698897600000, 'n': 72824}, {'v': 22573364.0, 'vw': 10.8936, 'o': 10.635, 'c': 10.72, 'h': 11.2981, 'l': 10.53, 't': 1698984000000, 'n': 109580}, {'v': 20742367.0, 'vw': 11.1084, 'o': 11, 'c': 10.95, 'h': 11.43, 'l': 10.76, 't': 1699246800000, 'n': 95103}, {'v': 16037830.0, 'vw': 10.4357, 'o': 10.98, 'c': 10.22, 'h': 11.03, 'l': 10.11, 't': 1699333200000, 'n': 84371}, {'v': 19309412.0, 'vw': 10.1196, 'o': 10.3, 'c': 10.09, 'h': 10.3599, 'l': 9.96, 't': 1699419600000, 'n': 95572}, {'v': 63400577.0, 'vw': 8.6914, 'o': 8.18, 'c': 8.71, 'h': 9.37, 'l': 8.02, 't': 1699506000000, 'n': 261058}, {'v': 29212857.0, 'vw': 8.0612, 'o': 8.42, 'c': 8.01, 'h': 8.4467, 'l': 7.84, 't': 1699592400000, 'n': 135700}, {'v': 17230500.0, 'vw': 7.7994, 'o': 7.95, 'c': 7.9, 'h': 7.96, 'l': 7.61, 't': 1699851600000, 'n': 85686}, {'v': 20005170.0, 'vw': 8.0798, 'o': 8.18, 'c': 8.07, 'h': 8.25, 'l': 7.78, 't': 1699938000000, 'n': 88708}, {'v': 20265455.0, 'vw': 7.9912, 'o': 8.18, 'c': 7.89, 'h': 8.295, 'l': 7.77, 't': 1700024400000, 'n': 91771}, {'v': 19837051.0, 'vw': 7.5198, 'o': 7.84, 'c': 7.39, 'h': 7.85, 'l': 7.36, 't': 1700110800000, 'n': 97794}, {'v': 13223986.0, 'vw': 7.396, 'o': 7.42, 'c': 7.43, 'h': 7.5, 'l': 7.26, 't': 1700197200000, 'n': 63636}, {'v': 13454386.0, 'vw': 7.344, 'o': 7.5, 'c': 7.16, 'h': 7.52, 'l': 7.15, 't': 1700456400000, 'n': 67438}, {'v': 26428344.0, 'vw': 6.7245, 'o': 7.07, 'c': 6.65, 'h': 7.09, 'l': 6.52, 't': 1700542800000, 'n': 116741}, {'v': 18536310.0, 'vw': 6.9393, 'o': 6.72, 'c': 6.99, 'h': 7.105, 'l': 6.6, 't': 1700629200000, 'n': 82217}, {'v': 8594097.0, 'vw': 6.9001, 'o': 6.97, 'c': 6.9, 'h': 7.03, 'l': 6.82, 't': 1700802000000, 'n': 36906}, {'v': 11484298.0, 'vw': 6.7943, 'o': 6.88, 'c': 6.8, 'h': 6.89, 'l': 6.67, 't': 1701061200000, 'n': 59103}, {'v': 17932142.0, 'vw': 6.6862, 'o': 6.73, 'c': 6.7, 'h': 6.8, 'l': 6.5342, 't': 1701147600000, 'n': 68156}, {'v': 32449055.0, 'vw': 7.1295, 'o': 6.95, 'c': 7.17, 'h': 7.34, 'l': 6.86, 't': 1701234000000, 'n': 130651}, {'v': 20347073.0, 'vw': 6.8237, 'o': 7.15, 'c': 6.65, 'h': 7.18, 'l': 6.64, 't': 1701320400000, 'n': 88573}, {'v': 24079316.0, 'vw': 6.8074, 'o': 6.66, 'c': 6.86, 'h': 6.99, 'l': 6.53, 't': 1701406800000, 'n': 103093}, {'v': 30553658.0, 'vw': 7.1837, 'o': 6.87, 'c': 7.49, 'h': 7.54, 'l': 6.81, 't': 1701666000000, 'n': 116785}, {'v': 21060440.0, 'vw': 7.1122, 'o': 7.42, 'c': 7.02, 'h': 7.45, 'l': 6.88, 't': 1701752400000, 'n': 87744}, {'v': 17025001.0, 'vw': 6.9668, 'o': 7.07, 'c': 6.79, 'h': 7.145, 'l': 6.77, 't': 1701838800000, 'n': 72063}, {'v': 11599393.0, 'vw': 6.825, 'o': 6.79, 'c': 6.82, 'h': 6.92, 'l': 6.711, 't': 1701925200000, 'n': 54381}, {'v': 11951452.0, 'vw': 6.9384, 'o': 6.82, 'c': 6.93, 'h': 7.04, 'l': 6.79, 't': 1702011600000, 'n': 52882}, {'v': 14619128.0, 'vw': 6.9581, 'o': 6.86, 'c': 7.11, 'h': 7.12, 'l': 6.73, 't': 1702270800000, 'n': 59542}, {'v': 16793921.0, 'vw': 6.8563, 'o': 7.14, 'c': 6.72, 'h': 7.15, 'l': 6.7, 't': 1702357200000, 'n': 68750}, {'v': 21774780.0, 'vw': 6.6985, 'o': 6.77, 'c': 6.81, 'h': 6.915, 'l': 6.5, 't': 1702443600000, 'n': 87088}, {'v': 28592919.0, 'vw': 6.9109, 'o': 6.94, 'c': 6.71, 'h': 7.22, 'l': 6.67, 't': 1702530000000, 'n': 98818}, {'v': 36845529.0, 'vw': 6.6714, 'o': 6.79, 'c': 6.65, 'h': 6.81, 'l': 6.62, 't': 1702616400000, 'n': 78648}, {'v': 17455517.0, 'vw': 6.7149, 'o': 6.66, 'c': 6.74, 'h': 6.84, 'l': 6.47, 't': 1702875600000, 'n': 61764}, {'v': 16633624.0, 'vw': 6.7286, 'o': 6.78, 'c': 6.74, 'h': 6.82, 'l': 6.63, 't': 1702962000000, 'n': 58411}, {'v': 26820098.0, 'vw': 6.4402, 'o': 6.69, 'c': 6.17, 'h': 6.7, 'l': 6.17, 't': 1703048400000, 'n': 97742}, {'v': 28731756.0, 'vw': 6.1062, 'o': 6.33, 'c': 6.07, 'h': 6.38, 'l': 5.93, 't': 1703134800000, 'n': 101587}, {'v': 15846548.0, 'vw': 6.0989, 'o': 6.05, 'c': 6.1, 'h': 6.2, 'l': 5.96, 't': 1703221200000, 'n': 53386}, {'v': 13107025.0, 'vw': 6.0888, 'o': 6.08, 'c': 6.11, 'h': 6.19, 'l': 5.96, 't': 1703566800000, 'n': 51118}, {'v': 11129261.0, 'vw': 6.1805, 'o': 6.11, 'c': 6.16, 'h': 6.26, 'l': 6.04, 't': 1703653200000, 'n': 50215}, {'v': 18490616.0, 'vw': 6.2986, 'o': 6.18, 'c': 6.21, 'h': 6.5, 'l': 6.14, 't': 1703739600000, 'n': 65946}, {'v': 15129633.0, 'vw': 6.1409, 'o': 6.2, 'c': 6.12, 'h': 6.23, 'l': 6.06, 't': 1703826000000, 'n': 67257}, {'v': 13559542.0, 'vw': 6.1677, 'o': 6.09, 'c': 6.11, 'h': 6.33, 'l': 6.01, 't': 1704171600000, 'n': 58104}, {'v': 29667210.0, 'vw': 5.6986, 'o': 6.05, 'c': 5.58, 'h': 6.065, 'l': 5.55, 't': 1704258000000, 'n': 112914}, {'v': 22982925.0, 'vw': 5.3971, 'o': 5.56, 'c': 5.3, 'h': 5.6, 'l': 5.25, 't': 1704344400000, 'n': 87883}, {'v': 16213469.0, 'vw': 5.1668, 'o': 5.26, 'c': 5.17, 'h': 5.28, 'l': 5.08, 't': 1704430800000, 'n': 71842}, {'v': 14387803.0, 'vw': 5.2618, 'o': 5.14, 'c': 5.29, 'h': 5.415, 'l': 5.09, 't': 1704690000000, 'n': 55517}, {'v': 13134188.0, 'vw': 5.1326, 'o': 5.24, 'c': 5.04, 'h': 5.3, 'l': 5.03, 't': 1704776400000, 'n': 55346}, {'v': 22955046.0, 'vw': 4.8536, 'o': 5.05, 'c': 4.91, 'h': 5.05, 'l': 4.71, 't': 1704862800000, 'n': 92529}, {'v': 13427947.0, 'vw': 4.7244, 'o': 4.86, 'c': 4.7, 'h': 4.87, 'l': 4.64, 't': 1704949200000, 'n': 62329}, {'v': 14495004.0, 'vw': 4.6063, 'o': 4.67, 'c': 4.56, 'h': 4.789, 'l': 4.465, 't': 1705035600000, 'n': 57324}, {'v': 17836958.0, 'vw': 4.2924, 'o': 4.54, 'c': 4.21, 'h': 4.54, 'l': 4.13, 't': 1705381200000, 'n': 74824}, {'v': 15468010.0, 'vw': 4.1137, 'o': 4.07, 'c': 4.11, 'h': 4.26, 'l': 4.01, 't': 1705467600000, 'n': 66789}, {'v': 17689971.0, 'vw': 4.2982, 'o': 4.15, 'c': 4.43, 'h': 4.44, 'l': 4.08, 't': 1705554000000, 'n': 63139}, {'v': 11258100.0, 'vw': 4.4389, 'o': 4.5, 'c': 4.51, 'h': 4.53, 'l': 4.3, 't': 1705640400000, 'n': 45429}, {'v': 14325906.0, 'vw': 4.5712, 'o': 4.6, 'c': 4.48, 'h': 4.81, 'l': 4.43, 't': 1705899600000, 'n': 61627}, {'v': 12718266.0, 'vw': 4.466, 'o': 4.53, 'c': 4.33, 'h': 4.72, 'l': 4.33, 't': 1705986000000, 'n': 50919}, {'v': 11173111.0, 'vw': 4.226, 'o': 4.4, 'c': 4.13, 'h': 4.44, 'l': 4.11, 't': 1706072400000, 'n': 52526}, {'v': 11252925.0, 'vw': 4.1248, 'o': 4.13, 'c': 4.08, 'h': 4.23, 'l': 4.07, 't': 1706158800000, 'n': 46324}, {'v': 11295563.0, 'vw': 4.1512, 'o': 4.12, 'c': 4.07, 'h': 4.26, 'l': 4.06, 't': 1706245200000, 'n': 43604}, {'v': 10971893.0, 'vw': 4.1379, 'o': 4.11, 'c': 4.27, 'h': 4.27, 'l': 3.98, 't': 1706504400000, 'n': 46360}, {'v': 8874381.0, 'vw': 4.1452, 'o': 4.23, 'c': 4.11, 'h': 4.23, 'l': 4.08, 't': 1706590800000, 'n': 40000}, {'v': 14591585.0, 'vw': 4.1706, 'o': 4.12, 'c': 4.05, 'h': 4.32, 'l': 4.025, 't': 1706677200000, 'n': 52219}, {'v': 10616884.0, 'vw': 4.0689, 'o': 4.1, 'c': 4.06, 'h': 4.15, 'l': 4.02, 't': 1706763600000, 'n': 42843}, {'v': 12933902.0, 'vw': 3.9877, 'o': 4.04, 'c': 4.01, 'h': 4.055, 'l': 3.93, 't': 1706850000000, 'n': 57140}, {'v': 19878639.0, 'vw': 3.7157, 'o': 3.97, 'c': 3.67, 'h': 3.98, 'l': 3.6, 't': 1707109200000, 'n': 86167}, {'v': 20769154.0, 'vw': 3.9614, 'o': 3.65, 'c': 4.07, 'h': 4.16, 'l': 3.585, 't': 1707195600000, 'n': 80014}, {'v': 13338831.0, 'vw': 3.9507, 'o': 4.08, 'c': 3.94, 'h': 4.08, 'l': 3.84, 't': 1707282000000, 'n': 49559}, {'v': 10763947.0, 'vw': 4.0814, 'o': 3.98, 'c': 4.09, 'h': 4.16, 'l': 3.94, 't': 1707368400000, 'n': 40582}, {'v': 19574091.0, 'vw': 4.3351, 'o': 4.15, 'c': 4.38, 'h': 4.49, 'l': 4.1013, 't': 1707454800000, 'n': 65374}, {'v': 15646920.0, 'vw': 4.5849, 'o': 4.38, 'c': 4.56, 'h': 4.72, 'l': 4.31, 't': 1707714000000, 'n': 64111}, {'v': 12040689.0, 'vw': 4.473, 'o': 4.37, 'c': 4.49, 'h': 4.675, 'l': 4.265, 't': 1707800400000, 'n': 54893}, {'v': 13270834.0, 'vw': 4.6802, 'o': 4.62, 'c': 4.8, 'h': 4.87, 'l': 4.47, 't': 1707886800000, 'n': 54259}, {'v': 12504550.0, 'vw': 4.888, 'o': 4.8, 'c': 4.89, 'h': 5.05, 'l': 4.7629, 't': 1707973200000, 'n': 55792}, {'v': 10243206.0, 'vw': 4.8025, 'o': 4.77, 'c': 4.83, 'h': 4.95, 'l': 4.62, 't': 1708059600000, 'n': 45744}, {'v': 9115678.0, 'vw': 4.6657, 'o': 4.76, 'c': 4.66, 'h': 4.8063, 'l': 4.5501, 't': 1708405200000, 'n': 43612}, {'v': 8125596.0, 'vw': 4.6209, 'o': 4.59, 'c': 4.57, 'h': 4.815, 'l': 4.51, 't': 1708491600000, 'n': 37202}, {'v': 9668410.0, 'vw': 4.4632, 'o': 4.66, 'c': 4.42, 'h': 4.69, 'l': 4.36, 't': 1708578000000, 'n': 47109}, {'v': 9598604.0, 'vw': 4.4231, 'o': 4.39, 'c': 4.44, 'h': 4.54, 'l': 4.28, 't': 1708664400000, 'n': 42455}, {'v': 10444100.0, 'vw': 4.5096, 'o': 4.46, 'c': 4.45, 'h': 4.6101, 'l': 4.37, 't': 1708923600000, 'n': 48053}, {'v': 17026495.0, 'vw': 4.7044, 'o': 4.49, 'c': 4.81, 'h': 4.85, 'l': 4.485, 't': 1709010000000, 'n': 61629}, {'v': 28664110.0, 'vw': 4.8706, 'o': 4.93, 'c': 4.99, 'h': 5.1, 'l': 4.75, 't': 1709096400000, 'n': 103041}, {'v': 28656073.0, 'vw': 4.4099, 'o': 4.46, 'c': 4.32, 'h': 4.75, 'l': 4.22, 't': 1709182800000, 'n': 101227}, {'v': 12695472.0, 'vw': 4.3796, 'o': 4.34, 'c': 4.36, 'h': 4.5, 'l': 4.23, 't': 1709269200000, 'n': 50434}, {'v': 14610482.0, 'vw': 4.2791, 'o': 4.36, 'c': 4.32, 'h': 4.39, 'l': 4.12, 't': 1709528400000, 'n': 70558}, {'v': 13744893.0, 'vw': 4.413, 'o': 4.23, 'c': 4.5, 'h': 4.55, 'l': 4.21, 't': 1709614800000, 'n': 58614}, {'v': 12789174.0, 'vw': 4.5436, 'o': 4.52, 'c': 4.56, 'h': 4.69, 'l': 4.4007, 't': 1709701200000, 'n': 53388}, {'v': 19618810.0, 'vw': 4.6674, 'o': 4.6, 'c': 4.6, 'h': 4.9, 'l': 4.52, 't': 1709787600000, 'n': 77483}, {'v': 17507601.0, 'vw': 4.442, 'o': 4.68, 'c': 4.3, 'h': 4.78, 'l': 4.24, 't': 1709874000000, 'n': 61065}, {'v': 12463047.0, 'vw': 4.3972, 'o': 4.3, 'c': 4.36, 'h': 4.5, 'l': 4.25, 't': 1710129600000, 'n': 48319}, {'v': 7131875.0, 'vw': 4.327, 'o': 4.38, 'c': 4.34, 'h': 4.41, 'l': 4.27, 't': 1710216000000, 'n': 35758}, {'v': 8553919.0, 'vw': 4.3737, 'o': 4.32, 'c': 4.36, 'h': 4.45, 'l': 4.3, 't': 1710302400000, 'n': 36412}, {'v': 9477880.0, 'vw': 4.2594, 'o': 4.37, 'c': 4.27, 'h': 4.38, 'l': 4.17, 't': 1710388800000, 'n': 42499}, {'v': 17770873.0, 'vw': 4.4305, 'o': 4.2, 'c': 4.44, 'h': 4.54, 'l': 4.2, 't': 1710475200000, 'n': 51756}, {'v': 8581303.0, 'vw': 4.4169, 'o': 4.43, 'c': 4.39, 'h': 4.49, 'l': 4.36, 't': 1710734400000, 'n': 38883}, {'v': 8181242.0, 'vw': 4.2936, 'o': 4.35, 'c': 4.27, 'h': 4.41, 'l': 4.24, 't': 1710820800000, 'n': 34374}, {'v': 8398335.0, 'vw': 4.2162, 'o': 4.25, 'c': 4.25, 'h': 4.28, 'l': 4.15, 't': 1710907200000, 'n': 38223}, {'v': 7592106.0, 'vw': 4.2179, 'o': 4.25, 'c': 4.2, 'h': 4.3, 'l': 4.15, 't': 1710993600000, 'n': 36553}, {'v': 7325477.0, 'vw': 4.0937, 'o': 4.17, 'c': 4.08, 'h': 4.18, 'l': 4.06, 't': 1711080000000, 'n': 39873}, {'v': 8252161.0, 'vw': 4.1138, 'o': 4.11, 'c': 4.09, 'h': 4.24, 'l': 4.06, 't': 1711339200000, 'n': 38153}, {'v': 13948728.0, 'vw': 4.17, 'o': 4.14, 'c': 4.07, 'h': 4.3, 'l': 4.06, 't': 1711425600000, 'n': 48913}, {'v': 12992367.0, 'vw': 4.2394, 'o': 4.13, 'c': 4.34, 'h': 4.37, 'l': 4.07, 't': 1711512000000, 'n': 45833}, {'v': 44200801.0, 'vw': 3.7499, 'o': 3.84, 'c': 3.72, 'h': 3.96, 'l': 3.65, 't': 1711598400000, 'n': 148433}, {'v': 46101718.0, 'vw': 3.3398, 'o': 3.74, 'c': 3.14, 'h': 3.77, 'l': 3.12, 't': 1711944000000, 'n': 133639}, {'v': 19691354.0, 'vw': 3.139, 'o': 3.18, 'c': 3.1, 'h': 3.21, 'l': 3.06, 't': 1712030400000, 'n': 70659}, {'v': 22202871.0, 'vw': 3.0202, 'o': 3.12, 'c': 3.02, 'h': 3.12, 'l': 2.935, 't': 1712116800000, 'n': 80183}, {'v': 16686821.0, 'vw': 3.0406, 'o': 3.02, 'c': 3, 'h': 3.15, 'l': 2.98, 't': 1712203200000, 'n': 53970}, {'v': 11341102.0, 'vw': 3.009, 'o': 3.01, 'c': 3.01, 'h': 3.05, 'l': 2.95, 't': 1712289600000, 'n': 44724}, {'v': 9716619.0, 'vw': 2.9853, 'o': 3.04, 'c': 2.95, 'h': 3.045, 'l': 2.95, 't': 1712548800000, 'n': 48631}, {'v': 9334024.0, 'vw': 2.9832, 'o': 2.97, 'c': 2.97, 'h': 3.015, 'l': 2.95, 't': 1712635200000, 'n': 39202}, {'v': 16257064.0, 'vw': 2.8337, 'o': 2.9, 'c': 2.83, 'h': 2.91, 'l': 2.77, 't': 1712721600000, 'n': 66441}, {'v': 15594644.0, 'vw': 2.7888, 'o': 2.89, 'c': 2.8, 'h': 2.89, 'l': 2.73, 't': 1712808000000, 'n': 63513}, {'v': 16726536.0, 'vw': 2.6858, 'o': 2.76, 'c': 2.65, 'h': 2.78, 'l': 2.61, 't': 1712894400000, 'n': 61572}, {'v': 16130017.0, 'vw': 2.5635, 'o': 2.67, 'c': 2.47, 'h': 2.68, 'l': 2.46, 't': 1713153600000, 'n': 55676}, {'v': 31327924.0, 'vw': 2.7089, 'o': 2.44, 'c': 2.72, 'h': 2.89, 'l': 2.38, 't': 1713240000000, 'n': 84932}, {'v': 25504026.0, 'vw': 2.9388, 'o': 2.94, 'c': 2.98, 'h': 3.03, 'l': 2.82, 't': 1713326400000, 'n': 79111}, {'v': 13960168.0, 'vw': 2.8817, 'o': 2.99, 'c': 2.92, 'h': 3, 'l': 2.76, 't': 1713412800000, 'n': 48670}, {'v': 28586587.0, 'vw': 3.1468, 'o': 2.89, 'c': 3.16, 'h': 3.3, 'l': 2.83, 't': 1713499200000, 'n': 80488}, {'v': 26989233.0, 'vw': 3.3042, 'o': 3.2, 'c': 3.42, 'h': 3.49, 'l': 3, 't': 1713758400000, 'n': 83180}, {'v': 16321360.0, 'vw': 3.461, 'o': 3.4, 'c': 3.39, 'h': 3.55, 'l': 3.36, 't': 1713844800000, 'n': 51668}, {'v': 13666069.0, 'vw': 3.3041, 'o': 3.38, 'c': 3.28, 'h': 3.5, 'l': 3.17, 't': 1713931200000, 'n': 46840}, {'v': 12503149.0, 'vw': 3.2049, 'o': 3.15, 'c': 3.28, 'h': 3.28, 'l': 3.1, 't': 1714017600000, 'n': 36581}, {'v': 15418263.0, 'vw': 3.4122, 'o': 3.28, 'c': 3.41, 'h': 3.49, 'l': 3.22, 't': 1714104000000, 'n': 46897}, {'v': 24362121.0, 'vw': 3.0752, 'o': 3.33, 'c': 3.03, 'h': 3.35, 'l': 2.96, 't': 1714363200000, 'n': 81018}, {'v': 9370030.0, 'vw': 2.9525, 'o': 3.02, 'c': 2.93, 'h': 3.03, 'l': 2.92, 't': 1714449600000, 'n': 42747}, {'v': 13312498.0, 'vw': 2.9543, 'o': 2.92, 'c': 2.97, 'h': 3.07, 'l': 2.835, 't': 1714536000000, 'n': 42590}, {'v': 16011296.0, 'vw': 3.0917, 'o': 3.04, 'c': 3.13, 'h': 3.22, 'l': 2.9711, 't': 1714622400000, 'n': 44297}, {'v': 35836301.0, 'vw': 3.2651, 'o': 3.15, 'c': 3.3, 'h': 3.39, 'l': 3.12, 't': 1714708800000, 'n': 80056}, {'v': 41044903.0, 'vw': 3.2313, 'o': 3.26, 'c': 3.29, 'h': 3.44, 'l': 3.04, 't': 1714968000000, 'n': 97035}, {'v': 23883907.0, 'vw': 3.1613, 'o': 3.27, 'c': 3.19, 'h': 3.27, 'l': 3.06, 't': 1715054400000, 'n': 59331}, {'v': 25466807.0, 'vw': 3.179, 'o': 3.15, 'c': 3.19, 'h': 3.27, 'l': 3.07, 't': 1715140800000, 'n': 61514}, {'v': 31667304.0, 'vw': 3.0265, 'o': 3.02, 'c': 3.05, 'h': 3.175, 'l': 2.91, 't': 1715227200000, 'n': 79596}, {'v': 24069709.0, 'vw': 3.0121, 'o': 3.06, 'c': 2.91, 'h': 3.185, 'l': 2.9, 't': 1715313600000, 'n': 62361}, {'v': 522623298.0, 'vw': 4.5165, 'o': 3.52, 'c': 5.19, 'h': 5.88, 'l': 3.16, 't': 1715572800000, 'n': 1446921}, {'v': 634227232.0, 'vw': 8.6525, 'o': 11.88, 'c': 6.85, 'h': 11.88, 'l': 5.85, 't': 1715659200000, 'n': 3230887}, {'v': 309580359.0, 'vw': 5.6819, 'o': 6.1, 'c': 5.48, 'h': 6.6, 'l': 4.71, 't': 1715745600000, 'n': 1236869}, {'v': 129501882.0, 'vw': 4.9, 'o': 5.05, 'c': 4.64, 'h': 5.3, 'l': 4.62, 't': 1715832000000, 'n': 452588}, {'v': 100445554.0, 'vw': 4.5556, 'o': 4.51, 'c': 4.4, 'h': 4.98, 'l': 4.32, 't': 1715918400000, 'n': 334003}, {'v': 84261168.0, 'vw': 4.5906, 'o': 4.35, 'c': 4.83, 'h': 4.93, 'l': 4.32, 't': 1716177600000, 'n': 269439}, {'v': 67248089.0, 'vw': 4.7828, 'o': 4.67, 'c': 4.65, 'h': 5.11, 'l': 4.6, 't': 1716264000000, 'n': 196339}, {'v': 62875225.0, 'vw': 4.8131, 'o': 4.64, 'c': 5.06, 'h': 5.23, 'l': 4.45, 't': 1716350400000, 'n': 182167}, {'v': 48253254.0, 'vw': 4.8718, 'o': 5, 'c': 4.55, 'h': 5.18, 'l': 4.55, 't': 1716436800000, 'n': 165334}, {'v': 41243170.0, 'vw': 4.8233, 'o': 4.66, 'c': 4.84, 'h': 4.95, 'l': 4.62, 't': 1716523200000, 'n': 125443}, {'v': 77858622.0, 'vw': 5.0063, 'o': 5.01, 'c': 4.88, 'h': 5.37, 'l': 4.66, 't': 1716868800000, 'n': 232364}, {'v': 40968565.0, 'vw': 4.5501, 'o': 4.76, 'c': 4.5, 'h': 4.78, 'l': 4.43, 't': 1716955200000, 'n': 119134}, {'v': 33052375.0, 'vw': 4.3067, 'o': 4.44, 'c': 4.23, 'h': 4.495, 'l': 4.225, 't': 1717041600000, 'n': 98482}, {'v': 29517281.0, 'vw': 4.224, 'o': 4.25, 'c': 4.33, 'h': 4.39, 'l': 4.1, 't': 1717128000000, 'n': 88459}, {'v': 139690526.0, 'vw': 5.0844, 'o': 5.44, 'c': 4.81, 'h': 5.7, 'l': 4.64, 't': 1717387200000, 'n': 571671}, {'v': 33712201.0, 'vw': 4.7602, 'o': 4.67, 'c': 4.79, 'h': 4.91, 'l': 4.57, 't': 1717473600000, 'n': 129173}, {'v': 61742646.0, 'vw': 5.0454, 'o': 4.71, 'c': 5.15, 'h': 5.31, 'l': 4.62, 't': 1717560000000, 'n': 191207}, {'v': 131091351.0, 'vw': 5.6676, 'o': 5.05, 'c': 5.79, 'h': 5.96, 'l': 4.97, 't': 1717646400000, 'n': 412990}, {'v': 157290321.0, 'vw': 5.3701, 'o': 5.3, 'c': 4.91, 'h': 5.94, 'l': 4.78, 't': 1717732800000, 'n': 639099}, {'v': 30729772.0, 'vw': 4.7364, 'o': 4.93, 'c': 4.71, 'h': 4.9791, 'l': 4.56, 't': 1717992000000, 'n': 127324}, {'v': 64375830.0, 'vw': 5.1565, 'o': 4.7, 'c': 5.22, 'h': 5.495, 'l': 4.63, 't': 1718078400000, 'n': 218602}, {'v': 45701416.0, 'vw': 5.1569, 'o': 5.13, 'c': 4.91, 'h': 5.445, 'l': 4.89, 't': 1718164800000, 'n': 164461}, {'v': 33604064.0, 'vw': 5.1817, 'o': 4.96, 'c': 5.2, 'h': 5.385, 'l': 4.94, 't': 1718251200000, 'n': 116823}, {'v': 33427162.0, 'vw': 5.1279, 'o': 5.18, 'c': 4.99, 'h': 5.53, 'l': 4.89, 't': 1718337600000, 'n': 122938}, {'v': 27869174.0, 'vw': 4.9439, 'o': 4.95, 'c': 4.89, 'h': 5.18, 'l': 4.74, 't': 1718596800000, 'n': 102545}, {'v': 18998003.0, 'vw': 4.8935, 'o': 4.81, 'c': 4.86, 'h': 5.07, 'l': 4.71, 't': 1718683200000, 'n': 73836}, {'v': 18315924.0, 'vw': 4.811, 'o': 4.82, 'c': 4.81, 'h': 4.98, 'l': 4.72, 't': 1718856000000, 'n': 64277}, {'v': 30329035.0, 'vw': 4.6359, 'o': 4.83, 'c': 4.55, 'h': 4.87, 'l': 4.47, 't': 1718942400000, 'n': 76352}, {'v': 15029720.0, 'vw': 4.5142, 'o': 4.49, 'c': 4.57, 'h': 4.58, 'l': 4.44, 't': 1719201600000, 'n': 56580}, {'v': 18788888.0, 'vw': 4.4382, 'o': 4.5, 'c': 4.53, 'h': 4.54, 'l': 4.33, 't': 1719288000000, 'n': 61000}, {'v': 17566022.0, 'vw': 4.5444, 'o': 4.48, 'c': 4.68, 'h': 4.69, 'l': 4.39, 't': 1719374400000, 'n': 55950}, {'v': 16376056.0, 'vw': 4.7424, 'o': 4.63, 'c': 4.78, 'h': 4.9, 'l': 4.61, 't': 1719460800000, 'n': 57052}, {'v': 45373042.0, 'vw': 4.9222, 'o': 4.72, 'c': 4.98, 'h': 4.99, 'l': 4.67, 't': 1719547200000, 'n': 59971}, {'v': 19104758.0, 'vw': 5.0248, 'o': 4.87, 'c': 5.04, 'h': 5.165, 'l': 4.825, 't': 1719806400000, 'n': 67355}, {'v': 24162922.0, 'vw': 5.2139, 'o': 5.02, 'c': 5.21, 'h': 5.36, 'l': 5, 't': 1719892800000, 'n': 77092}, {'v': 13782575.0, 'vw': 5.1162, 'o': 5.25, 'c': 5.03, 'h': 5.33, 'l': 4.95, 't': 1719979200000, 'n': 47956}, {'v': 10995871.0, 'vw': 5.046, 'o': 5.06, 'c': 5.05, 'h': 5.1562, 'l': 4.95, 't': 1720152000000, 'n': 46660}, {'v': 34763735.0, 'vw': 5.4377, 'o': 5.08, 'c': 5.47, 'h': 5.73, 'l': 5.075, 't': 1720411200000, 'n': 119594}, {'v': 15880857.0, 'vw': 5.4315, 'o': 5.43, 'c': 5.46, 'h': 5.57, 'l': 5.29, 't': 1720497600000, 'n': 54242}, {'v': 20709933.0, 'vw': 5.3884, 'o': 5.48, 'c': 5.21, 'h': 5.62, 'l': 5.16, 't': 1720584000000, 'n': 61858}, {'v': 15559504.0, 'vw': 5.2628, 'o': 5.26, 'c': 5.22, 'h': 5.44, 'l': 5.14, 't': 1720670400000, 'n': 51674}, {'v': 11742326.0, 'vw': 5.2548, 'o': 5.29, 'c': 5.26, 'h': 5.35, 'l': 5.18, 't': 1720756800000, 'n': 43078}, {'v': 13229372.0, 'vw': 5.3156, 'o': 5.27, 'c': 5.33, 'h': 5.42, 'l': 5.2, 't': 1721016000000, 'n': 46695}, {'v': 18243243.0, 'vw': 5.431, 'o': 5.4, 'c': 5.47, 'h': 5.54, 'l': 5.31, 't': 1721102400000, 'n': 51077}, {'v': 18886524.0, 'vw': 5.5047, 'o': 5.4, 'c': 5.42, 'h': 5.705, 'l': 5.36, 't': 1721188800000, 'n': 59293}, {'v': 17099546.0, 'vw': 5.2331, 'o': 5.43, 'c': 5.1, 'h': 5.46, 'l': 5.03, 't': 1721275200000, 'n': 56873}, {'v': 9390662.0, 'vw': 5.0443, 'o': 5.1, 'c': 5.01, 'h': 5.13, 'l': 4.96, 't': 1721361600000, 'n': 39310}, {'v': 37054641.0, 'vw': 5.2985, 'o': 5.08, 'c': 5.28, 'h': 5.76, 'l': 4.82, 't': 1721620800000, 'n': 128226}, {'v': 21872589.0, 'vw': 5.1191, 'o': 5.3, 'c': 5.08, 'h': 5.32, 'l': 5.02, 't': 1721707200000, 'n': 66919}, {'v': 23990642.0, 'vw': 4.7533, 'o': 5.04, 'c': 4.69, 'h': 5.1, 'l': 4.54, 't': 1721793600000, 'n': 92707}, {'v': 20049770.0, 'vw': 5.0171, 'o': 4.71, 'c': 5.14, 'h': 5.18, 'l': 4.66, 't': 1721880000000, 'n': 66216}, {'v': 17755874.0, 'vw': 5.2099, 'o': 5.15, 'c': 5.18, 'h': 5.29, 'l': 5.1, 't': 1721966400000, 'n': 48081}, {'v': 13690244.0, 'vw': 5.1978, 'o': 5.25, 'c': 5.17, 'h': 5.3, 'l': 5.11, 't': 1722225600000, 'n': 46776}, {'v': 13658903.0, 'vw': 5.2348, 'o': 5.16, 'c': 5.11, 'h': 5.34, 'l': 5.11, 't': 1722312000000, 'n': 41913}, {'v': 14787509.0, 'vw': 5.2939, 'o': 5.2, 'c': 5.31, 'h': 5.39, 'l': 5.17, 't': 1722398400000, 'n': 46893}, {'v': 13609610.0, 'vw': 5.2616, 'o': 5.3, 'c': 5.12, 'h': 5.435, 'l': 5.11, 't': 1722484800000, 'n': 46069}, {'v': 15912020.0, 'vw': 4.9863, 'o': 4.99, 'c': 4.94, 'h': 5.08, 'l': 4.89, 't': 1722571200000, 'n': 57143}, {'v': 20833500.0, 'vw': 4.8144, 'o': 4.41, 'c': 4.95, 'h': 5.12, 'l': 4.41, 't': 1722830400000, 'n': 79705}, {'v': 10783481.0, 'vw': 5.0481, 'o': 5.01, 'c': 5.08, 'h': 5.16, 'l': 4.93, 't': 1722916800000, 'n': 42010}, {'v': 14212281.0, 'vw': 4.9328, 'o': 5.12, 'c': 4.82, 'h': 5.21, 'l': 4.78, 't': 1723003200000, 'n': 49157}, {'v': 9506791.0, 'vw': 4.9835, 'o': 4.86, 'c': 5.08, 'h': 5.09, 'l': 4.8401, 't': 1723089600000, 'n': 33007}, {'v': 8073463.0, 'vw': 5.0423, 'o': 4.99, 'c': 5, 'h': 5.16, 'l': 4.97, 't': 1723176000000, 'n': 33482}, {'v': 10708608.0, 'vw': 5.0581, 'o': 5.05, 'c': 5.04, 'h': 5.18, 'l': 4.96, 't': 1723435200000, 'n': 33464}, {'v': 7773654.0, 'vw': 5.077, 'o': 5.05, 'c': 5.15, 'h': 5.16, 'l': 5.01, 't': 1723521600000, 'n': 26505}, {'v': 9267948.0, 'vw': 5.0895, 'o': 5.14, 'c': 5.12, 'h': 5.18, 'l': 4.98, 't': 1723608000000, 'n': 31787}, {'v': 9351825.0, 'vw': 5.123, 'o': 5.14, 'c': 5.13, 'h': 5.155, 'l': 5.09, 't': 1723694400000, 'n': 26853}, {'v': 9340590.0, 'vw': 5.0493, 'o': 5.1, 'c': 4.99, 'h': 5.15, 'l': 4.98, 't': 1723780800000, 'n': 33968}, {'v': 8796396.0, 'vw': 5.0285, 'o': 5.03, 'c': 5.01, 'h': 5.1, 'l': 4.975, 't': 1724040000000, 'n': 30364}, {'v': 5838330.0, 'vw': 4.9789, 'o': 5, 'c': 5, 'h': 5.02, 'l': 4.92, 't': 1724126400000, 'n': 25654}, {'v': 5322396.0, 'vw': 5.0153, 'o': 4.99, 'c': 5.01, 'h': 5.06, 'l': 4.98, 't': 1724212800000, 'n': 22544}, {'v': 6460303.0, 'vw': 4.9739, 'o': 5.01, 'c': 4.92, 'h': 5.05, 'l': 4.9, 't': 1724299200000, 'n': 27770}, {'v': 9168488.0, 'vw': 5.0251, 'o': 4.96, 'c': 5.05, 'h': 5.07, 'l': 4.93, 't': 1724385600000, 'n': 28028}, {'v': 11147059.0, 'vw': 5.1252, 'o': 5.08, 'c': 5.05, 'h': 5.25, 'l': 5.035, 't': 1724644800000, 'n': 37256}, {'v': 5229763.0, 'vw': 5.0388, 'o': 5.05, 'c': 4.99, 'h': 5.09, 'l': 4.99, 't': 1724731200000, 'n': 21568}, {'v': 10967554.0, 'vw': 4.8532, 'o': 4.99, 'c': 4.74, 'h': 5.0199, 'l': 4.71, 't': 1724817600000, 'n': 47205}, {'v': 7446209.0, 'vw': 4.8591, 'o': 4.91, 'c': 4.82, 'h': 4.955, 'l': 4.76, 't': 1724904000000, 'n': 29494}, {'v': 7649696.0, 'vw': 4.8432, 'o': 4.89, 'c': 4.82, 'h': 4.92, 'l': 4.79, 't': 1724990400000, 'n': 28715}, {'v': 9174391.0, 'vw': 4.732, 'o': 4.83, 'c': 4.63, 'h': 4.85, 'l': 4.63, 't': 1725336000000, 'n': 41726}, {'v': 5102049.0, 'vw': 4.7063, 'o': 4.63, 'c': 4.7, 'h': 4.78, 'l': 4.61, 't': 1725422400000, 'n': 27656}, {'v': 5399230.0, 'vw': 4.7534, 'o': 4.72, 'c': 4.73, 'h': 4.83, 'l': 4.685, 't': 1725508800000, 'n': 25779}, {'v': 12982881.0, 'vw': 4.8343, 'o': 4.74, 'c': 4.98, 'h': 4.98, 'l': 4.65, 't': 1725595200000, 'n': 45811}, {'v': 11287765.0, 'vw': 5.014, 'o': 4.88, 'c': 5.01, 'h': 5.11, 'l': 4.87, 't': 1725854400000, 'n': 46533}, {'v': 7748883.0, 'vw': 4.9387, 'o': 5.02, 'c': 4.95, 'h': 5.04, 'l': 4.87, 't': 1725940800000, 'n': 31979}, {'v': 7544146.0, 'vw': 4.8529, 'o': 4.87, 'c': 4.95, 'h': 4.975, 'l': 4.715, 't': 1726027200000, 'n': 31246}, {'v': 5778474.0, 'vw': 4.9569, 'o': 4.9, 'c': 4.9, 'h': 5.015, 'l': 4.8908, 't': 1726113600000, 'n': 25536}, {'v': 4764922.0, 'vw': 4.9534, 'o': 4.93, 'c': 4.96, 'h': 5.015, 'l': 4.9, 't': 1726200000000, 'n': 23446}, {'v': 7421438.0, 'vw': 4.908, 'o': 4.95, 'c': 4.85, 'h': 5.01, 'l': 4.85, 't': 1726459200000, 'n': 36521}, {'v': 6090673.0, 'vw': 4.8601, 'o': 4.9, 'c': 4.82, 'h': 4.95, 'l': 4.8, 't': 1726545600000, 'n': 27499}, {'v': 8337832.0, 'vw': 4.8069, 'o': 4.85, 'c': 4.78, 'h': 4.9, 'l': 4.75, 't': 1726632000000, 'n': 32516}, {'v': 10361728.0, 'vw': 4.7496, 'o': 4.87, 'c': 4.71, 'h': 4.895, 'l': 4.66, 't': 1726718400000, 'n': 37400}, {'v': 22834196.0, 'vw': 4.7226, 'o': 4.7, 'c': 4.76, 'h': 4.805, 'l': 4.635, 't': 1726804800000, 'n': 51257}, {'v': 12040627.0, 'vw': 4.6541, 'o': 4.72, 'c': 4.66, 'h': 4.72, 'l': 4.565, 't': 1727064000000, 'n': 44186}, {'v': 11813124.0, 'vw': 4.5788, 'o': 4.7, 'c': 4.52, 'h': 4.7, 'l': 4.51, 't': 1727150400000, 'n': 50524}, {'v': 12375763.0, 'vw': 4.4181, 'o': 4.51, 'c': 4.38, 'h': 4.52, 'l': 4.36, 't': 1727236800000, 'n': 54427}, {'v': 9008495.0, 'vw': 4.4758, 'o': 4.45, 'c': 4.54, 'h': 4.55, 'l': 4.39, 't': 1727323200000, 'n': 35939}, {'v': 7065874.0, 'vw': 4.5765, 'o': 4.55, 'c': 4.5, 'h': 4.66, 'l': 4.5, 't': 1727409600000, 'n': 27583}, {'v': 8974223.0, 'vw': 4.5842, 'o': 4.51, 'c': 4.55, 'h': 4.69, 'l': 4.4901, 't': 1727668800000, 'n': 33112}], 'status': 'OK', 'request_id': '05b896e283a7ddd860fa7f25aa6f2c22', 'count': 501}\n"
     ]
    }
   ],
   "source": [
    "# get AMC\n",
    "url = 'https://api.polygon.io/v2/aggs/ticker/AMC/range/1/day/2020-01-01/2024-09-30?adjusted=true&sort=asc&apiKey=EDzuZvt2GykLpYHVmg6TyHhgzY4Ed2Sy'\n",
    "r = requests.get(url)\n",
    "data = r.json()\n",
    "\n",
    "print(data)"
   ]
  },
  {
   "cell_type": "code",
   "execution_count": 43,
   "id": "3fdc6dda",
   "metadata": {},
   "outputs": [],
   "source": [
    "amc = pd.read_csv(\"AMC.csv\")"
   ]
  },
  {
   "cell_type": "code",
   "execution_count": null,
   "id": "da2ee371",
   "metadata": {},
   "outputs": [],
   "source": []
  },
  {
   "cell_type": "code",
   "execution_count": 44,
   "id": "0267b08f",
   "metadata": {
    "scrolled": true
   },
   "outputs": [
    {
     "data": {
      "text/plain": [
       "<AxesSubplot:xlabel='Date', ylabel='Close'>"
      ]
     },
     "execution_count": 44,
     "metadata": {},
     "output_type": "execute_result"
    },
    {
     "data": {
      "image/png": "[encoded data removed]",
      "text/plain": [
       "<Figure size 640x480 with 1 Axes>"
      ]
     },
     "metadata": {},
     "output_type": "display_data"
    },
    {
     "data": {
      "image/png": "[encoded data removed]",
      "text/plain": [
       "<Figure size 640x480 with 1 Axes>"
      ]
     },
     "metadata": {},
     "output_type": "display_data"
    }
   ],
   "source": [
    "result.plot.scatter(x ='Date', y= 'High', s=None, c=None)\n",
    "amc.plot.scatter(x ='Date', y= 'High', s=None, c=None)"
   ]
  },
  {
   "cell_type": "code",
   "execution_count": null,
   "id": "d789bff0",
   "metadata": {},
   "outputs": [],
   "source": []
  }
 ],
 "metadata": {
  "kernelspec": {
   "display_name": "Python 3 (ipykernel)",
   "language": "python",
   "name": "python3"
  },
  "language_info": {
   "codemirror_mode": {
    "name": "ipython",
    "version": 3
   },
   "file_extension": ".py",
   "mimetype": "text/x-python",
   "name": "python",
   "nbconvert_exporter": "python",
   "pygments_lexer": "ipython3",
   "version": "3.9.13"
  }
 },
 "nbformat": 4,
 "nbformat_minor": 5
}
