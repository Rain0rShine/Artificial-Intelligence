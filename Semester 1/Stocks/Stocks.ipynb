{
 "cells": [
  {
   "cell_type": "code",
   "execution_count": 1,
   "id": "22b52f7a",
   "metadata": {},
   "outputs": [],
   "source": [
    "import pandas as pd\n",
    "import seaborn as sns\n",
    "gme = pd.read_json('gme.json')"
   ]
  },
  {
   "cell_type": "code",
   "execution_count": 2,
   "id": "0e6096cd",
   "metadata": {},
   "outputs": [
    {
     "name": "stdout",
     "output_type": "stream",
     "text": [
      "<class 'pandas.core.frame.DataFrame'>\n",
      "RangeIndex: 5600 entries, 0 to 5599\n",
      "Data columns (total 7 columns):\n",
      " #   Column     Non-Null Count  Dtype         \n",
      "---  ------     --------------  -----         \n",
      " 0   Date       5600 non-null   datetime64[ns]\n",
      " 1   Open       5600 non-null   float64       \n",
      " 2   High       5600 non-null   float64       \n",
      " 3   Low        5600 non-null   float64       \n",
      " 4   Close      5600 non-null   float64       \n",
      " 5   Adj Close  5600 non-null   float64       \n",
      " 6   Volume     5600 non-null   int64         \n",
      "dtypes: datetime64[ns](1), float64(5), int64(1)\n",
      "memory usage: 306.4 KB\n"
     ]
    }
   ],
   "source": [
    "gme.info()"
   ]
  },
  {
   "cell_type": "markdown",
   "id": "ba417c4d",
   "metadata": {},
   "source": [
    "The variables in this data set are Date (The date that the stock’s behavior was observed.), Open (The price the stock sold for as soon as the markets opened.), High (The highest price the stock sold for on a particular day.), Low (The lowest price the stock sold for on a particular day.), Close (The price the stock sold for as soon as the markets closed.), Adj Close (The close price after all corporate actions of the day are accounted for (i.e. dividends, splitting, etc.).), and Volumn (The number of stocks traded (bought and sold) in a day.)"
   ]
  },
  {
   "cell_type": "code",
   "execution_count": 4,
   "id": "9adc99c3",
   "metadata": {},
   "outputs": [
    {
     "data": {
      "text/plain": [
       "4772"
      ]
     },
     "execution_count": 4,
     "metadata": {},
     "output_type": "execute_result"
    }
   ],
   "source": [
    "gme[\"High\"].idxmax()"
   ]
  },
  {
   "cell_type": "code",
   "execution_count": 7,
   "id": "e5019a88",
   "metadata": {},
   "outputs": [
    {
     "data": {
      "text/plain": [
       "Timestamp('2021-01-28 00:00:00')"
      ]
     },
     "execution_count": 7,
     "metadata": {},
     "output_type": "execute_result"
    }
   ],
   "source": [
    "gme[\"Date\"].loc[4772]"
   ]
  },
  {
   "cell_type": "code",
   "execution_count": 13,
   "id": "82535f84",
   "metadata": {},
   "outputs": [
    {
     "data": {
      "text/plain": [
       "12.83181743370786"
      ]
     },
     "execution_count": 13,
     "metadata": {},
     "output_type": "execute_result"
    }
   ],
   "source": [
    "count = 0\n",
    "total = 0\n",
    "for i in range(len(gme)):\n",
    "    if gme.loc[i]['Date'].month == 1:\n",
    "        avg  = gme.loc[i][\"High\"] +gme.loc[i][\"Low\"]/2\n",
    "        total += avg\n",
    "        count += 1\n",
    "total/count"
   ]
  },
  {
   "cell_type": "code",
   "execution_count": 25,
   "id": "9949472c",
   "metadata": {},
   "outputs": [
    {
     "data": {
      "text/plain": [
       "12.943749998922423"
      ]
     },
     "execution_count": 25,
     "metadata": {},
     "output_type": "execute_result"
    }
   ],
   "source": [
    "count = 0\n",
    "total = 0\n",
    "for i in range(len(gme)):\n",
    "    if gme.loc[i]['Date'].month == 12:\n",
    "        avg  = gme.loc[i][\"High\"] +gme.loc[i][\"Low\"]/2\n",
    "        total += avg\n",
    "        count += 1\n",
    "total/count"
   ]
  },
  {
   "cell_type": "code",
   "execution_count": null,
   "id": "d70ee874",
   "metadata": {},
   "outputs": [],
   "source": []
  }
 ],
 "metadata": {
  "kernelspec": {
   "display_name": "Python 3 (ipykernel)",
   "language": "python",
   "name": "python3"
  },
  "language_info": {
   "codemirror_mode": {
    "name": "ipython",
    "version": 3
   },
   "file_extension": ".py",
   "mimetype": "text/x-python",
   "name": "python",
   "nbconvert_exporter": "python",
   "pygments_lexer": "ipython3",
   "version": "3.9.13"
  }
 },
 "nbformat": 4,
 "nbformat_minor": 5
}
