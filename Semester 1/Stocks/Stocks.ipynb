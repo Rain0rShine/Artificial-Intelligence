{
 "cells": [
  {
   "cell_type": "code",
   "execution_count": 26,
   "id": "e8940f82",
   "metadata": {},
   "outputs": [],
   "source": [
    "import pandas as pd\n",
    "import seaborn as sns\n",
    "import numpy as np\n",
    "import requests\n",
    "gme = pd.read_json('gme.json')"
   ]
  },
  {
   "cell_type": "code",
   "execution_count": 2,
   "id": "25c39529",
   "metadata": {},
   "outputs": [
    {
     "name": "stdout",
     "output_type": "stream",
     "text": [
      "<class 'pandas.core.frame.DataFrame'>\n",
      "RangeIndex: 5600 entries, 0 to 5599\n",
      "Data columns (total 7 columns):\n",
      " #   Column     Non-Null Count  Dtype         \n",
      "---  ------     --------------  -----         \n",
      " 0   Date       5600 non-null   datetime64[ns]\n",
      " 1   Open       5600 non-null   float64       \n",
      " 2   High       5600 non-null   float64       \n",
      " 3   Low        5600 non-null   float64       \n",
      " 4   Close      5600 non-null   float64       \n",
      " 5   Adj Close  5600 non-null   float64       \n",
      " 6   Volume     5600 non-null   int64         \n",
      "dtypes: datetime64[ns](1), float64(5), int64(1)\n",
      "memory usage: 306.4 KB\n"
     ]
    }
   ],
   "source": [
    "gme.info()"
   ]
  },
  {
   "cell_type": "markdown",
   "id": "f51bbff4",
   "metadata": {},
   "source": [
    "The variables in this data set are Date (The date that the stock’s behavior was observed.), Open (The price the stock sold for as soon as the markets opened.), High (The highest price the stock sold for on a particular day.), Low (The lowest price the stock sold for on a particular day.), Close (The price the stock sold for as soon as the markets closed.), Adj Close (The close price after all corporate actions of the day are accounted for (i.e. dividends, splitting, etc.).), and Volume (The number of stocks traded (bought and sold) in a day.)"
   ]
  },
  {
   "cell_type": "code",
   "execution_count": 3,
   "id": "399fa608",
   "metadata": {},
   "outputs": [
    {
     "data": {
      "text/plain": [
       "4772"
      ]
     },
     "execution_count": 3,
     "metadata": {},
     "output_type": "execute_result"
    }
   ],
   "source": [
    "gme[\"High\"].idxmax()"
   ]
  },
  {
   "cell_type": "code",
   "execution_count": 4,
   "id": "19c0e899",
   "metadata": {},
   "outputs": [
    {
     "data": {
      "text/plain": [
       "Timestamp('2021-01-28 00:00:00')"
      ]
     },
     "execution_count": 4,
     "metadata": {},
     "output_type": "execute_result"
    }
   ],
   "source": [
    "gme[\"Date\"].loc[4772]"
   ]
  },
  {
   "cell_type": "code",
   "execution_count": 5,
   "id": "421a8063",
   "metadata": {},
   "outputs": [
    {
     "data": {
      "text/plain": [
       "12.83181743370786"
      ]
     },
     "execution_count": 5,
     "metadata": {},
     "output_type": "execute_result"
    }
   ],
   "source": [
    "count = 0\n",
    "total = 0\n",
    "for i in range(len(gme)):\n",
    "    if gme.loc[i]['Date'].month == 1:\n",
    "        avg  = gme.loc[i][\"High\"] +gme.loc[i][\"Low\"]/2\n",
    "        total += avg\n",
    "        count += 1\n",
    "total/count"
   ]
  },
  {
   "cell_type": "code",
   "execution_count": 6,
   "id": "06c1b1b4",
   "metadata": {},
   "outputs": [
    {
     "data": {
      "text/plain": [
       "14.33493130818966"
      ]
     },
     "execution_count": 6,
     "metadata": {},
     "output_type": "execute_result"
    }
   ],
   "source": [
    "count = 0\n",
    "total = 0\n",
    "for i in range(len(gme)):\n",
    "    if gme.loc[i]['Date'].month == 7:\n",
    "        avg  = gme.loc[i][\"High\"] +gme.loc[i][\"Low\"]/2\n",
    "        total += avg\n",
    "        count += 1\n",
    "total/count"
   ]
  },
  {
   "cell_type": "code",
   "execution_count": 7,
   "id": "9856b30f",
   "metadata": {},
   "outputs": [
    {
     "data": {
      "text/plain": [
       "<AxesSubplot:xlabel='Low', ylabel='Volume'>"
      ]
     },
     "execution_count": 7,
     "metadata": {},
     "output_type": "execute_result"
    },
    {
     "data": {
      "image/png": "[encoded data removed]",
      "text/plain": [
       "<Figure size 640x480 with 1 Axes>"
      ]
     },
     "metadata": {},
     "output_type": "display_data"
    }
   ],
   "source": [
    "gme.plot.scatter(x ='Low', y= 'Volume', s=None, c=None)"
   ]
  },
  {
   "cell_type": "code",
   "execution_count": 8,
   "id": "7773e6a4",
   "metadata": {},
   "outputs": [
    {
     "data": {
      "text/plain": [
       "0.10259646883179024"
      ]
     },
     "execution_count": 8,
     "metadata": {},
     "output_type": "execute_result"
    }
   ],
   "source": [
    "gme['Volume'].corr(gme['Low'])"
   ]
  },
  {
   "cell_type": "code",
   "execution_count": 9,
   "id": "a7fd1a33",
   "metadata": {},
   "outputs": [
    {
     "ename": "SyntaxError",
     "evalue": "invalid syntax (3904828016.py, line 4)",
     "output_type": "error",
     "traceback": [
      "\u001b[1;36m  File \u001b[1;32m\"C:\\Users\\enichol\\AppData\\Local\\Temp\\ipykernel_29968\\3904828016.py\"\u001b[1;36m, line \u001b[1;32m4\u001b[0m\n\u001b[1;33m    if gme.loc[i]['Date'].days == :\u001b[0m\n\u001b[1;37m                                  ^\u001b[0m\n\u001b[1;31mSyntaxError\u001b[0m\u001b[1;31m:\u001b[0m invalid syntax\n"
     ]
    }
   ],
   "source": [
    "dateAsNum = gme['Date']\n",
    "day = 0\n",
    "for i in range(len(gme)):\n",
    "    if gme.loc[i]['Date'].days == :\n",
    "        \n",
    "gme.loc[i] = day"
   ]
  },
  {
   "cell_type": "code",
   "execution_count": null,
   "id": "36324da1",
   "metadata": {},
   "outputs": [],
   "source": [
    "sns.scatterplot(data= gme, x=\"Date\", y=\"High\")"
   ]
  },
  {
   "cell_type": "code",
   "execution_count": null,
   "id": "43d0c927",
   "metadata": {},
   "outputs": [],
   "source": [
    "gme['Date'].corr(gme['High'])"
   ]
  },
  {
   "cell_type": "code",
   "execution_count": null,
   "id": "adf0cf28",
   "metadata": {},
   "outputs": [],
   "source": [
    "log_high = np.log(gme[\"High\"])\n",
    "gme[\"Log High\"] = log_high"
   ]
  },
  {
   "cell_type": "code",
   "execution_count": null,
   "id": "fc887b5f",
   "metadata": {},
   "outputs": [],
   "source": [
    "gme['numeric_time'] = pd.to_datetime(gme['Date']).astype('int64') // 10**9  # Converts to seconds since epoch\n",
    "\n",
    "# Now you can calculate the Pearson correlation between 'numeric_time' and another variable\n",
    "correlation = gme['numeric_time'].corr(gme['Log High'])"
   ]
  },
  {
   "cell_type": "code",
   "execution_count": 10,
   "id": "bc4f838d",
   "metadata": {},
   "outputs": [],
   "source": [
    "tsla = pd.read_json('tsla.json')"
   ]
  },
  {
   "cell_type": "code",
   "execution_count": 11,
   "id": "910ee193",
   "metadata": {},
   "outputs": [
    {
     "name": "stdout",
     "output_type": "stream",
     "text": [
      "<class 'pandas.core.frame.DataFrame'>\n",
      "RangeIndex: 2516 entries, 0 to 2515\n",
      "Data columns (total 20 columns):\n",
      " #   Column          Non-Null Count  Dtype         \n",
      "---  ------          --------------  -----         \n",
      " 0   date            2516 non-null   datetime64[ns]\n",
      " 1   open            2516 non-null   float64       \n",
      " 2   high            2516 non-null   float64       \n",
      " 3   low             2516 non-null   float64       \n",
      " 4   close           2516 non-null   float64       \n",
      " 5   volume          2516 non-null   int64         \n",
      " 6   rsi_7           2516 non-null   float64       \n",
      " 7   rsi_14          2516 non-null   float64       \n",
      " 8   cci_7           2516 non-null   float64       \n",
      " 9   cci_14          2516 non-null   float64       \n",
      " 10  sma_50          2516 non-null   float64       \n",
      " 11  ema_50          2516 non-null   float64       \n",
      " 12  sma_100         2516 non-null   float64       \n",
      " 13  ema_100         2516 non-null   float64       \n",
      " 14  macd            2516 non-null   float64       \n",
      " 15  bollinger       2516 non-null   float64       \n",
      " 16  TrueRange       2516 non-null   float64       \n",
      " 17  atr_7           2516 non-null   float64       \n",
      " 18  atr_14          2516 non-null   float64       \n",
      " 19  next_day_close  2516 non-null   float64       \n",
      "dtypes: datetime64[ns](1), float64(18), int64(1)\n",
      "memory usage: 393.2 KB\n"
     ]
    }
   ],
   "source": [
    "tsla.info()"
   ]
  },
  {
   "cell_type": "code",
   "execution_count": 12,
   "id": "307dd347",
   "metadata": {},
   "outputs": [
    {
     "data": {
      "text/plain": [
       "<AxesSubplot:xlabel='open', ylabel='close'>"
      ]
     },
     "execution_count": 12,
     "metadata": {},
     "output_type": "execute_result"
    },
    {
     "data": {
      "image/png": "[encoded data removed]",
      "text/plain": [
       "<Figure size 640x480 with 1 Axes>"
      ]
     },
     "metadata": {},
     "output_type": "display_data"
    }
   ],
   "source": [
    "tsla.plot.scatter(x ='open', y= 'close', s=None, c=None)"
   ]
  },
  {
   "cell_type": "code",
   "execution_count": 13,
   "id": "8c2b5ccd",
   "metadata": {},
   "outputs": [
    {
     "data": {
      "text/plain": [
       "0.9990807450500195"
      ]
     },
     "execution_count": 13,
     "metadata": {},
     "output_type": "execute_result"
    }
   ],
   "source": [
    "tsla['open'].corr(tsla['close'])"
   ]
  },
  {
   "cell_type": "code",
   "execution_count": 16,
   "id": "4c252332",
   "metadata": {},
   "outputs": [
    {
     "data": {
      "text/plain": [
       "Date         2024-05-13 00:00:00\n",
       "Open                       26.34\n",
       "High                   38.200001\n",
       "Low                        24.77\n",
       "Close                  30.450001\n",
       "Adj Close              30.450001\n",
       "Volume                 182308700\n",
       "Name: 5599, dtype: object"
      ]
     },
     "execution_count": 16,
     "metadata": {},
     "output_type": "execute_result"
    }
   ],
   "source": [
    "gme.loc[gme[\"Date\"].idxmax()]"
   ]
  },
  {
   "cell_type": "code",
   "execution_count": 21,
   "id": "aa0cc0ee",
   "metadata": {},
   "outputs": [
    {
     "data": {
      "text/plain": [
       "Date         2002-02-13 00:00:00\n",
       "Open                     2.40625\n",
       "High                       2.515\n",
       "Low                      2.38125\n",
       "Close                     2.5125\n",
       "Adj Close               1.691666\n",
       "Volume                  76216000\n",
       "Name: 0, dtype: object"
      ]
     },
     "execution_count": 21,
     "metadata": {},
     "output_type": "execute_result"
    }
   ],
   "source": [
    "gme.loc[gme[\"Date\"].idxmin()]"
   ]
  },
  {
   "cell_type": "code",
   "execution_count": 20,
   "id": "d2d04a56",
   "metadata": {},
   "outputs": [
    {
     "name": "stdout",
     "output_type": "stream",
     "text": [
      "252\n"
     ]
    }
   ],
   "source": [
    "count = 0\n",
    "for i in range(len(gme)):\n",
    "    if gme.loc[i]['Date'].year == 2019:\n",
    "        count += 1\n",
    "print(count)"
   ]
  },
  {
   "cell_type": "code",
   "execution_count": 24,
   "id": "16e8b96f",
   "metadata": {},
   "outputs": [
    {
     "ename": "AttributeError",
     "evalue": "'Series' object has no attribute 'year'",
     "output_type": "error",
     "traceback": [
      "\u001b[1;31m---------------------------------------------------------------------------\u001b[0m",
      "\u001b[1;31mAttributeError\u001b[0m                            Traceback (most recent call last)",
      "\u001b[1;32m~\\AppData\\Local\\Temp\\ipykernel_29968\\3331050225.py\u001b[0m in \u001b[0;36m<module>\u001b[1;34m\u001b[0m\n\u001b[1;32m----> 1\u001b[1;33m \u001b[1;32mfor\u001b[0m \u001b[0mj\u001b[0m \u001b[1;32min\u001b[0m \u001b[0mrange\u001b[0m\u001b[1;33m(\u001b[0m\u001b[0mlen\u001b[0m\u001b[1;33m(\u001b[0m\u001b[0mgme\u001b[0m\u001b[1;33m[\u001b[0m\u001b[1;34m'Date'\u001b[0m\u001b[1;33m]\u001b[0m\u001b[1;33m.\u001b[0m\u001b[0myear\u001b[0m\u001b[1;33m)\u001b[0m\u001b[1;33m)\u001b[0m\u001b[1;33m:\u001b[0m\u001b[1;33m\u001b[0m\u001b[1;33m\u001b[0m\u001b[0m\n\u001b[0m\u001b[0;32m      2\u001b[0m     \u001b[1;32mfor\u001b[0m \u001b[0mi\u001b[0m \u001b[1;32min\u001b[0m \u001b[0mrange\u001b[0m\u001b[1;33m(\u001b[0m\u001b[0mlen\u001b[0m\u001b[1;33m(\u001b[0m\u001b[0mgme\u001b[0m\u001b[1;33m)\u001b[0m\u001b[1;33m)\u001b[0m\u001b[1;33m:\u001b[0m\u001b[1;33m\u001b[0m\u001b[1;33m\u001b[0m\u001b[0m\n\u001b[0;32m      3\u001b[0m         \u001b[1;32mif\u001b[0m \u001b[0mgme\u001b[0m\u001b[1;33m.\u001b[0m\u001b[0mloc\u001b[0m\u001b[1;33m[\u001b[0m\u001b[0mi\u001b[0m\u001b[1;33m]\u001b[0m\u001b[1;33m[\u001b[0m\u001b[1;34m'Date'\u001b[0m\u001b[1;33m]\u001b[0m\u001b[1;33m.\u001b[0m\u001b[0myear\u001b[0m \u001b[1;33m==\u001b[0m \u001b[0mj\u001b[0m\u001b[1;33m:\u001b[0m\u001b[1;33m\u001b[0m\u001b[1;33m\u001b[0m\u001b[0m\n\u001b[0;32m      4\u001b[0m             \u001b[0mcount\u001b[0m \u001b[1;33m+=\u001b[0m \u001b[1;36m1\u001b[0m\u001b[1;33m\u001b[0m\u001b[1;33m\u001b[0m\u001b[0m\n\u001b[0;32m      5\u001b[0m \u001b[0mprint\u001b[0m\u001b[1;33m(\u001b[0m\u001b[0mcount\u001b[0m\u001b[1;33m)\u001b[0m\u001b[1;33m\u001b[0m\u001b[1;33m\u001b[0m\u001b[0m\n",
      "\u001b[1;32mC:\\ProgramData\\Anaconda3\\lib\\site-packages\\pandas\\core\\generic.py\u001b[0m in \u001b[0;36m__getattr__\u001b[1;34m(self, name)\u001b[0m\n\u001b[0;32m   5573\u001b[0m         ):\n\u001b[0;32m   5574\u001b[0m             \u001b[1;32mreturn\u001b[0m \u001b[0mself\u001b[0m\u001b[1;33m[\u001b[0m\u001b[0mname\u001b[0m\u001b[1;33m]\u001b[0m\u001b[1;33m\u001b[0m\u001b[1;33m\u001b[0m\u001b[0m\n\u001b[1;32m-> 5575\u001b[1;33m         \u001b[1;32mreturn\u001b[0m \u001b[0mobject\u001b[0m\u001b[1;33m.\u001b[0m\u001b[0m__getattribute__\u001b[0m\u001b[1;33m(\u001b[0m\u001b[0mself\u001b[0m\u001b[1;33m,\u001b[0m \u001b[0mname\u001b[0m\u001b[1;33m)\u001b[0m\u001b[1;33m\u001b[0m\u001b[1;33m\u001b[0m\u001b[0m\n\u001b[0m\u001b[0;32m   5576\u001b[0m \u001b[1;33m\u001b[0m\u001b[0m\n\u001b[0;32m   5577\u001b[0m     \u001b[1;32mdef\u001b[0m \u001b[0m__setattr__\u001b[0m\u001b[1;33m(\u001b[0m\u001b[0mself\u001b[0m\u001b[1;33m,\u001b[0m \u001b[0mname\u001b[0m\u001b[1;33m:\u001b[0m \u001b[0mstr\u001b[0m\u001b[1;33m,\u001b[0m \u001b[0mvalue\u001b[0m\u001b[1;33m)\u001b[0m \u001b[1;33m->\u001b[0m \u001b[1;32mNone\u001b[0m\u001b[1;33m:\u001b[0m\u001b[1;33m\u001b[0m\u001b[1;33m\u001b[0m\u001b[0m\n",
      "\u001b[1;31mAttributeError\u001b[0m: 'Series' object has no attribute 'year'"
     ]
    }
   ],
   "source": [
    "for j in range(len(gme['Date'].year)):\n",
    "    for i in range(len(gme)):\n",
    "        if gme.loc[i]['Date'].year == j:\n",
    "            count += 1\n",
    "print(count)"
   ]
  },
  {
   "cell_type": "markdown",
   "id": "4520379e",
   "metadata": {},
   "source": [
    "Welcome to Alpha Vantage! Here is your API key: YTBRS0WG5ZQBLXOS. Please record this API key at a safe place for future data access."
   ]
  },
  {
   "cell_type": "code",
   "execution_count": 27,
   "id": "916367f4",
   "metadata": {},
   "outputs": [
    {
     "name": "stdout",
     "output_type": "stream",
     "text": [
      "{'Meta Data': {'1. Information': 'Intraday (5min) open, high, low, close prices and volume', '2. Symbol': 'GME', '3. Last Refreshed': '2024-09-26 19:55:00', '4. Interval': '5min', '5. Output Size': 'Compact', '6. Time Zone': 'US/Eastern'}, 'Time Series (5min)': {'2024-09-26 19:55:00': {'1. open': '22.1790', '2. high': '22.2000', '3. low': '22.1600', '4. close': '22.1999', '5. volume': '1337'}, '2024-09-26 19:50:00': {'1. open': '22.1501', '2. high': '22.1880', '3. low': '22.1500', '4. close': '22.1500', '5. volume': '874'}, '2024-09-26 19:45:00': {'1. open': '22.1400', '2. high': '22.1800', '3. low': '22.1275', '4. close': '22.1599', '5. volume': '234'}, '2024-09-26 19:40:00': {'1. open': '22.1300', '2. high': '22.1895', '3. low': '22.1000', '4. close': '22.1200', '5. volume': '1982'}, '2024-09-26 19:35:00': {'1. open': '22.1300', '2. high': '22.1400', '3. low': '22.1000', '4. close': '22.1300', '5. volume': '603'}, '2024-09-26 19:30:00': {'1. open': '22.1500', '2. high': '22.1600', '3. low': '22.1100', '4. close': '22.1400', '5. volume': '960'}, '2024-09-26 19:25:00': {'1. open': '22.1604', '2. high': '22.1800', '3. low': '22.1500', '4. close': '22.1500', '5. volume': '1102'}, '2024-09-26 19:20:00': {'1. open': '22.1800', '2. high': '22.1800', '3. low': '22.1509', '4. close': '22.1800', '5. volume': '776'}, '2024-09-26 19:15:00': {'1. open': '22.1800', '2. high': '22.1800', '3. low': '22.1540', '4. close': '22.1600', '5. volume': '22'}, '2024-09-26 19:10:00': {'1. open': '22.1800', '2. high': '22.1800', '3. low': '22.1500', '4. close': '22.1600', '5. volume': '314'}, '2024-09-26 19:05:00': {'1. open': '22.1900', '2. high': '22.1900', '3. low': '22.1600', '4. close': '22.1600', '5. volume': '3277'}, '2024-09-26 19:00:00': {'1. open': '22.2900', '2. high': '22.2900', '3. low': '22.1900', '4. close': '22.1900', '5. volume': '167573'}, '2024-09-26 18:55:00': {'1. open': '22.1900', '2. high': '22.2000', '3. low': '22.1900', '4. close': '22.1901', '5. volume': '1107'}, '2024-09-26 18:50:00': {'1. open': '22.1999', '2. high': '22.1999', '3. low': '22.1802', '4. close': '22.1900', '5. volume': '294'}, '2024-09-26 18:45:00': {'1. open': '22.1627', '2. high': '22.2000', '3. low': '22.1600', '4. close': '22.1900', '5. volume': '254'}, '2024-09-26 18:40:00': {'1. open': '22.1507', '2. high': '22.2000', '3. low': '22.1501', '4. close': '22.1999', '5. volume': '496'}, '2024-09-26 18:35:00': {'1. open': '22.1600', '2. high': '22.1900', '3. low': '22.1500', '4. close': '22.1600', '5. volume': '427'}, '2024-09-26 18:30:00': {'1. open': '22.2900', '2. high': '22.2900', '3. low': '22.1600', '4. close': '22.1600', '5. volume': '167459'}, '2024-09-26 18:25:00': {'1. open': '22.1600', '2. high': '22.1900', '3. low': '22.1600', '4. close': '22.1700', '5. volume': '172'}, '2024-09-26 18:20:00': {'1. open': '22.2000', '2. high': '22.2000', '3. low': '22.1002', '4. close': '22.1900', '5. volume': '319'}, '2024-09-26 18:15:00': {'1. open': '22.2000', '2. high': '22.2200', '3. low': '22.0922', '4. close': '22.2000', '5. volume': '658'}, '2024-09-26 18:10:00': {'1. open': '22.2200', '2. high': '22.2300', '3. low': '22.0000', '4. close': '22.2200', '5. volume': '7116'}, '2024-09-26 18:05:00': {'1. open': '22.2100', '2. high': '22.2200', '3. low': '22.2100', '4. close': '22.2100', '5. volume': '1093'}, '2024-09-26 18:00:00': {'1. open': '22.1900', '2. high': '22.2200', '3. low': '22.1800', '4. close': '22.2100', '5. volume': '456'}, '2024-09-26 17:55:00': {'1. open': '22.1800', '2. high': '22.2000', '3. low': '22.1336', '4. close': '22.2000', '5. volume': '953'}, '2024-09-26 17:50:00': {'1. open': '22.1900', '2. high': '22.2200', '3. low': '22.1800', '4. close': '22.2000', '5. volume': '2296'}, '2024-09-26 17:45:00': {'1. open': '22.1300', '2. high': '22.2000', '3. low': '22.1300', '4. close': '22.1850', '5. volume': '207'}, '2024-09-26 17:40:00': {'1. open': '22.1500', '2. high': '22.2200', '3. low': '22.1300', '4. close': '22.1600', '5. volume': '1218'}, '2024-09-26 17:35:00': {'1. open': '22.1400', '2. high': '22.1500', '3. low': '22.1200', '4. close': '22.1500', '5. volume': '537'}, '2024-09-26 17:30:00': {'1. open': '22.1400', '2. high': '22.1400', '3. low': '22.1200', '4. close': '22.1385', '5. volume': '621'}, '2024-09-26 17:25:00': {'1. open': '22.1400', '2. high': '22.1500', '3. low': '22.1400', '4. close': '22.1400', '5. volume': '303'}, '2024-09-26 17:20:00': {'1. open': '22.1200', '2. high': '22.1500', '3. low': '22.1200', '4. close': '22.1400', '5. volume': '404'}, '2024-09-26 17:15:00': {'1. open': '22.1400', '2. high': '22.1500', '3. low': '22.1200', '4. close': '22.1200', '5. volume': '2105'}, '2024-09-26 17:10:00': {'1. open': '22.1500', '2. high': '22.1500', '3. low': '22.1300', '4. close': '22.1400', '5. volume': '1812'}, '2024-09-26 17:05:00': {'1. open': '22.1500', '2. high': '22.1600', '3. low': '22.1400', '4. close': '22.1500', '5. volume': '1511'}, '2024-09-26 17:00:00': {'1. open': '22.1600', '2. high': '22.1600', '3. low': '22.1500', '4. close': '22.1500', '5. volume': '1232'}, '2024-09-26 16:55:00': {'1. open': '22.1600', '2. high': '22.1600', '3. low': '22.1500', '4. close': '22.1500', '5. volume': '1590'}, '2024-09-26 16:50:00': {'1. open': '22.1600', '2. high': '22.1600', '3. low': '22.1400', '4. close': '22.1500', '5. volume': '798'}, '2024-09-26 16:45:00': {'1. open': '22.1600', '2. high': '22.1700', '3. low': '22.1600', '4. close': '22.1600', '5. volume': '1871'}, '2024-09-26 16:40:00': {'1. open': '22.1699', '2. high': '22.1700', '3. low': '22.1600', '4. close': '22.1600', '5. volume': '1178'}, '2024-09-26 16:35:00': {'1. open': '22.1700', '2. high': '22.1700', '3. low': '22.1600', '4. close': '22.1601', '5. volume': '1024'}, '2024-09-26 16:30:00': {'1. open': '22.1700', '2. high': '22.1700', '3. low': '22.1600', '4. close': '22.1600', '5. volume': '398'}, '2024-09-26 16:25:00': {'1. open': '22.1700', '2. high': '22.1700', '3. low': '22.1500', '4. close': '22.1700', '5. volume': '3857'}, '2024-09-26 16:20:00': {'1. open': '22.2900', '2. high': '22.2900', '3. low': '22.1409', '4. close': '22.1500', '5. volume': '4957'}, '2024-09-26 16:15:00': {'1. open': '22.1900', '2. high': '22.1900', '3. low': '22.1500', '4. close': '22.1700', '5. volume': '8850'}, '2024-09-26 16:10:00': {'1. open': '22.2900', '2. high': '22.2900', '3. low': '22.1700', '4. close': '22.1899', '5. volume': '170531'}, '2024-09-26 16:05:00': {'1. open': '22.2500', '2. high': '22.2700', '3. low': '22.2200', '4. close': '22.2200', '5. volume': '5610'}, '2024-09-26 16:00:00': {'1. open': '22.2800', '2. high': '22.2900', '3. low': '22.2501', '4. close': '22.2501', '5. volume': '345415'}, '2024-09-26 15:55:00': {'1. open': '22.3050', '2. high': '22.3350', '3. low': '22.2350', '4. close': '22.2800', '5. volume': '282350'}, '2024-09-26 15:50:00': {'1. open': '22.2800', '2. high': '22.3150', '3. low': '22.2250', '4. close': '22.3100', '5. volume': '131255'}, '2024-09-26 15:45:00': {'1. open': '22.4250', '2. high': '22.4500', '3. low': '22.2500', '4. close': '22.2786', '5. volume': '178764'}, '2024-09-26 15:40:00': {'1. open': '22.3700', '2. high': '22.4350', '3. low': '22.3500', '4. close': '22.4297', '5. volume': '136630'}, '2024-09-26 15:35:00': {'1. open': '22.2700', '2. high': '22.4100', '3. low': '22.2700', '4. close': '22.3600', '5. volume': '188746'}, '2024-09-26 15:30:00': {'1. open': '22.1700', '2. high': '22.2700', '3. low': '22.1500', '4. close': '22.2650', '5. volume': '76504'}, '2024-09-26 15:25:00': {'1. open': '22.1100', '2. high': '22.2000', '3. low': '22.1000', '4. close': '22.1800', '5. volume': '63525'}, '2024-09-26 15:20:00': {'1. open': '22.1250', '2. high': '22.1300', '3. low': '22.1000', '4. close': '22.1050', '5. volume': '23395'}, '2024-09-26 15:15:00': {'1. open': '22.1200', '2. high': '22.1450', '3. low': '22.1100', '4. close': '22.1211', '5. volume': '31007'}, '2024-09-26 15:10:00': {'1. open': '22.1250', '2. high': '22.1500', '3. low': '22.1150', '4. close': '22.1295', '5. volume': '31590'}, '2024-09-26 15:05:00': {'1. open': '22.1490', '2. high': '22.1600', '3. low': '22.1009', '4. close': '22.1212', '5. volume': '22442'}, '2024-09-26 15:00:00': {'1. open': '22.1300', '2. high': '22.1500', '3. low': '22.1000', '4. close': '22.1463', '5. volume': '16422'}, '2024-09-26 14:55:00': {'1. open': '22.1408', '2. high': '22.1700', '3. low': '22.1400', '4. close': '22.1400', '5. volume': '35714'}, '2024-09-26 14:50:00': {'1. open': '22.1300', '2. high': '22.1599', '3. low': '22.1200', '4. close': '22.1462', '5. volume': '26274'}, '2024-09-26 14:45:00': {'1. open': '22.1000', '2. high': '22.1500', '3. low': '22.0993', '4. close': '22.1299', '5. volume': '23698'}, '2024-09-26 14:40:00': {'1. open': '22.1250', '2. high': '22.1300', '3. low': '22.0900', '4. close': '22.1100', '5. volume': '55493'}, '2024-09-26 14:35:00': {'1. open': '22.1050', '2. high': '22.1315', '3. low': '22.0700', '4. close': '22.1219', '5. volume': '29257'}, '2024-09-26 14:30:00': {'1. open': '22.1000', '2. high': '22.1400', '3. low': '22.1000', '4. close': '22.1100', '5. volume': '16125'}, '2024-09-26 14:25:00': {'1. open': '22.1150', '2. high': '22.1450', '3. low': '22.1100', '4. close': '22.1100', '5. volume': '15412'}, '2024-09-26 14:20:00': {'1. open': '22.1200', '2. high': '22.1200', '3. low': '22.0900', '4. close': '22.1150', '5. volume': '18768'}, '2024-09-26 14:15:00': {'1. open': '22.1200', '2. high': '22.1600', '3. low': '22.1100', '4. close': '22.1111', '5. volume': '18235'}, '2024-09-26 14:10:00': {'1. open': '22.1100', '2. high': '22.1600', '3. low': '22.1001', '4. close': '22.1147', '5. volume': '35361'}, '2024-09-26 14:05:00': {'1. open': '22.1860', '2. high': '22.1860', '3. low': '22.1099', '4. close': '22.1099', '5. volume': '17105'}, '2024-09-26 14:00:00': {'1. open': '22.1600', '2. high': '22.1907', '3. low': '22.1300', '4. close': '22.1907', '5. volume': '25280'}, '2024-09-26 13:55:00': {'1. open': '22.1367', '2. high': '22.1900', '3. low': '22.1367', '4. close': '22.1600', '5. volume': '44278'}, '2024-09-26 13:50:00': {'1. open': '22.1300', '2. high': '22.1400', '3. low': '22.1010', '4. close': '22.1300', '5. volume': '15496'}, '2024-09-26 13:45:00': {'1. open': '22.1300', '2. high': '22.1499', '3. low': '22.1100', '4. close': '22.1266', '5. volume': '28174'}, '2024-09-26 13:40:00': {'1. open': '22.1000', '2. high': '22.1314', '3. low': '22.1000', '4. close': '22.1184', '5. volume': '17867'}, '2024-09-26 13:35:00': {'1. open': '22.1255', '2. high': '22.1499', '3. low': '22.0911', '4. close': '22.1100', '5. volume': '27712'}, '2024-09-26 13:30:00': {'1. open': '22.1500', '2. high': '22.1500', '3. low': '22.1000', '4. close': '22.1299', '5. volume': '29360'}, '2024-09-26 13:25:00': {'1. open': '22.1000', '2. high': '22.1500', '3. low': '22.0900', '4. close': '22.1450', '5. volume': '21359'}, '2024-09-26 13:20:00': {'1. open': '22.0200', '2. high': '22.1000', '3. low': '22.0100', '4. close': '22.0831', '5. volume': '36295'}, '2024-09-26 13:15:00': {'1. open': '22.1000', '2. high': '22.1092', '3. low': '22.0200', '4. close': '22.0284', '5. volume': '39217'}, '2024-09-26 13:10:00': {'1. open': '22.0922', '2. high': '22.1400', '3. low': '22.0701', '4. close': '22.1000', '5. volume': '14610'}, '2024-09-26 13:05:00': {'1. open': '22.1544', '2. high': '22.1600', '3. low': '22.0850', '4. close': '22.0900', '5. volume': '37896'}, '2024-09-26 13:00:00': {'1. open': '22.0800', '2. high': '22.1600', '3. low': '22.0800', '4. close': '22.1500', '5. volume': '48232'}, '2024-09-26 12:55:00': {'1. open': '22.0800', '2. high': '22.1100', '3. low': '22.0600', '4. close': '22.0900', '5. volume': '64667'}, '2024-09-26 12:50:00': {'1. open': '22.1600', '2. high': '22.1700', '3. low': '22.0800', '4. close': '22.0899', '5. volume': '44162'}, '2024-09-26 12:45:00': {'1. open': '22.1700', '2. high': '22.2000', '3. low': '22.1600', '4. close': '22.1650', '5. volume': '22813'}, '2024-09-26 12:40:00': {'1. open': '22.1850', '2. high': '22.1850', '3. low': '22.1100', '4. close': '22.1750', '5. volume': '36818'}, '2024-09-26 12:35:00': {'1. open': '22.1750', '2. high': '22.1900', '3. low': '22.1600', '4. close': '22.1900', '5. volume': '18828'}, '2024-09-26 12:30:00': {'1. open': '22.2300', '2. high': '22.2300', '3. low': '22.1700', '4. close': '22.1800', '5. volume': '43521'}, '2024-09-26 12:25:00': {'1. open': '22.2601', '2. high': '22.2900', '3. low': '22.2200', '4. close': '22.2200', '5. volume': '22153'}, '2024-09-26 12:20:00': {'1. open': '22.3200', '2. high': '22.3253', '3. low': '22.2250', '4. close': '22.2650', '5. volume': '33699'}, '2024-09-26 12:15:00': {'1. open': '22.3500', '2. high': '22.3600', '3. low': '22.2912', '4. close': '22.3200', '5. volume': '27432'}, '2024-09-26 12:10:00': {'1. open': '22.3500', '2. high': '22.3800', '3. low': '22.3400', '4. close': '22.3550', '5. volume': '36917'}, '2024-09-26 12:05:00': {'1. open': '22.3300', '2. high': '22.4293', '3. low': '22.3300', '4. close': '22.3500', '5. volume': '62892'}, '2024-09-26 12:00:00': {'1. open': '22.3300', '2. high': '22.3498', '3. low': '22.2800', '4. close': '22.3250', '5. volume': '30555'}, '2024-09-26 11:55:00': {'1. open': '22.2900', '2. high': '22.3500', '3. low': '22.2600', '4. close': '22.3350', '5. volume': '34243'}, '2024-09-26 11:50:00': {'1. open': '22.2500', '2. high': '22.3200', '3. low': '22.2500', '4. close': '22.2850', '5. volume': '21062'}, '2024-09-26 11:45:00': {'1. open': '22.2801', '2. high': '22.3204', '3. low': '22.2412', '4. close': '22.2500', '5. volume': '30577'}, '2024-09-26 11:40:00': {'1. open': '22.2800', '2. high': '22.3000', '3. low': '22.2101', '4. close': '22.2814', '5. volume': '48461'}}}\n"
     ]
    }
   ],
   "source": [
    "url = 'https://www.alphavantage.co/query?function=TIME_SERIES_INTRADAY&symbol=GME&interval=5min&apikey=YTBRS0WG5ZQBLXOS'\n",
    "r = requests.get(url)\n",
    "data = r.json()\n",
    "\n",
    "print(data)"
   ]
  },
  {
   "cell_type": "code",
   "execution_count": 28,
   "id": "67358019",
   "metadata": {},
   "outputs": [
    {
     "data": {
      "text/html": [
       "<div>\n",
       "<style scoped>\n",
       "    .dataframe tbody tr th:only-of-type {\n",
       "        vertical-align: middle;\n",
       "    }\n",
       "\n",
       "    .dataframe tbody tr th {\n",
       "        vertical-align: top;\n",
       "    }\n",
       "\n",
       "    .dataframe thead th {\n",
       "        text-align: right;\n",
       "    }\n",
       "</style>\n",
       "<table border=\"1\" class=\"dataframe\">\n",
       "  <thead>\n",
       "    <tr style=\"text-align: right;\">\n",
       "      <th></th>\n",
       "      <th>2024-09-26 19:55:00</th>\n",
       "      <th>2024-09-26 19:50:00</th>\n",
       "      <th>2024-09-26 19:45:00</th>\n",
       "      <th>2024-09-26 19:40:00</th>\n",
       "      <th>2024-09-26 19:35:00</th>\n",
       "      <th>2024-09-26 19:30:00</th>\n",
       "      <th>2024-09-26 19:25:00</th>\n",
       "      <th>2024-09-26 19:20:00</th>\n",
       "      <th>2024-09-26 19:15:00</th>\n",
       "      <th>2024-09-26 19:10:00</th>\n",
       "      <th>...</th>\n",
       "      <th>2024-09-26 12:25:00</th>\n",
       "      <th>2024-09-26 12:20:00</th>\n",
       "      <th>2024-09-26 12:15:00</th>\n",
       "      <th>2024-09-26 12:10:00</th>\n",
       "      <th>2024-09-26 12:05:00</th>\n",
       "      <th>2024-09-26 12:00:00</th>\n",
       "      <th>2024-09-26 11:55:00</th>\n",
       "      <th>2024-09-26 11:50:00</th>\n",
       "      <th>2024-09-26 11:45:00</th>\n",
       "      <th>2024-09-26 11:40:00</th>\n",
       "    </tr>\n",
       "  </thead>\n",
       "  <tbody>\n",
       "    <tr>\n",
       "      <th>1. open</th>\n",
       "      <td>22.1790</td>\n",
       "      <td>22.1501</td>\n",
       "      <td>22.1400</td>\n",
       "      <td>22.1300</td>\n",
       "      <td>22.1300</td>\n",
       "      <td>22.1500</td>\n",
       "      <td>22.1604</td>\n",
       "      <td>22.1800</td>\n",
       "      <td>22.1800</td>\n",
       "      <td>22.1800</td>\n",
       "      <td>...</td>\n",
       "      <td>22.2601</td>\n",
       "      <td>22.3200</td>\n",
       "      <td>22.3500</td>\n",
       "      <td>22.3500</td>\n",
       "      <td>22.3300</td>\n",
       "      <td>22.3300</td>\n",
       "      <td>22.2900</td>\n",
       "      <td>22.2500</td>\n",
       "      <td>22.2801</td>\n",
       "      <td>22.2800</td>\n",
       "    </tr>\n",
       "    <tr>\n",
       "      <th>2. high</th>\n",
       "      <td>22.2000</td>\n",
       "      <td>22.1880</td>\n",
       "      <td>22.1800</td>\n",
       "      <td>22.1895</td>\n",
       "      <td>22.1400</td>\n",
       "      <td>22.1600</td>\n",
       "      <td>22.1800</td>\n",
       "      <td>22.1800</td>\n",
       "      <td>22.1800</td>\n",
       "      <td>22.1800</td>\n",
       "      <td>...</td>\n",
       "      <td>22.2900</td>\n",
       "      <td>22.3253</td>\n",
       "      <td>22.3600</td>\n",
       "      <td>22.3800</td>\n",
       "      <td>22.4293</td>\n",
       "      <td>22.3498</td>\n",
       "      <td>22.3500</td>\n",
       "      <td>22.3200</td>\n",
       "      <td>22.3204</td>\n",
       "      <td>22.3000</td>\n",
       "    </tr>\n",
       "    <tr>\n",
       "      <th>3. low</th>\n",
       "      <td>22.1600</td>\n",
       "      <td>22.1500</td>\n",
       "      <td>22.1275</td>\n",
       "      <td>22.1000</td>\n",
       "      <td>22.1000</td>\n",
       "      <td>22.1100</td>\n",
       "      <td>22.1500</td>\n",
       "      <td>22.1509</td>\n",
       "      <td>22.1540</td>\n",
       "      <td>22.1500</td>\n",
       "      <td>...</td>\n",
       "      <td>22.2200</td>\n",
       "      <td>22.2250</td>\n",
       "      <td>22.2912</td>\n",
       "      <td>22.3400</td>\n",
       "      <td>22.3300</td>\n",
       "      <td>22.2800</td>\n",
       "      <td>22.2600</td>\n",
       "      <td>22.2500</td>\n",
       "      <td>22.2412</td>\n",
       "      <td>22.2101</td>\n",
       "    </tr>\n",
       "    <tr>\n",
       "      <th>4. close</th>\n",
       "      <td>22.1999</td>\n",
       "      <td>22.1500</td>\n",
       "      <td>22.1599</td>\n",
       "      <td>22.1200</td>\n",
       "      <td>22.1300</td>\n",
       "      <td>22.1400</td>\n",
       "      <td>22.1500</td>\n",
       "      <td>22.1800</td>\n",
       "      <td>22.1600</td>\n",
       "      <td>22.1600</td>\n",
       "      <td>...</td>\n",
       "      <td>22.2200</td>\n",
       "      <td>22.2650</td>\n",
       "      <td>22.3200</td>\n",
       "      <td>22.3550</td>\n",
       "      <td>22.3500</td>\n",
       "      <td>22.3250</td>\n",
       "      <td>22.3350</td>\n",
       "      <td>22.2850</td>\n",
       "      <td>22.2500</td>\n",
       "      <td>22.2814</td>\n",
       "    </tr>\n",
       "    <tr>\n",
       "      <th>5. volume</th>\n",
       "      <td>1337</td>\n",
       "      <td>874</td>\n",
       "      <td>234</td>\n",
       "      <td>1982</td>\n",
       "      <td>603</td>\n",
       "      <td>960</td>\n",
       "      <td>1102</td>\n",
       "      <td>776</td>\n",
       "      <td>22</td>\n",
       "      <td>314</td>\n",
       "      <td>...</td>\n",
       "      <td>22153</td>\n",
       "      <td>33699</td>\n",
       "      <td>27432</td>\n",
       "      <td>36917</td>\n",
       "      <td>62892</td>\n",
       "      <td>30555</td>\n",
       "      <td>34243</td>\n",
       "      <td>21062</td>\n",
       "      <td>30577</td>\n",
       "      <td>48461</td>\n",
       "    </tr>\n",
       "  </tbody>\n",
       "</table>\n",
       "<p>5 rows × 100 columns</p>\n",
       "</div>"
      ],
      "text/plain": [
       "          2024-09-26 19:55:00 2024-09-26 19:50:00 2024-09-26 19:45:00  \\\n",
       "1. open               22.1790             22.1501             22.1400   \n",
       "2. high               22.2000             22.1880             22.1800   \n",
       "3. low                22.1600             22.1500             22.1275   \n",
       "4. close              22.1999             22.1500             22.1599   \n",
       "5. volume                1337                 874                 234   \n",
       "\n",
       "          2024-09-26 19:40:00 2024-09-26 19:35:00 2024-09-26 19:30:00  \\\n",
       "1. open               22.1300             22.1300             22.1500   \n",
       "2. high               22.1895             22.1400             22.1600   \n",
       "3. low                22.1000             22.1000             22.1100   \n",
       "4. close              22.1200             22.1300             22.1400   \n",
       "5. volume                1982                 603                 960   \n",
       "\n",
       "          2024-09-26 19:25:00 2024-09-26 19:20:00 2024-09-26 19:15:00  \\\n",
       "1. open               22.1604             22.1800             22.1800   \n",
       "2. high               22.1800             22.1800             22.1800   \n",
       "3. low                22.1500             22.1509             22.1540   \n",
       "4. close              22.1500             22.1800             22.1600   \n",
       "5. volume                1102                 776                  22   \n",
       "\n",
       "          2024-09-26 19:10:00  ... 2024-09-26 12:25:00 2024-09-26 12:20:00  \\\n",
       "1. open               22.1800  ...             22.2601             22.3200   \n",
       "2. high               22.1800  ...             22.2900             22.3253   \n",
       "3. low                22.1500  ...             22.2200             22.2250   \n",
       "4. close              22.1600  ...             22.2200             22.2650   \n",
       "5. volume                 314  ...               22153               33699   \n",
       "\n",
       "          2024-09-26 12:15:00 2024-09-26 12:10:00 2024-09-26 12:05:00  \\\n",
       "1. open               22.3500             22.3500             22.3300   \n",
       "2. high               22.3600             22.3800             22.4293   \n",
       "3. low                22.2912             22.3400             22.3300   \n",
       "4. close              22.3200             22.3550             22.3500   \n",
       "5. volume               27432               36917               62892   \n",
       "\n",
       "          2024-09-26 12:00:00 2024-09-26 11:55:00 2024-09-26 11:50:00  \\\n",
       "1. open               22.3300             22.2900             22.2500   \n",
       "2. high               22.3498             22.3500             22.3200   \n",
       "3. low                22.2800             22.2600             22.2500   \n",
       "4. close              22.3250             22.3350             22.2850   \n",
       "5. volume               30555               34243               21062   \n",
       "\n",
       "          2024-09-26 11:45:00 2024-09-26 11:40:00  \n",
       "1. open               22.2801             22.2800  \n",
       "2. high               22.3204             22.3000  \n",
       "3. low                22.2412             22.2101  \n",
       "4. close              22.2500             22.2814  \n",
       "5. volume               30577               48461  \n",
       "\n",
       "[5 rows x 100 columns]"
      ]
     },
     "execution_count": 28,
     "metadata": {},
     "output_type": "execute_result"
    }
   ],
   "source": [
    "example = pd.DataFrame(data['Time Series (5min)'])\n",
    "example.head()"
   ]
  },
  {
   "cell_type": "code",
   "execution_count": 31,
   "id": "f5ebab3a",
   "metadata": {},
   "outputs": [],
   "source": [
    "gme.drop('Adj Close', axis=1, inplace=True)"
   ]
  },
  {
   "cell_type": "code",
   "execution_count": null,
   "id": "d4ac84c7",
   "metadata": {},
   "outputs": [],
   "source": [
    "def gather_data(start, end):\n",
    "    '''\n",
    "    Request\n",
    "    '''\n",
    "    data = {\n",
    "        \"Date:\" [],\n",
    "        \"Open:\" [],\n",
    "        \n",
    "    }"
   ]
  },
  {
   "cell_type": "code",
   "execution_count": null,
   "id": "74a5b82d",
   "metadata": {},
   "outputs": [],
   "source": [
    "gme[].append"
   ]
  }
 ],
 "metadata": {
  "kernelspec": {
   "display_name": "Python 3 (ipykernel)",
   "language": "python",
   "name": "python3"
  },
  "language_info": {
   "codemirror_mode": {
    "name": "ipython",
    "version": 3
   },
   "file_extension": ".py",
   "mimetype": "text/x-python",
   "name": "python",
   "nbconvert_exporter": "python",
   "pygments_lexer": "ipython3",
   "version": "3.9.13"
  }
 },
 "nbformat": 4,
 "nbformat_minor": 5
}
